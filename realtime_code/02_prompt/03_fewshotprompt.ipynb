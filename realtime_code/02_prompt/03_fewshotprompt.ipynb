{
 "cells": [
  {
   "cell_type": "code",
   "execution_count": 1,
   "id": "78e1e479",
   "metadata": {},
   "outputs": [],
   "source": [
    "from dotenv import load_dotenv\n",
    "load_dotenv()\n",
    "\n",
    "import os \n",
    "project_name = \"wanted_2nd_langchain_prompt_basic\"\n",
    "os.environ[\"LANGSMITH_PROJECT\"] = project_name"
   ]
  },
  {
   "cell_type": "code",
   "execution_count": 2,
   "id": "1697f1ef",
   "metadata": {},
   "outputs": [],
   "source": [
    "from langchain_openai import ChatOpenAI\n",
    "\n",
    "model = ChatOpenAI(\n",
    "    temperature=0.1,\n",
    "    model=\"gpt-4.1-mini\",\n",
    "    verbose=True\n",
    ")"
   ]
  },
  {
   "cell_type": "code",
   "execution_count": null,
   "id": "9aa1718f",
   "metadata": {},
   "outputs": [],
   "source": [
    "# FewShotPromptTemplate : \"예시 프롬프트\"를 만들 때 사용\n",
    "# → 질문/답변 예시(few-shot)를 여러 개 넣고, 마지막에 진짜 질문을 붙여서\n",
    "#   AI가 예시와 비슷한 톤이나 형식으로 답하게 도와줌\n",
    "from langchain_core.prompts.few_shot import FewShotPromptTemplate \n",
    "from langchain_core.prompts import PromptTemplate"
   ]
  },
  {
   "cell_type": "code",
   "execution_count": 8,
   "id": "cc1b14fd",
   "metadata": {},
   "outputs": [],
   "source": [
    "examples = [\n",
    "    {\"question\" : \"안녕하세요\",\n",
    "     \"answer\" : \"잘 지내나\"},\n",
    "    {\"question\" : \"맛있게 먹어\",\n",
    "     \"answer\" : \"마이 무라\"},\n",
    "    {\"question\" : \"지금 뭐하고 있어?\",\n",
    "     \"answer\" : \"지금 뭐하노?\"},\n",
    "    {\"question\" : \"지금 뭐라고 하는거야?\",\n",
    "     \"answer\" : \"뭐라카노\"},\n",
    "]"
   ]
  },
  {
   "cell_type": "code",
   "execution_count": null,
   "id": "1294e080",
   "metadata": {},
   "outputs": [
    {
     "data": {
      "text/plain": [
       "PromptTemplate(input_variables=['answer', 'question'], input_types={}, partial_variables={}, template='\\n[질문 내용]\\n{question} 을/를 경상도 사투리로 어떻게 말하나요?\\n\\n[사투리]\\n{answer}\\n')"
      ]
     },
     "execution_count": 9,
     "metadata": {},
     "output_type": "execute_result"
    }
   ],
   "source": [
    "example_prompt = PromptTemplate.from_template(\n",
    "\"\"\"\n",
    "[질문 내용]\n",
    "{question} 을/를 경상도 사투리로 어떻게 말하나요?\n",
    "\n",
    "[사투리]\n",
    "{answer}\n",
    "\"\"\"\n",
    ")\n",
    "example_prompt"
   ]
  },
  {
   "cell_type": "code",
   "execution_count": null,
   "id": "4fd99af5",
   "metadata": {},
   "outputs": [],
   "source": [
    "prompt_template = FewShotPromptTemplate(\n",
    "    examples = examples,\n",
    "    example_prompt = example_prompt,\n",
    "    suffix=\"\"\"질문 내용:\n",
    "    {question}\\n\n",
    "\n",
    "    사투리 :\n",
    "    \"\"\",\n",
    "    input_variables=[\"question\"]\n",
    ")"
   ]
  },
  {
   "cell_type": "code",
   "execution_count": null,
   "id": "6750d4e2",
   "metadata": {},
   "outputs": [
    {
     "name": "stdout",
     "output_type": "stream",
     "text": [
      "\n",
      "[질문 내용]\n",
      "안녕하세요 을/를 경상도 사투리로 어떻게 말하나요?\n",
      "\n",
      "[사투리]\n",
      "잘 지내나\n",
      "\n",
      "\n",
      "\n",
      "[질문 내용]\n",
      "맛있게 먹어 을/를 경상도 사투리로 어떻게 말하나요?\n",
      "\n",
      "[사투리]\n",
      "마이 무라\n",
      "\n",
      "\n",
      "\n",
      "[질문 내용]\n",
      "지금 뭐하고 있어? 을/를 경상도 사투리로 어떻게 말하나요?\n",
      "\n",
      "[사투리]\n",
      "지금 뭐하노?\n",
      "\n",
      "\n",
      "\n",
      "[질문 내용]\n",
      "지금 뭐라고 하는거야? 을/를 경상도 사투리로 어떻게 말하나요?\n",
      "\n",
      "[사투리]\n",
      "뭐라카노\n",
      "\n",
      "\n",
      "질문 내용:\n",
      "    안녕하세요 지금 뭐하고 있어요?\n",
      "\n",
      "\n",
      "    사투리 :\n",
      "    \n"
     ]
    }
   ],
   "source": [
    "# 사용자가 물어볼 실제 질문을 변수에 담음\n",
    "question = \"안녕하세요 지금 뭐하고 있어요?\"\n",
    "\n",
    "# FewShotPromptTemplate 에 질문을 넣어서\n",
    "# 실제로 모델에 보낼 \"최종 프롬프트 문자열\"을 생성\n",
    "q_prompt = prompt_template.format(question=question)\n",
    "\n",
    "# 최종적으로 만들어진 프롬프트 문자열을 출력\n",
    "print(q_prompt)\n"
   ]
  },
  {
   "cell_type": "code",
   "execution_count": null,
   "id": "0e1e0516",
   "metadata": {},
   "outputs": [
    {
     "name": "stdout",
     "output_type": "stream",
     "text": [
      "안녕하세요 지금 뭐하고 있어요?  \n",
      "경상도 사투리:  \n",
      "안녕하신교, 지금 뭐하노?\n"
     ]
    }
   ],
   "source": [
    "question = \"안녕하세요 지금 뭐하고 있어요?\"\n",
    "\n",
    "chain = prompt_template | model\n",
    "result = chain.invoke({\"question\": question})\n",
    "print(result.content)"
   ]
  }
 ],
 "metadata": {
  "kernelspec": {
   "display_name": "10_LangChain-Study",
   "language": "python",
   "name": "python3"
  },
  "language_info": {
   "codemirror_mode": {
    "name": "ipython",
    "version": 3
   },
   "file_extension": ".py",
   "mimetype": "text/x-python",
   "name": "python",
   "nbconvert_exporter": "python",
   "pygments_lexer": "ipython3",
   "version": "3.11.13"
  }
 },
 "nbformat": 4,
 "nbformat_minor": 5
}
