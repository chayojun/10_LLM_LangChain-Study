{
 "cells": [
  {
   "cell_type": "markdown",
   "id": "d0fff54c",
   "metadata": {},
   "source": [
    "### RAG 품질 평가\n",
    "- faithfulness : 답변이 컨텍스트에 사실적으로 답을 했는가?\n",
    "- answer_relevancy : 질문과 답변이 잘 맞는가?\n",
    "- context_precision : 가져온 문맥 중에서 필요한 부분이 얼마나 잘 포함됐나?\n",
    "- context_call : 정답에 필요한 문맥을 얼마나 빠짐없이 가져왔나?"
   ]
  },
  {
   "cell_type": "markdown",
   "id": "3726c263",
   "metadata": {},
   "source": [
    "### 품질 평가 단계\n",
    "1. 테스트 데이터 셋 만들기\n",
    "2. RAG 구축\n",
    "3. 평가\n",
    "4. 개선 반복"
   ]
  },
  {
   "cell_type": "code",
   "execution_count": 1,
   "id": "a117a843",
   "metadata": {},
   "outputs": [],
   "source": [
    "# 1. 문서 로드\n",
    "# 문서 로드를 위한 모듈\n",
    "from langchain_community.document_loaders import PyPDFLoader\n",
    "from langchain_text_splitters import RecursiveCharacterTextSplitter\n",
    "\n",
    "# 언어 모델 및 임베딩 모델 사용을 위한 모듈\n",
    "from langchain_openai import ChatOpenAI, OpenAIEmbeddings"
   ]
  },
  {
   "cell_type": "markdown",
   "id": "e684d8eb",
   "metadata": {},
   "source": [
    "### 테스트 데이터셋 만드는 컨셉\n",
    "1. 페르소나\n",
    "    1. 데이터 셋에 맞는 페르소나\n",
    "    2. 내가 넣고 싶은 페르소나\n",
    "2. 시나리오\n",
    "    1. 각 청킹(docs) 를 1개 참고해서 답변을 만들것인지\n",
    "    2. 각 청킹(docs) 를 여러 개 참고해서 답변을 만들것인지\n",
    "3. 평가 요소 가중치 설정\n",
    "    1. 5 : 2.5 : 2의 기본값\n",
    "    2. 4 : 3 : 3"
   ]
  },
  {
   "cell_type": "code",
   "execution_count": 2,
   "id": "dc20e88b",
   "metadata": {},
   "outputs": [
    {
     "name": "stdout",
     "output_type": "stream",
     "text": [
      "83\n"
     ]
    }
   ],
   "source": [
    "pdf_path = \"../00_data/Sustainability_report_2024_kr.pdf\"\n",
    "loader = PyPDFLoader(pdf_path)\n",
    "docs = loader.load()\n",
    "print(len(docs))"
   ]
  },
  {
   "cell_type": "code",
   "execution_count": 4,
   "id": "c4f708a8",
   "metadata": {},
   "outputs": [
    {
     "name": "stdout",
     "output_type": "stream",
     "text": [
      "48\n"
     ]
    }
   ],
   "source": [
    "# 2. 문서 청킹\n",
    "splitter = RecursiveCharacterTextSplitter(\n",
    "    chunk_size = 1000,\n",
    "    chunk_overlap = 100,\n",
    ")\n",
    "chunks = splitter.split_documents(docs[:20])\n",
    "print(len(chunks))"
   ]
  },
  {
   "cell_type": "code",
   "execution_count": 5,
   "id": "df07621e",
   "metadata": {},
   "outputs": [
    {
     "name": "stderr",
     "output_type": "stream",
     "text": [
      "C:\\Users\\user\\AppData\\Local\\Temp\\ipykernel_11376\\1574284387.py:6: DeprecationWarning: LangchainLLMWrapper is deprecated and will be removed in a future version. Use the modern LLM providers instead: from ragas.llms.base import llm_factory; llm = llm_factory('gpt-4o-mini') or from ragas.llms.base import instructor_llm_factory; llm = instructor_llm_factory('openai', client=openai_client)\n",
      "  gen_llm = LangchainLLMWrapper(ChatOpenAI(model=\"gpt-4.1-mini\"))\n"
     ]
    }
   ],
   "source": [
    "# 3. 시나리오 설정 및 페르소나 생성\n",
    "from ragas.llms import LangchainLLMWrapper  # 없어질 예정\n",
    "from ragas.embeddings import OpenAIEmbeddings\n",
    "import openai\n",
    "\n",
    "gen_llm = LangchainLLMWrapper(ChatOpenAI(model=\"gpt-4.1-mini\"))\n",
    "openai_client = openai.OpenAI()\n",
    "gen_embeddings = OpenAIEmbeddings(client = openai_client)"
   ]
  },
  {
   "cell_type": "code",
   "execution_count": 7,
   "id": "2bc2d72d",
   "metadata": {},
   "outputs": [],
   "source": [
    "from ragas.testset import TestsetGenerator\n",
    "\n",
    "generator = TestsetGenerator(\n",
    "    llm = gen_llm,\n",
    "    embedding_model = gen_embeddings\n",
    ")"
   ]
  },
  {
   "cell_type": "code",
   "execution_count": 8,
   "id": "18bf309e",
   "metadata": {},
   "outputs": [],
   "source": [
    "generator.persona_list"
   ]
  },
  {
   "cell_type": "markdown",
   "id": "712b786f",
   "metadata": {},
   "source": [
    "### 자동 생성 페르소나 + 커스텀 페르소나\n",
    "1. 우선 testset 하나를 만들어야함\n",
    "2. 자동 생성 페르소나\n",
    "3. 커스텀 페르소나를 추가"
   ]
  },
  {
   "cell_type": "code",
   "execution_count": 9,
   "id": "bb5cdbb2",
   "metadata": {},
   "outputs": [
    {
     "data": {
      "application/vnd.jupyter.widget-view+json": {
       "model_id": "ac4f3e850b48404282802b57dae03763",
       "version_major": 2,
       "version_minor": 0
      },
      "text/plain": [
       "Applying HeadlinesExtractor:   0%|          | 0/39 [00:00<?, ?it/s]"
      ]
     },
     "metadata": {},
     "output_type": "display_data"
    },
    {
     "data": {
      "application/vnd.jupyter.widget-view+json": {
       "model_id": "e7bdbebd5b3244efad64aace830e9e24",
       "version_major": 2,
       "version_minor": 0
      },
      "text/plain": [
       "Applying HeadlineSplitter:   0%|          | 0/48 [00:00<?, ?it/s]"
      ]
     },
     "metadata": {},
     "output_type": "display_data"
    },
    {
     "data": {
      "application/vnd.jupyter.widget-view+json": {
       "model_id": "ce6fb8ace4c141edb89142c4483740d8",
       "version_major": 2,
       "version_minor": 0
      },
      "text/plain": [
       "Applying SummaryExtractor:   0%|          | 0/46 [00:00<?, ?it/s]"
      ]
     },
     "metadata": {},
     "output_type": "display_data"
    },
    {
     "name": "stderr",
     "output_type": "stream",
     "text": [
      "Property 'summary' already exists in node 'a63a48'. Skipping!\n",
      "Property 'summary' already exists in node 'e233e6'. Skipping!\n",
      "Property 'summary' already exists in node '07f19b'. Skipping!\n",
      "Property 'summary' already exists in node '82a5c6'. Skipping!\n",
      "Property 'summary' already exists in node '254b0c'. Skipping!\n",
      "Property 'summary' already exists in node 'a4cabb'. Skipping!\n",
      "Property 'summary' already exists in node '0943b0'. Skipping!\n"
     ]
    },
    {
     "data": {
      "application/vnd.jupyter.widget-view+json": {
       "model_id": "d2887781d95746acbc86e654e858e836",
       "version_major": 2,
       "version_minor": 0
      },
      "text/plain": [
       "Applying CustomNodeFilter:   0%|          | 0/72 [00:00<?, ?it/s]"
      ]
     },
     "metadata": {},
     "output_type": "display_data"
    },
    {
     "data": {
      "application/vnd.jupyter.widget-view+json": {
       "model_id": "ee3af5d1cbdd4c798adc9682c5817c3d",
       "version_major": 2,
       "version_minor": 0
      },
      "text/plain": [
       "Applying EmbeddingExtractor:   0%|          | 0/46 [00:00<?, ?it/s]"
      ]
     },
     "metadata": {},
     "output_type": "display_data"
    },
    {
     "name": "stderr",
     "output_type": "stream",
     "text": [
      "c:\\POTENUP\\10_LLM_LangChain-Study\\.venv\\Lib\\site-packages\\ragas\\testset\\transforms\\base.py:188: UserWarning: Using sync embedding model OpenAIEmbeddings in async context. This may impact performance. Consider using an async-compatible embedding model for better performance.\n",
      "  property_name, property_value = await self.extract(node)\n",
      "Property 'summary_embedding' already exists in node '0943b0'. Skipping!\n",
      "Property 'summary_embedding' already exists in node 'a4cabb'. Skipping!\n",
      "Property 'summary_embedding' already exists in node '254b0c'. Skipping!\n",
      "Property 'summary_embedding' already exists in node 'a63a48'. Skipping!\n",
      "Property 'summary_embedding' already exists in node 'e233e6'. Skipping!\n",
      "Property 'summary_embedding' already exists in node '82a5c6'. Skipping!\n",
      "Property 'summary_embedding' already exists in node '07f19b'. Skipping!\n"
     ]
    },
    {
     "data": {
      "application/vnd.jupyter.widget-view+json": {
       "model_id": "643d432ef66d4802bec096ada81a1877",
       "version_major": 2,
       "version_minor": 0
      },
      "text/plain": [
       "Applying ThemesExtractor:   0%|          | 0/62 [00:00<?, ?it/s]"
      ]
     },
     "metadata": {},
     "output_type": "display_data"
    },
    {
     "data": {
      "application/vnd.jupyter.widget-view+json": {
       "model_id": "3e9421e35f214120925dd153653c8861",
       "version_major": 2,
       "version_minor": 0
      },
      "text/plain": [
       "Applying NERExtractor:   0%|          | 0/62 [00:00<?, ?it/s]"
      ]
     },
     "metadata": {},
     "output_type": "display_data"
    },
    {
     "data": {
      "application/vnd.jupyter.widget-view+json": {
       "model_id": "093402cdefbc4022afdfa36a99f2f9e1",
       "version_major": 2,
       "version_minor": 0
      },
      "text/plain": [
       "Applying CosineSimilarityBuilder:   0%|          | 0/1 [00:00<?, ?it/s]"
      ]
     },
     "metadata": {},
     "output_type": "display_data"
    },
    {
     "data": {
      "application/vnd.jupyter.widget-view+json": {
       "model_id": "bb2d4aae7258472f923a0015ee861377",
       "version_major": 2,
       "version_minor": 0
      },
      "text/plain": [
       "Applying OverlapScoreBuilder:   0%|          | 0/1 [00:00<?, ?it/s]"
      ]
     },
     "metadata": {},
     "output_type": "display_data"
    },
    {
     "data": {
      "application/vnd.jupyter.widget-view+json": {
       "model_id": "1175bc1271274830afb8c181ab9e1ec0",
       "version_major": 2,
       "version_minor": 0
      },
      "text/plain": [
       "Generating personas:   0%|          | 0/3 [00:00<?, ?it/s]"
      ]
     },
     "metadata": {},
     "output_type": "display_data"
    },
    {
     "data": {
      "application/vnd.jupyter.widget-view+json": {
       "model_id": "885f79b341fd4b64a65b46aa8526a16f",
       "version_major": 2,
       "version_minor": 0
      },
      "text/plain": [
       "Generating Scenarios:   0%|          | 0/3 [00:00<?, ?it/s]"
      ]
     },
     "metadata": {},
     "output_type": "display_data"
    },
    {
     "data": {
      "application/vnd.jupyter.widget-view+json": {
       "model_id": "8d6f5885f20f4be48b136ad95f5cb36a",
       "version_major": 2,
       "version_minor": 0
      },
      "text/plain": [
       "Generating Samples:   0%|          | 0/3 [00:00<?, ?it/s]"
      ]
     },
     "metadata": {},
     "output_type": "display_data"
    }
   ],
   "source": [
    "dataset_test = generator.generate_with_langchain_docs(\n",
    "    documents = chunks,\n",
    "    testset_size = 1\n",
    ")"
   ]
  },
  {
   "cell_type": "code",
   "execution_count": 10,
   "id": "435aa0fc",
   "metadata": {},
   "outputs": [
    {
     "data": {
      "text/plain": [
       "[Persona(name='Corporate Sustainability Manager', role_description='Oversees ESG reporting and compliance with evolving global sustainability regulations while aligning business strategy with long-term technological and environmental goals.'),\n",
       " Persona(name='Sustainability and Environmental Compliance Manager', role_description='Oversees and implements sustainability initiatives, ensures compliance with environmental standards, and drives efforts to reduce carbon footprint and waste across manufacturing and supply chain operations.'),\n",
       " Persona(name='Sustainability Program Manager', role_description='Leads initiatives to assess and improve environmental and social impacts, engages diverse stakeholders, and aligns corporate strategies with ESG standards and global sustainability goals.')]"
      ]
     },
     "execution_count": 10,
     "metadata": {},
     "output_type": "execute_result"
    }
   ],
   "source": [
    "generator.persona_list"
   ]
  },
  {
   "cell_type": "code",
   "execution_count": null,
   "id": "7c222425",
   "metadata": {},
   "outputs": [
    {
     "data": {
      "text/html": [
       "<div>\n",
       "<style scoped>\n",
       "    .dataframe tbody tr th:only-of-type {\n",
       "        vertical-align: middle;\n",
       "    }\n",
       "\n",
       "    .dataframe tbody tr th {\n",
       "        vertical-align: top;\n",
       "    }\n",
       "\n",
       "    .dataframe thead th {\n",
       "        text-align: right;\n",
       "    }\n",
       "</style>\n",
       "<table border=\"1\" class=\"dataframe\">\n",
       "  <thead>\n",
       "    <tr style=\"text-align: right;\">\n",
       "      <th></th>\n",
       "      <th>user_input</th>\n",
       "      <th>reference_contexts</th>\n",
       "      <th>reference</th>\n",
       "      <th>synthesizer_name</th>\n",
       "    </tr>\n",
       "  </thead>\n",
       "  <tbody>\n",
       "    <tr>\n",
       "      <th>0</th>\n",
       "      <td>삼성전자는 공급망 실사지침에 어떻게 대응하고 있나요?</td>\n",
       "      <td>[Facts &amp; Figures PrinciplePlanet People\\nCEO 메...</td>\n",
       "      <td>삼성전자는 독일에서 2023년 발효된 공급망실사법과 2024년 5월 확정되는 EU ...</td>\n",
       "      <td>single_hop_specific_query_synthesizer</td>\n",
       "    </tr>\n",
       "    <tr>\n",
       "      <th>1</th>\n",
       "      <td>How does Samsung Electronics analyze the envir...</td>\n",
       "      <td>[&lt;1-hop&gt;\\n\\n삼성전자 지속가능경영보고서 2024\\n09\\nOur Compa...</td>\n",
       "      <td>Samsung Electronics conducts a comprehensive a...</td>\n",
       "      <td>multi_hop_abstract_query_synthesizer</td>\n",
       "    </tr>\n",
       "    <tr>\n",
       "      <th>2</th>\n",
       "      <td>How DX부문 manage 온실가스 risk and plan carbon zero...</td>\n",
       "      <td>[&lt;1-hop&gt;\\n\\n리스크 관리\\nDX부문은 기후변화와 관련된 리스 크의 실질적인...</td>\n",
       "      <td>DX부문 manage 온실가스 risk by identifying financial...</td>\n",
       "      <td>multi_hop_specific_query_synthesizer</td>\n",
       "    </tr>\n",
       "  </tbody>\n",
       "</table>\n",
       "</div>"
      ],
      "text/plain": [
       "                                          user_input  ...                       synthesizer_name\n",
       "0                      삼성전자는 공급망 실사지침에 어떻게 대응하고 있나요?  ...  single_hop_specific_query_synthesizer\n",
       "1  How does Samsung Electronics analyze the envir...  ...   multi_hop_abstract_query_synthesizer\n",
       "2  How DX부문 manage 온실가스 risk and plan carbon zero...  ...   multi_hop_specific_query_synthesizer\n",
       "\n",
       "[3 rows x 4 columns]"
      ]
     },
     "execution_count": 11,
     "metadata": {},
     "output_type": "execute_result"
    }
   ],
   "source": [
    "test_df = dataset_test.to_pandas()\n",
    "test_df "
   ]
  },
  {
   "cell_type": "code",
   "execution_count": 12,
   "id": "af70ab8c",
   "metadata": {},
   "outputs": [],
   "source": [
    "# 커스텀 페르소나 만들기\n",
    "from ragas.testset.persona import Persona\n",
    "custom_personas = [\n",
    "    Persona(name='Stock Investor', role_description='Analyzes financial performance, market trends, and corporate strategy to make informed decisions about buying, selling, or holding company shares.'),\n",
    "    Persona(name='Job Seeker', role_description='Researches company culture, values, and career opportunities to prepare for the application and interview process, aiming to secure employment.'),\n",
    "    Persona(name='Business Partner', role_description='Represents a partner or supplier company, managing the collaborative relationship, overseeing joint projects, and ensuring contractual obligations are met.')\n",
    "]"
   ]
  },
  {
   "cell_type": "code",
   "execution_count": 13,
   "id": "83623ac0",
   "metadata": {},
   "outputs": [
    {
     "data": {
      "text/plain": [
       "[Persona(name='Corporate Sustainability Manager', role_description='Oversees ESG reporting and compliance with evolving global sustainability regulations while aligning business strategy with long-term technological and environmental goals.'),\n",
       " Persona(name='Sustainability and Environmental Compliance Manager', role_description='Oversees and implements sustainability initiatives, ensures compliance with environmental standards, and drives efforts to reduce carbon footprint and waste across manufacturing and supply chain operations.'),\n",
       " Persona(name='Sustainability Program Manager', role_description='Leads initiatives to assess and improve environmental and social impacts, engages diverse stakeholders, and aligns corporate strategies with ESG standards and global sustainability goals.')]"
      ]
     },
     "execution_count": 13,
     "metadata": {},
     "output_type": "execute_result"
    }
   ],
   "source": [
    "auto_persona = generator.persona_list\n",
    "auto_persona"
   ]
  },
  {
   "cell_type": "code",
   "execution_count": 14,
   "id": "8bc553da",
   "metadata": {},
   "outputs": [
    {
     "data": {
      "text/plain": [
       "[Persona(name='Corporate Sustainability Manager', role_description='Oversees ESG reporting and compliance with evolving global sustainability regulations while aligning business strategy with long-term technological and environmental goals.'),\n",
       " Persona(name='Sustainability and Environmental Compliance Manager', role_description='Oversees and implements sustainability initiatives, ensures compliance with environmental standards, and drives efforts to reduce carbon footprint and waste across manufacturing and supply chain operations.'),\n",
       " Persona(name='Sustainability Program Manager', role_description='Leads initiatives to assess and improve environmental and social impacts, engages diverse stakeholders, and aligns corporate strategies with ESG standards and global sustainability goals.'),\n",
       " Persona(name='Stock Investor', role_description='Analyzes financial performance, market trends, and corporate strategy to make informed decisions about buying, selling, or holding company shares.'),\n",
       " Persona(name='Job Seeker', role_description='Researches company culture, values, and career opportunities to prepare for the application and interview process, aiming to secure employment.'),\n",
       " Persona(name='Business Partner', role_description='Represents a partner or supplier company, managing the collaborative relationship, overseeing joint projects, and ensuring contractual obligations are met.')]"
      ]
     },
     "execution_count": 14,
     "metadata": {},
     "output_type": "execute_result"
    }
   ],
   "source": [
    "generator.persona_list = auto_persona + custom_personas\n",
    "generator.persona_list"
   ]
  },
  {
   "cell_type": "code",
   "execution_count": 15,
   "id": "232bc683",
   "metadata": {},
   "outputs": [],
   "source": [
    "# 비율 조정\n",
    "from ragas.testset.synthesizers.multi_hop import (\n",
    "    MultiHopAbstractQuerySynthesizer,\n",
    "    MultiHopSpecificQuerySynthesizer,\n",
    ")\n",
    "from ragas.testset.synthesizers.single_hop.specific import (\n",
    "    SingleHopSpecificQuerySynthesizer,\n",
    ")\n",
    "from ragas.llms.base import llm_factory\n",
    "\n",
    "ragas_llm = llm_factory(model = \"gpt-4.1-mini\")\n",
    "\n",
    "scenarios = [\n",
    "    (SingleHopSpecificQuerySynthesizer(llm=ragas_llm), 0.4),\n",
    "    (MultiHopAbstractQuerySynthesizer(llm=ragas_llm), 0.3),\n",
    "    (MultiHopSpecificQuerySynthesizer(llm=ragas_llm), 0.3)\n",
    "]"
   ]
  },
  {
   "cell_type": "code",
   "execution_count": 16,
   "id": "cd86da6c",
   "metadata": {},
   "outputs": [
    {
     "data": {
      "application/vnd.jupyter.widget-view+json": {
       "model_id": "60e7a9c9e4c548ff818286b5430d0a3a",
       "version_major": 2,
       "version_minor": 0
      },
      "text/plain": [
       "Generating Scenarios:   0%|          | 0/3 [00:00<?, ?it/s]"
      ]
     },
     "metadata": {},
     "output_type": "display_data"
    },
    {
     "data": {
      "application/vnd.jupyter.widget-view+json": {
       "model_id": "1d5b52a7f107438f9518b576d98def2d",
       "version_major": 2,
       "version_minor": 0
      },
      "text/plain": [
       "Generating Samples:   0%|          | 0/100 [00:00<?, ?it/s]"
      ]
     },
     "metadata": {},
     "output_type": "display_data"
    }
   ],
   "source": [
    "dataset = generator.generate(\n",
    "    testset_size = 100,\n",
    "    query_distribution = scenarios\n",
    ")"
   ]
  },
  {
   "cell_type": "code",
   "execution_count": 17,
   "id": "eca5d9bb",
   "metadata": {},
   "outputs": [
    {
     "data": {
      "text/html": [
       "<div>\n",
       "<style scoped>\n",
       "    .dataframe tbody tr th:only-of-type {\n",
       "        vertical-align: middle;\n",
       "    }\n",
       "\n",
       "    .dataframe tbody tr th {\n",
       "        vertical-align: top;\n",
       "    }\n",
       "\n",
       "    .dataframe thead th {\n",
       "        text-align: right;\n",
       "    }\n",
       "</style>\n",
       "<table border=\"1\" class=\"dataframe\">\n",
       "  <thead>\n",
       "    <tr style=\"text-align: right;\">\n",
       "      <th></th>\n",
       "      <th>user_input</th>\n",
       "      <th>reference_contexts</th>\n",
       "      <th>reference</th>\n",
       "      <th>synthesizer_name</th>\n",
       "    </tr>\n",
       "  </thead>\n",
       "  <tbody>\n",
       "    <tr>\n",
       "      <th>0</th>\n",
       "      <td>독일에서 2023년에 발효된 공급망 관련 법은 무엇인가요?</td>\n",
       "      <td>[Facts &amp; Figures PrinciplePlanet People\\nCEO 메...</td>\n",
       "      <td>독일에서는 공급망의 인권과 근로환경 관리를 의무화하는 공급망실사법이 2023년에 발...</td>\n",
       "      <td>single_hop_specific_query_synthesizer</td>\n",
       "    </tr>\n",
       "    <tr>\n",
       "      <th>1</th>\n",
       "      <td>Could you please explain the role and signific...</td>\n",
       "      <td>[접수된 고충의 처리 원칙에 대한 기준을 수립하였고, 공급망 관리에 \\n있어서는 비...</td>\n",
       "      <td>희망별숲 is a subsidiary company established in Ma...</td>\n",
       "      <td>single_hop_specific_query_synthesizer</td>\n",
       "    </tr>\n",
       "    <tr>\n",
       "      <th>2</th>\n",
       "      <td>Could you explain the role of the 글로벌 행동규범 in ...</td>\n",
       "      <td>[삼성전자 지속가능경영보고서 2024\\n05\\nOur Company Appendix...</td>\n",
       "      <td>Samsung Electronics has established the 글로벌 행동...</td>\n",
       "      <td>single_hop_specific_query_synthesizer</td>\n",
       "    </tr>\n",
       "    <tr>\n",
       "      <th>3</th>\n",
       "      <td>What is the role of 메모리 반도체 in Samsung Electro...</td>\n",
       "      <td>[Our Company AppendixMateriality Assessment Fa...</td>\n",
       "      <td>메모리 반도체 사업은 삼성전자의 DS(Device Solutions) 부문에 속하며...</td>\n",
       "      <td>single_hop_specific_query_synthesizer</td>\n",
       "    </tr>\n",
       "    <tr>\n",
       "      <th>4</th>\n",
       "      <td>What DS Device Solutions mean in context of 20...</td>\n",
       "      <td>[Device eXperienceDX\\n DS Device Solutions\\n메모...</td>\n",
       "      <td>DS Device Solutions refers to a segment mentio...</td>\n",
       "      <td>single_hop_specific_query_synthesizer</td>\n",
       "    </tr>\n",
       "  </tbody>\n",
       "</table>\n",
       "</div>"
      ],
      "text/plain": [
       "                                          user_input  ...                       synthesizer_name\n",
       "0                   독일에서 2023년에 발효된 공급망 관련 법은 무엇인가요?  ...  single_hop_specific_query_synthesizer\n",
       "1  Could you please explain the role and signific...  ...  single_hop_specific_query_synthesizer\n",
       "2  Could you explain the role of the 글로벌 행동규범 in ...  ...  single_hop_specific_query_synthesizer\n",
       "3  What is the role of 메모리 반도체 in Samsung Electro...  ...  single_hop_specific_query_synthesizer\n",
       "4  What DS Device Solutions mean in context of 20...  ...  single_hop_specific_query_synthesizer\n",
       "\n",
       "[5 rows x 4 columns]"
      ]
     },
     "execution_count": 17,
     "metadata": {},
     "output_type": "execute_result"
    }
   ],
   "source": [
    "dataset_df = dataset.to_pandas()\n",
    "dataset_df.head()"
   ]
  },
  {
   "cell_type": "code",
   "execution_count": 18,
   "id": "83b7914d",
   "metadata": {},
   "outputs": [],
   "source": [
    "dataset_df.to_excel(\"report_2024_test.xlsx\", index = False)"
   ]
  }
 ],
 "metadata": {
  "kernelspec": {
   "display_name": "10_LangChain-Study",
   "language": "python",
   "name": "python3"
  },
  "language_info": {
   "codemirror_mode": {
    "name": "ipython",
    "version": 3
   },
   "file_extension": ".py",
   "mimetype": "text/x-python",
   "name": "python",
   "nbconvert_exporter": "python",
   "pygments_lexer": "ipython3",
   "version": "3.11.13"
  }
 },
 "nbformat": 4,
 "nbformat_minor": 5
}
