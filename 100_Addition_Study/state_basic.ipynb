{
 "cells": [
  {
   "cell_type": "code",
   "execution_count": 20,
   "id": "2b2562b4",
   "metadata": {},
   "outputs": [
    {
     "data": {
      "text/plain": [
       "True"
      ]
     },
     "execution_count": 20,
     "metadata": {},
     "output_type": "execute_result"
    }
   ],
   "source": [
    "from typing import TypedDict, Optional\n",
    "from langgraph.graph import StateGraph, START, END\n",
    "from langchain_openai import ChatOpenAI # llm 모델 사용하기 위한 모듈\n",
    "from langchain_core.messages import HumanMessage, AIMessage # message 양식 처리를 위한 모듈\n",
    "\n",
    "from dotenv import load_dotenv\n",
    "load_dotenv()"
   ]
  },
  {
   "cell_type": "markdown",
   "id": "f89721a7",
   "metadata": {},
   "source": [
    "### 1. 복잡한 State를 정의"
   ]
  },
  {
   "cell_type": "code",
   "execution_count": 21,
   "id": "db0d9d99",
   "metadata": {},
   "outputs": [],
   "source": [
    "class UserProfile(TypedDict):\n",
    "    name : str\n",
    "    age : Optional[int]\n",
    "    hobbies : list[str]\n",
    "    location : str\n",
    "    is_complete : bool\n",
    "\n",
    "llm = ChatOpenAI(\n",
    "    model=\"gpt-4.1-mini\",\n",
    "    temperature=0.2\n",
    ")"
   ]
  },
  {
   "cell_type": "markdown",
   "id": "6d049a65",
   "metadata": {},
   "source": [
    "### 2. 단계별 정보를 수집하는 노드"
   ]
  },
  {
   "cell_type": "code",
   "execution_count": 75,
   "id": "76121c4e",
   "metadata": {},
   "outputs": [],
   "source": [
    "# 1. 이름 수집하기\n",
    "def collect_name(state : UserProfile) -> UserProfile:\n",
    "    \"\"\"이 노드는 유저가 이름을 차요준 이렇게 써도 되지만\n",
    "    내이름은 차요준이야 이렇게 했을 때도 -> 차요준 으로 되도록 llm 처리\n",
    "    하려는 노드\"\"\"\n",
    "    print(\"Step 1: 이름 수집 단계 진행\")\n",
    "\n",
    "    # 필요한 로직이 있다면 추가해주세요.\n",
    "    name = state.get(\"name\", \"홍길동\") # 만약 내가 내이름은 차요준이야 라고 적었다면 name = \"내이름은 차요준이야\"\n",
    "    response = llm.invoke([HumanMessage(content=f\"{name}에서 이름을 추출해서 이름만 반환하세요.\")])\n",
    "\n",
    "    print(\"원래 입력한 값은\", name, \"처리한 값은\", response)\n",
    "\n",
    "\n",
    "    return {\n",
    "        **state,\n",
    "        \"name\" : response.content\n",
    "    }\n",
    "\n",
    "# 2. 나이 수집하기\n",
    "def collection_age(state : UserProfile) -> UserProfile:\n",
    "    \"\"\"이 노드는 나이가 28 이렇게 써도 되지만\n",
    "    내나이는 28살이야라고 했을 때 -> 28 으로 되도록 llm 처리\"\"\"\n",
    "    print(\"Step 2: 나이 수집 단계 진행\")\n",
    "\n",
    "    # 필요한 로직이 있다면 추가하기\n",
    "    age = state.get(\"age\", 28)\n",
    "    response = llm.invoke([HumanMessage(content=f\"{age}에서 나이만 추출해서 나이만 반환하세요\")])\n",
    "\n",
    "    print(\"원래 입력 값은\", age, \"처리한 값은\", response)\n",
    "\n",
    "\n",
    "    return {\n",
    "        **state,\n",
    "        \"age\" : response.content\n",
    "    }\n",
    "\n",
    "\n",
    "# 3. 취미 수집하기\n",
    "def collection_hobbies(state : UserProfile) -> UserProfile:\n",
    "    \"\"\"이 노드는 나의 취미는 달리기야 라고 써도 되지만\n",
    "    나의 취미는 달리기 라고 했을 때 -> 달리기 으로 되도록 llm 처리\"\"\"\n",
    "    print(\"Step 3: 취미 수집 단계 진행\")\n",
    "    hobbies = state.get(\"hobbies\", [\"달리기\", \"영화시청\"])\n",
    "    response = llm.invoke([HumanMessage(content=f\"{hobbies}에서 취미만 추출해서 취미만 반환하세요\")])\n",
    "\n",
    "    print(\"원래 입력 값은\", hobbies, \"처리한 값은\", response)\n",
    "\n",
    "    return {\n",
    "        **state,\n",
    "        \"hobbies\" : response.content\n",
    "    }\n",
    "\n",
    "# 4. 위치 수집하기\n",
    "def collection_location(state: UserProfile) -> UserProfile:\n",
    "    \"\"\"이 노드는 나의 위치는 정배리야 라고 써도 되지만\n",
    "    나의 위치는 정배리야 했을 때 -> 정배리 으로 되도록 llm 처리\"\"\"\n",
    "    print(\"Step 4: 위치 수집 단계 진행\")\n",
    "    location = state.get(\"location\", \"정배리\")\n",
    "    response = llm.invoke([HumanMessage(content=f\"{location}에서 위치만 추출해서 위치만 반환하세요\")])\n",
    "\n",
    "    print(\"원래 입력 값은\", location, \"처리한 값은\", response)\n",
    "\n",
    "    return {\n",
    "        \"location\" : response.content\n",
    "    }\n",
    "\n",
    "# 5. 완료 상태 확인\n",
    "def collection_is_complete(state: UserProfile) -> UserProfile:\n",
    "    \"\"\"이 노드는 모든 필수 정보가 수집 되었는지 확인하고 \n",
    "    완료 상태를 설정하는 노드입니다.\"\"\"\n",
    "\n",
    "    # 필수 필드들이 모두 채워져 있는지 확인\n",
    "    is_complete = all([\n",
    "        state.get(\"name\"), # 이름이 있는지\n",
    "        state.get(\"age\"), # 나이가 있는지\n",
    "        state.get(\"hobbies\"), # 취미가 있는지\n",
    "        state.get(\"location\") # 위치가 있는지\n",
    "    ])\n",
    "\n",
    "    return {\n",
    "        **state,\n",
    "        \"is_complete\" : is_complete\n",
    "    }"
   ]
  },
  {
   "cell_type": "markdown",
   "id": "ad9f2b64",
   "metadata": {},
   "source": [
    "### 3. 그래프 생성"
   ]
  },
  {
   "cell_type": "code",
   "execution_count": 76,
   "id": "f6abbe97",
   "metadata": {},
   "outputs": [
    {
     "data": {
      "image/png": "[encoded data removed]",
      "text/plain": [
       "<langgraph.graph.state.CompiledStateGraph object at 0x00000277BCB79450>"
      ]
     },
     "execution_count": 76,
     "metadata": {},
     "output_type": "execute_result"
    }
   ],
   "source": [
    "workflow = StateGraph(UserProfile)\n",
    "\n",
    "# 노드 추가\n",
    "workflow.add_node(\"name\", collect_name)\n",
    "workflow.add_node(\"age\", collection_age)\n",
    "workflow.add_node(\"hobbies\", collection_hobbies)\n",
    "workflow.add_node(\"location\", collection_location)\n",
    "workflow.add_node(\"is_complete\", collection_is_complete)\n",
    "\n",
    "# 시작점\n",
    "workflow.add_edge(START, \"name\")\n",
    "\n",
    "# 엣지\n",
    "workflow.add_edge(\"name\", \"age\")\n",
    "workflow.add_edge(\"age\", \"hobbies\")\n",
    "workflow.add_edge(\"hobbies\", \"location\")\n",
    "workflow.add_edge(\"location\", \"is_complete\")\n",
    "\n",
    "# 끝점\n",
    "workflow.add_edge(\"is_complete\", END)\n",
    "\n",
    "# 컴파일\n",
    "app = workflow.compile()\n",
    "app\n",
    "\n",
    "# workflow.__dict__"
   ]
  },
  {
   "cell_type": "code",
   "execution_count": 78,
   "id": "981f2bc0",
   "metadata": {},
   "outputs": [
    {
     "name": "stdout",
     "output_type": "stream",
     "text": [
      "Step 1: 이름 수집 단계 진행\n",
      "원래 입력한 값은 나는 차요준입니다. 처리한 값은 content='차요준' additional_kwargs={'refusal': None} response_metadata={'token_usage': {'completion_tokens': 3, 'prompt_tokens': 24, 'total_tokens': 27, 'completion_tokens_details': {'accepted_prediction_tokens': 0, 'audio_tokens': 0, 'reasoning_tokens': 0, 'rejected_prediction_tokens': 0}, 'prompt_tokens_details': {'audio_tokens': 0, 'cached_tokens': 0}}, 'model_name': 'gpt-4.1-mini-2025-04-14', 'system_fingerprint': 'fp_4c2851f862', 'id': 'chatcmpl-CVePeuPl4Nnuzj4TRNau5CZriJrlE', 'service_tier': 'default', 'finish_reason': 'stop', 'logprobs': None} id='run--f231e4c3-0e33-4936-9ea0-74df028623f6-0' usage_metadata={'input_tokens': 24, 'output_tokens': 3, 'total_tokens': 27, 'input_token_details': {'audio': 0, 'cache_read': 0}, 'output_token_details': {'audio': 0, 'reasoning': 0}}\n",
      "Step 2: 나이 수집 단계 진행\n",
      "원래 입력 값은 나는 28살 이야 처리한 값은 content='28' additional_kwargs={'refusal': None} response_metadata={'token_usage': {'completion_tokens': 1, 'prompt_tokens': 24, 'total_tokens': 25, 'completion_tokens_details': {'accepted_prediction_tokens': 0, 'audio_tokens': 0, 'reasoning_tokens': 0, 'rejected_prediction_tokens': 0}, 'prompt_tokens_details': {'audio_tokens': 0, 'cached_tokens': 0}}, 'model_name': 'gpt-4.1-mini-2025-04-14', 'system_fingerprint': 'fp_4c2851f862', 'id': 'chatcmpl-CVePehqa1zbjXnm2Kbcc0Lkw3dQHd', 'service_tier': 'default', 'finish_reason': 'stop', 'logprobs': None} id='run--b53402ed-f2fb-4d08-8cee-c628a17f0fd7-0' usage_metadata={'input_tokens': 24, 'output_tokens': 1, 'total_tokens': 25, 'input_token_details': {'audio': 0, 'cache_read': 0}, 'output_token_details': {'audio': 0, 'reasoning': 0}}\n",
      "Step 3: 취미 수집 단계 진행\n",
      "원래 입력 값은 ['나는 달리기를 좋아해', '나는 영화시청을 좋아해'] 처리한 값은 content=\"['달리기', '영화시청']\" additional_kwargs={'refusal': None} response_metadata={'token_usage': {'completion_tokens': 11, 'prompt_tokens': 36, 'total_tokens': 47, 'completion_tokens_details': {'accepted_prediction_tokens': 0, 'audio_tokens': 0, 'reasoning_tokens': 0, 'rejected_prediction_tokens': 0}, 'prompt_tokens_details': {'audio_tokens': 0, 'cached_tokens': 0}}, 'model_name': 'gpt-4.1-mini-2025-04-14', 'system_fingerprint': 'fp_4c2851f862', 'id': 'chatcmpl-CVePfMkl4RWKVf2j2O0oUhU25efga', 'service_tier': 'default', 'finish_reason': 'stop', 'logprobs': None} id='run--dffe4efc-15d5-4d0a-9019-9569f15ea34b-0' usage_metadata={'input_tokens': 36, 'output_tokens': 11, 'total_tokens': 47, 'input_token_details': {'audio': 0, 'cache_read': 0}, 'output_token_details': {'audio': 0, 'reasoning': 0}}\n",
      "Step 4: 위치 수집 단계 진행\n",
      "원래 입력 값은 나는 정배리에서 살고있어요. 처리한 값은 content='정배리' additional_kwargs={'refusal': None} response_metadata={'token_usage': {'completion_tokens': 3, 'prompt_tokens': 27, 'total_tokens': 30, 'completion_tokens_details': {'accepted_prediction_tokens': 0, 'audio_tokens': 0, 'reasoning_tokens': 0, 'rejected_prediction_tokens': 0}, 'prompt_tokens_details': {'audio_tokens': 0, 'cached_tokens': 0}}, 'model_name': 'gpt-4.1-mini-2025-04-14', 'system_fingerprint': 'fp_4c2851f862', 'id': 'chatcmpl-CVePfJ3h2Yg6VcYnbmU9B1rt8PUOS', 'service_tier': 'default', 'finish_reason': 'stop', 'logprobs': None} id='run--40edb199-f500-495e-8fe2-187f0c284f7c-0' usage_metadata={'input_tokens': 27, 'output_tokens': 3, 'total_tokens': 30, 'input_token_details': {'audio': 0, 'cache_read': 0}, 'output_token_details': {'audio': 0, 'reasoning': 0}}\n",
      "{'name': '차요준', 'age': '28', 'hobbies': \"['달리기', '영화시청']\", 'location': '정배리', 'is_complete': True}\n"
     ]
    }
   ],
   "source": [
    "init_state = {\n",
    "    \"name\" : \"나는 차요준입니다.\",\n",
    "    \"age\" : \"나는 28살 이야\",\n",
    "    \"hobbies\" : [\"나는 달리기를 좋아해\", \"나는 영화시청을 좋아해\"],\n",
    "    \"location\" : \"나는 정배리에서 살고있어요.\",\n",
    "    \"is_complete\" : True\n",
    "}\n",
    "\n",
    "result = app.invoke(init_state)\n",
    "print(result)"
   ]
  },
  {
   "cell_type": "code",
   "execution_count": null,
   "id": "799f83cb",
   "metadata": {},
   "outputs": [
    {
     "data": {
      "text/plain": [
       "'28'"
      ]
     },
     "execution_count": 51,
     "metadata": {},
     "output_type": "execute_result"
    }
   ],
   "source": [
    "result[\"name\"]"
   ]
  },
  {
   "cell_type": "code",
   "execution_count": 53,
   "id": "a8a1441b",
   "metadata": {},
   "outputs": [
    {
     "data": {
      "text/plain": [
       "'28'"
      ]
     },
     "execution_count": 53,
     "metadata": {},
     "output_type": "execute_result"
    }
   ],
   "source": [
    "result[\"age\"]"
   ]
  },
  {
   "cell_type": "code",
   "execution_count": 52,
   "id": "04664375",
   "metadata": {},
   "outputs": [
    {
     "data": {
      "text/plain": [
       "\"['달리기']\""
      ]
     },
     "execution_count": 52,
     "metadata": {},
     "output_type": "execute_result"
    }
   ],
   "source": [
    "result[\"hobbies\"]"
   ]
  },
  {
   "cell_type": "code",
   "execution_count": 79,
   "id": "ee87e399",
   "metadata": {},
   "outputs": [
    {
     "data": {
      "text/plain": [
       "'정배리'"
      ]
     },
     "execution_count": 79,
     "metadata": {},
     "output_type": "execute_result"
    }
   ],
   "source": [
    "result[\"location\"]"
   ]
  },
  {
   "cell_type": "code",
   "execution_count": 80,
   "id": "27684e95",
   "metadata": {},
   "outputs": [
    {
     "data": {
      "text/plain": [
       "True"
      ]
     },
     "execution_count": 80,
     "metadata": {},
     "output_type": "execute_result"
    }
   ],
   "source": [
    "result[\"is_complete\"]"
   ]
  }
 ],
 "metadata": {
  "kernelspec": {
   "display_name": "10_LangChain-Study",
   "language": "python",
   "name": "python3"
  },
  "language_info": {
   "codemirror_mode": {
    "name": "ipython",
    "version": 3
   },
   "file_extension": ".py",
   "mimetype": "text/x-python",
   "name": "python",
   "nbconvert_exporter": "python",
   "pygments_lexer": "ipython3",
   "version": "3.11.13"
  }
 },
 "nbformat": 4,
 "nbformat_minor": 5
}
