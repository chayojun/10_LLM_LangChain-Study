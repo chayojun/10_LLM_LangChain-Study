{
 "cells": [
  {
   "cell_type": "markdown",
   "id": "c1387b9c",
   "metadata": {},
   "source": [
    "### 랭스미스 추적 설정"
   ]
  },
  {
   "cell_type": "code",
   "execution_count": 3,
   "id": "afd135a6",
   "metadata": {},
   "outputs": [],
   "source": [
    "from dotenv import load_dotenv\n",
    "load_dotenv()\n",
    "\n",
    "import os \n",
    "project_name = \"wanted_2nd_langchain_basic\"\n",
    "os.environ[\"LANGSMITH_PROJECT\"] = project_name"
   ]
  },
  {
   "cell_type": "markdown",
   "id": "ba8db7b8",
   "metadata": {},
   "source": [
    "### 연결 확인"
   ]
  },
  {
   "cell_type": "code",
   "execution_count": null,
   "id": "7fa29723",
   "metadata": {},
   "outputs": [],
   "source": [
    "from langchain_openai import ChatOpenAI\n",
    "\n",
    "model = ChatOpenAI(\n",
    "    temperature=0.1,\n",
    "    model=\"gpt-4.1-mini\",\n",
    "    verbose=True\n",
    ")"
   ]
  },
  {
   "cell_type": "code",
   "execution_count": 5,
   "id": "8a27e2c6",
   "metadata": {},
   "outputs": [],
   "source": [
    "question = \"일년에 학국에 오는 관광객 수는?\"\n",
    "\n",
    "response = model.invoke(question)"
   ]
  },
  {
   "cell_type": "code",
   "execution_count": 7,
   "id": "ab7800d3",
   "metadata": {},
   "outputs": [
    {
     "name": "stdout",
     "output_type": "stream",
     "text": [
      "최근 자료에 따르면, 한국을 방문하는 연간 관광객 수는 코로나19 팬데믹 이전인 2019년에 약 1,750만 명 정도였습니다. 팬데믹 이후로는 입국 제한과 방역 조치로 인해 관광객 수가 크게 감소했으나, 2022년과 2023년에 점차 회복세를 보이고 있습니다.\n",
      "\n",
      "2023년 기준으로는 약 1,000만 명 내외의 외국인 관광객이 한국을 방문한 것으로 추정됩니다. 다만, 정확한 최신 수치는 한국관광공사나 관련 정부 기관의 공식 통계를 참고하는 것이 좋습니다.\n"
     ]
    }
   ],
   "source": [
    "print(response.content)"
   ]
  },
  {
   "cell_type": "code",
   "execution_count": null,
   "id": "2632931e",
   "metadata": {},
   "outputs": [
    {
     "data": {
      "text/plain": [
       "{'token_usage': {'completion_tokens': 141,\n",
       "  'prompt_tokens': 18,\n",
       "  'total_tokens': 159,\n",
       "  'completion_tokens_details': {'accepted_prediction_tokens': 0,\n",
       "   'audio_tokens': 0,\n",
       "   'reasoning_tokens': 0,\n",
       "   'rejected_prediction_tokens': 0},\n",
       "  'prompt_tokens_details': {'audio_tokens': 0, 'cached_tokens': 0}},\n",
       " 'model_name': 'gpt-4.1-mini-2025-04-14',\n",
       " 'system_fingerprint': 'fp_6d7dcc9a98',\n",
       " 'id': 'chatcmpl-CLKATc81yeHiFJNueHCbpkkr1zDu3',\n",
       " 'service_tier': 'default',\n",
       " 'finish_reason': 'stop',\n",
       " 'logprobs': None}"
      ]
     },
     "execution_count": 8,
     "metadata": {},
     "output_type": "execute_result"
    }
   ],
   "source": [
    "response.response_metadata"
   ]
  },
  {
   "cell_type": "markdown",
   "id": "0058f972",
   "metadata": {},
   "source": [
    "### 스트리밍 출력"
   ]
  },
  {
   "cell_type": "code",
   "execution_count": 9,
   "id": "185e3efc",
   "metadata": {},
   "outputs": [
    {
     "name": "stdout",
     "output_type": "stream",
     "text": [
      "최근 자료에 따르면, 한국을 방문하는 연간 관광객 수는 코로나19 팬데믹 이전인 2019년에 약 1,750만 명 정도였습니다. 이후 팬데믹으로 인해 관광객 수가 크게 감소했으나, 2022년과 2023년에 점차 회복세를 보이고 있습니다.\n",
      "\n",
      "2023년 기준으로는 약 1,000만 명 이상이 한국을 방문한 것으로 추정되며, 정부와 관광 관련 기관들은 2024년 이후로 관광객 수가 다시 팬데믹 이전 수준으로 회복될 것으로 기대하고 있습니다.\n",
      "\n",
      "정확한 최신 통계는 한국관광공사(KTO)나 통계청의 공식 발표를 참고하시는 것이 좋습니다."
     ]
    }
   ],
   "source": [
    "answer = model.stream(question)\n",
    "\n",
    "for token in answer:\n",
    "    print(token.content, end=\"\", flush=True)"
   ]
  }
 ],
 "metadata": {
  "kernelspec": {
   "display_name": "10_LangChain-Study",
   "language": "python",
   "name": "python3"
  },
  "language_info": {
   "codemirror_mode": {
    "name": "ipython",
    "version": 3
   },
   "file_extension": ".py",
   "mimetype": "text/x-python",
   "name": "python",
   "nbconvert_exporter": "python",
   "pygments_lexer": "ipython3",
   "version": "3.11.13"
  }
 },
 "nbformat": 4,
 "nbformat_minor": 5
}
