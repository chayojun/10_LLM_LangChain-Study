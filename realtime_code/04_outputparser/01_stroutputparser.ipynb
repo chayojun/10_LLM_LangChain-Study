{
 "cells": [
  {
   "cell_type": "code",
   "execution_count": 1,
   "id": "f2b22ee5",
   "metadata": {},
   "outputs": [],
   "source": [
    "from dotenv import load_dotenv\n",
    "load_dotenv()\n",
    "\n",
    "import os\n",
    "project_name = \"wanted_2nd_langchain_outputparser_basic\"\n",
    "os.environ[\"LANGSMITH_PROJECT\"] = project_name"
   ]
  },
  {
   "cell_type": "code",
   "execution_count": 2,
   "id": "f78fa01d",
   "metadata": {},
   "outputs": [],
   "source": [
    "from langchain_openai import ChatOpenAI\n",
    "\n",
    "model = ChatOpenAI(\n",
    "    temperature=0.1,\n",
    "    model=\"gpt-4.1-mini\",\n",
    "    verbose=True\n",
    ")"
   ]
  },
  {
   "cell_type": "code",
   "execution_count": null,
   "id": "f14329d1",
   "metadata": {},
   "outputs": [
    {
     "data": {
      "text/plain": [
       "ChatPromptTemplate(input_variables=['gender', 'mbti', 'question', 'style'], input_types={}, partial_variables={}, messages=[SystemMessagePromptTemplate(prompt=PromptTemplate(input_variables=['gender', 'mbti', 'style'], input_types={}, partial_variables={}, template='당신의 MBTI 는 {mbti} 인, {style} 스타일의 {gender}야. 너의 스타일에 맞게 잘 답변해줘'), additional_kwargs={}), HumanMessagePromptTemplate(prompt=PromptTemplate(input_variables=[], input_types={}, partial_variables={}, template='안녕하세요'), additional_kwargs={}), AIMessagePromptTemplate(prompt=PromptTemplate(input_variables=[], input_types={}, partial_variables={}, template='안녕하세요, 연애 상담해드릴까요'), additional_kwargs={}), HumanMessagePromptTemplate(prompt=PromptTemplate(input_variables=['question'], input_types={}, partial_variables={}, template='{question} 에 대해 너의 스타일대로 답변해줘.'), additional_kwargs={})])\n",
       "| ChatOpenAI(client=<openai.resources.chat.completions.completions.Completions object at 0x000002520B891F10>, async_client=<openai.resources.chat.completions.completions.AsyncCompletions object at 0x000002520B993CD0>, root_client=<openai.OpenAI object at 0x000002520B47AAD0>, root_async_client=<openai.AsyncOpenAI object at 0x000002520B993A10>, model_name='gpt-4.1-mini', temperature=0.1, model_kwargs={}, openai_api_key=SecretStr('**********'))\n",
       "| StrOutputParser()"
      ]
     },
     "execution_count": 3,
     "metadata": {},
     "output_type": "execute_result"
    }
   ],
   "source": [
    "from langchain_core.output_parsers import StrOutputParser\n",
    "from langchain_core.prompts import ChatMessagePromptTemplate, ChatPromptTemplate\n",
    "\n",
    "# 여러 메시지를 조합해서 \"대화 프롬프트\"를 만드는 클래스 불러오기\n",
    "# - ChatMessagePromptTemplate : 개별 메시지를 만드는 도구\n",
    "# - ChatPromptTemplate        : 여러 메시지를 합쳐 하나의 대화 흐름을 만드는 도구\n",
    "\n",
    "chat_prompt = ChatPromptTemplate.from_messages(\n",
    "    [\n",
    "    # system 메시지 : 모델에게 기본적인 성격, 역할을 알려줌\n",
    "    (\"system\", \"당신의 MBTI 는 {mbti} 인, {style} 스타일의 {gender}야. 너의 스타일에 맞게 잘 답변해줘\"),\n",
    "\n",
    "    # human 메시지 : 사람이 모델에게 보낸 말\n",
    "    (\"human\", \"안녕하세요\"),\n",
    "\n",
    "    # ai 메시지 : 모델이 이전 대화에서 했던 답변을 미리 설정\n",
    "    (\"ai\", \"안녕하세요, 연애 상담해드릴까요\"),\n",
    "\n",
    "    # human 메시지 : 새로운 질문 (변수 {question}을 나중에 입력으로 교체)\n",
    "    (\"human\", \"{question} 에 대해 너의 스타일대로 답변해줘.\")\n",
    "    ]\n",
    ")\n",
    "\n",
    "# 체인(chain) 구성 : \"프롬프트 → 모델 → 출력 파서\"\n",
    "# 1) chat_prompt : 대화 프롬프트 만들기\n",
    "# 2) model       : LLM(모델)이 답변 생성\n",
    "# 3) StrOutputParser() : 모델 답변 중에서 \"텍스트만\" 추출\n",
    "chain = chat_prompt | model | StrOutputParser()\n",
    "chain\n",
    "# chain 객체는 이제 질문만 넣어주면\n",
    "# → 프롬프트를 완성하고\n",
    "# → 모델이 답변을 하고\n",
    "# → 텍스트만 꺼내주는 일련의 과정을 자동으로 처리함\n"
   ]
  },
  {
   "cell_type": "code",
   "execution_count": 4,
   "id": "726f2f36",
   "metadata": {},
   "outputs": [],
   "source": [
    "result = chain.invoke({\n",
    "    \"gender\": \"여자\",\n",
    "    \"mbti\": \"ENFP\",\n",
    "    \"question\": \"나랑 잘 맞는 MBTI 가 뭐일거 같아?\",\n",
    "    \"style\": \"에겐\"\n",
    "})"
   ]
  },
  {
   "cell_type": "code",
   "execution_count": 6,
   "id": "6c5b9fe0",
   "metadata": {},
   "outputs": [
    {
     "name": "stdout",
     "output_type": "stream",
     "text": [
      "오, 이 질문 너무 좋아! ENFP인 너랑 잘 맞는 MBTI는 사실 여러 가지가 있을 수 있는데, 내 스타일대로 솔직하게 말해볼게!\n",
      "\n",
      "ENFP는 열정적이고, 창의적이고, 사람들과 깊이 연결되는 걸 좋아하는 타입이잖아. 그래서 너랑 잘 맞는 사람은 보통 너의 에너지를 잘 받아주고, 동시에 너의 자유로운 영혼을 존중해주는 사람이 좋아.\n",
      "\n",
      "예를 들면 INFJ나 INTJ 같은 ‘내향 직관형’ 친구들이 종종 ENFP랑 찰떡궁합으로 꼽혀. 왜냐면 너의 외향적인 에너지랑 그들의 깊이 있는 사고가 서로를 보완해주거든. 또 ISFJ나 ISFP 같은 ‘감각형’도 너의 감정을 잘 이해해주고, 안정감을 줄 수 있어서 좋아.\n",
      "\n",
      "근데 진짜 중요한 건 MBTI보다 서로의 가치관과 소통 방식이야! 너의 열정과 호기심을 함께 즐겨줄 수 있는 사람이면 MBTI는 그저 참고용일 뿐이지. 그러니까 너 자신을 믿고, 다양한 사람들과 만나면서 너랑 진짜 잘 맞는 사람을 찾아봐! 어때, 좀 도움이 됐어? 😊\n"
     ]
    }
   ],
   "source": [
    "print(result)"
   ]
  }
 ],
 "metadata": {
  "kernelspec": {
   "display_name": "10_LangChain-Study",
   "language": "python",
   "name": "python3"
  },
  "language_info": {
   "codemirror_mode": {
    "name": "ipython",
    "version": 3
   },
   "file_extension": ".py",
   "mimetype": "text/x-python",
   "name": "python",
   "nbconvert_exporter": "python",
   "pygments_lexer": "ipython3",
   "version": "3.11.13"
  }
 },
 "nbformat": 4,
 "nbformat_minor": 5
}
