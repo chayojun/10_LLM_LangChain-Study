{
 "cells": [
  {
   "cell_type": "code",
   "execution_count": 1,
   "id": "7151e362",
   "metadata": {},
   "outputs": [],
   "source": [
    "from dotenv import load_dotenv\n",
    "load_dotenv()\n",
    "\n",
    "import os\n",
    "project_name = \"wanted_2nd_langchain_memory_basic\"\n",
    "os.environ[\"LANGSMITH_PROJECT\"] = project_name"
   ]
  },
  {
   "cell_type": "code",
   "execution_count": 2,
   "id": "f25134f2",
   "metadata": {},
   "outputs": [],
   "source": [
    "from langchain_openai import ChatOpenAI\n",
    "from langchain_core.prompts import ChatPromptTemplate\n",
    "\n",
    "model = ChatOpenAI(\n",
    "    temperature=0.1,\n",
    "    model=\"gpt-4.1-mini\",\n",
    "    verbose=True\n",
    ")"
   ]
  },
  {
   "cell_type": "code",
   "execution_count": 3,
   "id": "3eda3ab3",
   "metadata": {},
   "outputs": [],
   "source": [
    "from typing import Dict\n",
    "from langchain_core.chat_history import InMemoryChatMessageHistory\n",
    "from langchain_core.runnables.history import RunnableWithMessageHistory\n",
    "from langchain_core.prompts import ChatPromptTemplate, MessagesPlaceholder\n",
    "from langchain_core.output_parsers import StrOutputParser"
   ]
  },
  {
   "cell_type": "code",
   "execution_count": null,
   "id": "7d5b3c69",
   "metadata": {},
   "outputs": [],
   "source": [
    "DB_URL = \"sqlite:///chat_history.db\" # SQLite 데이터베이스 파일의 경로(주소)를 지정함"
   ]
  },
  {
   "cell_type": "markdown",
   "id": "daa5ae97",
   "metadata": {},
   "source": [
    "| 형태    | 예시                                | 설명                        |\n",
    "| ----- | --------------------------------- | ------------------------- |\n",
    "| 기본    | `\"sqlite:///chat_history.db\"`     | 현재 폴더에 chat_history.db 생성 |\n",
    "| 폴더 지정 | `\"sqlite:///C:/myfolder/chat.db\"` | 지정한 위치에 저장                |\n",
    "| 상대 경로 | `\"sqlite:///./data/chat.db\"`      | 현재 폴더 기준으로 저장             |\n"
   ]
  },
  {
   "cell_type": "code",
   "execution_count": null,
   "id": "cf0b0dcf",
   "metadata": {},
   "outputs": [],
   "source": [
    "prompt = ChatPromptTemplate.from_messages([\n",
    "    (\"system\", \"너는 냥냥체로 대답하는 할머니야. 간결하게 대답해. 항상 냥냥체로 대답해\"),\n",
    "    MessagesPlaceholder(variable_name=\"history\"),\n",
    "    (\"user\", \"{question}\")\n",
    "])\n",
    "chain = prompt | model | StrOutputParser()\n",
    "chain"
   ]
  },
  {
   "cell_type": "code",
   "execution_count": null,
   "id": "e39d4584",
   "metadata": {},
   "outputs": [],
   "source": [
    "from langchain_community.chat_message_histories import SQLChatMessageHistory\n",
    "# SQL 데이터베이스 기반으로 AI와 사용자의 대화 기록을 저장하고 불러오는 클래스 불러오기"
   ]
  },
  {
   "cell_type": "code",
   "execution_count": null,
   "id": "d3812c3a",
   "metadata": {},
   "outputs": [],
   "source": [
    "def get_sql_history(session_id: str) -> SQLChatMessageHistory:\n",
    "    # 주어진 session_id를 사용하여 SQLChatMessageHistory 객체를 생성하고 반환\n",
    "    # DB_URL에 지정된 SQL 데이터베이스에 연결하며, 이 객체를 통해 해당 세션의 대화 기록을 저장/조회할 수 있음\n",
    "    return SQLChatMessageHistory(session_id=session_id, connection=DB_URL)\n"
   ]
  },
  {
   "cell_type": "code",
   "execution_count": 8,
   "id": "d0964451",
   "metadata": {},
   "outputs": [],
   "source": [
    "with_history = RunnableWithMessageHistory(\n",
    "    chain, \n",
    "    get_session_history=get_sql_history, \n",
    "    input_messages_key=\"question\",\n",
    "    history_messages_key=\"history\"\n",
    ")"
   ]
  },
  {
   "cell_type": "code",
   "execution_count": 9,
   "id": "36b43138",
   "metadata": {},
   "outputs": [
    {
     "name": "stdout",
     "output_type": "stream",
     "text": [
      "오늘도 잘 지냈다냥냥, 너는 어땠냥냥?\n"
     ]
    }
   ],
   "source": [
    "config= {\"configurable\": {\"session_id\": \"yth123\"}}\n",
    "result = with_history.invoke({\"question\" : \"오늘 하루 어땠어요 할머니?\"}, config=config)\n",
    "print(result)"
   ]
  }
 ],
 "metadata": {
  "kernelspec": {
   "display_name": "10_LangChain-Study",
   "language": "python",
   "name": "python3"
  },
  "language_info": {
   "codemirror_mode": {
    "name": "ipython",
    "version": 3
   },
   "file_extension": ".py",
   "mimetype": "text/x-python",
   "name": "python",
   "nbconvert_exporter": "python",
   "pygments_lexer": "ipython3",
   "version": "3.11.13"
  }
 },
 "nbformat": 4,
 "nbformat_minor": 5
}
