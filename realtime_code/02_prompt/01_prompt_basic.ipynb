{
 "cells": [
  {
   "cell_type": "code",
   "execution_count": 1,
   "id": "7ae6016e",
   "metadata": {},
   "outputs": [],
   "source": [
    "from dotenv import load_dotenv\n",
    "load_dotenv()\n",
    "\n",
    "import os \n",
    "project_name = \"wanted_2nd_langchain_prompt_basic\"\n",
    "os.environ[\"LANGSMITH_PROJECT\"] = project_name"
   ]
  },
  {
   "cell_type": "code",
   "execution_count": 9,
   "id": "7624ba46",
   "metadata": {},
   "outputs": [],
   "source": [
    "from langchain_openai import ChatOpenAI\n",
    "\n",
    "model = ChatOpenAI(\n",
    "    temperature=0.1,\n",
    "    model=\"gpt-4.1-mini\",\n",
    "    verbose=True\n",
    ")"
   ]
  },
  {
   "cell_type": "code",
   "execution_count": 5,
   "id": "57306901",
   "metadata": {},
   "outputs": [
    {
     "data": {
      "text/plain": [
       "PromptTemplate(input_variables=['field', 'year'], input_types={}, partial_variables={}, template='\\n최근 {year}년 간 {field} 분야의 기술 발전에 대해서 알려줘\\n')"
      ]
     },
     "execution_count": 5,
     "metadata": {},
     "output_type": "execute_result"
    }
   ],
   "source": [
    "from langchain_core.prompts import PromptTemplate\n",
    "\n",
    "#  프롬프트 템플릿 설정\n",
    "template = \"\"\"\n",
    "최근 {year}년 간 {field} 분야의 기술 발전에 대해서 알려줘\n",
    "\"\"\"\n",
    "prompt_template = PromptTemplate.from_template(template)\n",
    "prompt_template"
   ]
  },
  {
   "cell_type": "code",
   "execution_count": 38,
   "id": "4c39706c",
   "metadata": {},
   "outputs": [
    {
     "name": "stdout",
     "output_type": "stream",
     "text": [
      "content='최근 3년 간(2021년~2024년) AI 분야에서는 여러 중요한 기술 발전과 혁신이 이루어졌습니다. 주요 트렌드와 기술 발전을 요약하면 다음과 같습니다.\\n\\n1. **대규모 언어 모델(LLM)의 발전**\\n   - OpenAI의 GPT-3(2020년 출시) 이후, GPT-4(2023년 출시)와 같은 더욱 정교하고 강력한 대규모 언어 모델이 등장했습니다.\\n   - 이러한 모델들은 자연어 이해, 생성, 번역, 요약, 코드 작성 등 다양한 작업에서 뛰어난 성능을 보이며, 챗봇, 가상 비서, 콘텐츠 생성 등 실생활 응용이 확대되고 있습니다.\\n   - 멀티모달 모델(예: 텍스트와 이미지, 음성 데이터를 동시에 처리하는 모델)도 활발히 연구되고 있습니다.\\n\\n2. **멀티모달 AI**\\n   - 텍스트뿐 아니라 이미지, 음성, 비디오 등 다양한 형태의 데이터를 동시에 이해하고 생성하는 AI 기술이 발전했습니다.\\n   - 예를 들어, OpenAI의 DALL·E 2, Google의 Imagen 등은 텍스트 설명을 바탕으로 고해상도 이미지를 생성할 수 있습니다.\\n   - 멀티모달 모델은 의료 영상 분석, 자율주행, 로봇공학 등 다양한 분야에 적용되고 있습니다.\\n\\n3. **생성형 AI(Generative AI)의 확산**\\n   - 텍스트, 이미지, 음악, 영상 등 다양한 콘텐츠를 자동으로 생성하는 AI 기술이 상용화되고 대중화되었습니다.\\n   - AI 기반 콘텐츠 생성 도구들이 창작, 마케팅, 교육 등 여러 산업에서 활용되고 있습니다.\\n   - 생성형 AI의 윤리적 문제와 저작권 이슈도 활발히 논의되고 있습니다.\\n\\n4. **AI의 효율성 및 친환경성 개선**\\n   - 대규모 모델의 높은 연산 비용과 에너지 소비 문제를 해결하기 위해 경량화, 지식 증류, 양자화, 효율적인 학습 알고리즘 개발이 진행되고 있습니다.\\n   - 하드웨어 측면에서도 AI 전용 칩과 가속기 개발이 활발합니다.\\n\\n5. **자율 시스템과 로보틱스**\\n   - 자율주행차, 드론, 로봇 등 자율 시스템에 AI가 더욱 깊게 통합되어 실용화 단계에 접어들고 있습니다.\\n   - 강화학습과 시뮬레이션 기술의 발전으로 복잡한 환경에서의 의사결정 능력이 향상되었습니다.\\n\\n6. **AI 윤리 및 규제 강화**\\n   - AI의 사회적 영향력 확대에 따라 공정성, 투명성, 프라이버시 보호, 책임성 등에 관한 연구와 정책이 강화되고 있습니다.\\n   - 여러 국가와 국제기구에서 AI 규제 프레임워크를 마련 중입니다.\\n\\n7. **특화형 AI 및 산업별 AI 적용 확대**\\n   - 의료, 금융, 제조, 교육 등 특정 산업에 최적화된 AI 솔루션과 모델이 개발되어 실질적 문제 해결에 기여하고 있습니다.\\n   - 예를 들어, 의료 영상 진단 AI, 금융 리스크 분석 AI 등이 상용화되고 있습니다.\\n\\n요약하자면, 최근 3년간 AI는 대규모 언어 모델과 멀티모달 AI를 중심으로 생성형 AI가 급속히 발전했으며, 효율성 개선과 윤리적 문제 해결에도 많은 노력이 기울여지고 있습니다. 산업별 맞춤형 AI 적용과 자율 시스템의 실용화도 중요한 흐름입니다.' additional_kwargs={'refusal': None} response_metadata={'token_usage': {'completion_tokens': 786, 'prompt_tokens': 23, 'total_tokens': 809, 'completion_tokens_details': {'accepted_prediction_tokens': 0, 'audio_tokens': 0, 'reasoning_tokens': 0, 'rejected_prediction_tokens': 0}, 'prompt_tokens_details': {'audio_tokens': 0, 'cached_tokens': 0}}, 'model_name': 'gpt-4.1-mini-2025-04-14', 'system_fingerprint': 'fp_4fce0778af', 'id': 'chatcmpl-CLNa2WISkK4zJWBL0F4gymPPVsrBs', 'service_tier': 'default', 'finish_reason': 'stop', 'logprobs': None} id='run--5bd73f4b-4c45-4607-81d5-b741d30873ff-0' usage_metadata={'input_tokens': 23, 'output_tokens': 786, 'total_tokens': 809, 'input_token_details': {'audio': 0, 'cache_read': 0}, 'output_token_details': {'audio': 0, 'reasoning': 0}}\n"
     ]
    }
   ],
   "source": [
    "chain = prompt_template | model\n",
    "result = chain.invoke({\"year\": 3, \"field\": \"AI\"})\n",
    "print(result)"
   ]
  },
  {
   "cell_type": "code",
   "execution_count": null,
   "id": "51984de2",
   "metadata": {},
   "outputs": [
    {
     "data": {
      "text/plain": [
       "PromptTemplate(input_variables=['year'], input_types={}, partial_variables={'field': 'AI'}, template='\\n최근 {year}년 간 {field} 분야의 기술 발전에 대해서 알려줘\\n')"
      ]
     },
     "execution_count": 9,
     "metadata": {},
     "output_type": "execute_result"
    }
   ],
   "source": [
    "# PromptTemplate을 이렇게 만든 이유 (가정: template 안에 {year}와 {field}가 있음)\n",
    "prompt_template_fixed = PromptTemplate(\n",
    "    template=template,               # 사용할 문자열 템플릿(예: \"최근 {year}년 동안 {field} 시장은?\")\n",
    "    input_variables=[\"year\"],        # 실행할 때 반드시 직접 넣어야 하는 변수(필수)\n",
    "    partial_variables={              # 미리 고정해 둘 값(매번 자동으로 채워짐)\n",
    "        \"field\": \"AI\"                # template의 {field}에는 항상 \"AI\"가 들어감\n",
    "    }\n",
    ")\n",
    "prompt_template_fixed  # 만든 템플릿 객체 확인"
   ]
  },
  {
   "cell_type": "code",
   "execution_count": 10,
   "id": "4807feb3",
   "metadata": {},
   "outputs": [
    {
     "name": "stdout",
     "output_type": "stream",
     "text": [
      "최근 3년 간(2021년~2024년) AI 분야에서는 여러 중요한 기술 발전과 혁신이 이루어졌습니다. 주요 트렌드와 기술 발전을 요약하면 다음과 같습니다.\n",
      "\n",
      "1. **대규모 언어 모델(LLM)의 발전**\n",
      "   - OpenAI의 GPT-3(2020년 출시) 이후, GPT-4(2023년 출시) 등 더욱 정교하고 강력한 대규모 언어 모델이 등장했습니다.\n",
      "   - 멀티모달 모델(텍스트, 이미지, 음성 등 다양한 입력을 동시에 처리하는 모델)이 발전하여, 예를 들어 GPT-4는 텍스트와 이미지를 함께 이해하고 생성할 수 있습니다.\n",
      "   - 이러한 모델들은 자연어 이해, 생성, 번역, 요약, 코드 작성 등 다양한 분야에서 활용도가 크게 증가했습니다.\n",
      "\n",
      "2. **생성형 AI(Generative AI)의 확산**\n",
      "   - 텍스트뿐 아니라 이미지, 음악, 영상 생성 AI가 크게 발전했습니다.\n",
      "   - 대표적으로 OpenAI의 DALL·E 2, Stability AI의 Stable Diffusion, Google의 Imagen 등이 고품질 이미지를 생성하며 창작 분야에 혁신을 가져왔습니다.\n",
      "   - 생성형 AI는 디자인, 광고, 게임, 엔터테인먼트 등 다양한 산업에 빠르게 도입되고 있습니다.\n",
      "\n",
      "3. **멀티모달 AI 기술**\n",
      "   - 텍스트, 이미지, 음성, 영상 등 여러 형태의 데이터를 동시에 처리하는 AI 모델이 발전했습니다.\n",
      "   - 예를 들어, Meta의 Make-A-Video, Google의 Phenaki 등은 텍스트 설명을 기반으로 영상을 생성하는 기술을 선보였습니다.\n",
      "   - 멀티모달 AI는 인간과의 상호작용을 더욱 자연스럽게 만들고, 다양한 응용 분야를 확장하고 있습니다.\n",
      "\n",
      "4. **AI의 효율성 및 친환경성 개선**\n",
      "   - 대규모 모델의 높은 연산 비용과 에너지 소비 문제를 해결하기 위해 경량화, 지식 증류, 효율적인 학습 알고리즘 개발이 활발히 진행되고 있습니다.\n",
      "   - 예를 들어, 파라미터 수를 줄이면서도 성능을 유지하는 기술, 하드웨어 최적화 등이 연구되고 있습니다.\n",
      "\n",
      "5. **AI 윤리 및 규제 강화**\n",
      "   - AI의 사회적 영향에 대한 관심이 높아지면서, 공정성, 투명성, 개인정보 보호, 편향성 문제를 해결하기 위한 연구와 정책이 강화되고 있습니다.\n",
      "   - 여러 국가와 국제기구에서 AI 규제 가이드라인과 법률을 제정하거나 준비 중입니다.\n",
      "\n",
      "6. **특화형 AI 및 산업별 AI 적용 확대**\n",
      "   - 의료, 금융, 제조, 자율주행, 로보틱스 등 특정 산업에 최적화된 AI 솔루션이 발전하고 있습니다.\n",
      "   - 예를 들어, 의료 영상 분석 AI, 금융 리스크 평가 AI, 자율주행차용 AI 시스템 등이 상용화 및 실험 단계에 있습니다.\n",
      "\n",
      "7. **자기지도학습(Self-supervised Learning)과 강화학습 발전**\n",
      "   - 라벨이 없는 대규모 데이터에서 학습하는 자기지도학습 기술이 더욱 정교해져, 데이터 효율성이 크게 향상되었습니다.\n",
      "   - 강화학습과 결합한 AI가 복잡한 문제 해결과 의사결정 분야에서 성과를 내고 있습니다.\n",
      "\n",
      "요약하자면, 최근 3년간 AI는 대규모 언어 모델과 생성형 AI를 중심으로 멀티모달 처리 능력과 효율성, 윤리적 측면에서 큰 발전을 이루었으며, 산업별 맞춤형 AI 적용도 활발히 진행되고 있습니다.\n"
     ]
    }
   ],
   "source": [
    "fixed_chain = prompt_template_fixed | model\n",
    "result = fixed_chain.invoke({\"year\": 3})\n",
    "print(result.content)"
   ]
  },
  {
   "cell_type": "markdown",
   "id": "3c894b83",
   "metadata": {},
   "source": [
    "### Partial variable 좀 더 해보기"
   ]
  },
  {
   "cell_type": "code",
   "execution_count": 1,
   "id": "37f0c4fb",
   "metadata": {},
   "outputs": [],
   "source": [
    "from datetime import datetime  \n",
    "# datetime 모듈에서 datetime 클래스를 불러오기\n",
    "# 날짜와 시간(예: 오늘 날짜, 현재 시각)을 다룰 때 사용\n",
    "# → 현재 시각 구하기, 날짜 계산하기, 포맷(형식) 바꾸기 등에 도움을 줌"
   ]
  },
  {
   "cell_type": "code",
   "execution_count": null,
   "id": "c7585f84",
   "metadata": {},
   "outputs": [
    {
     "data": {
      "text/plain": [
       "'2025-10-05 17:04'"
      ]
     },
     "execution_count": 2,
     "metadata": {},
     "output_type": "execute_result"
    }
   ],
   "source": [
    "# 현재 시간 출력\n",
    "datetime.now().strftime(\"%Y-%m-%d %H:%M\")\n",
    "\n",
    "# datetime.now() → 지금 이 순간의 날짜와 시간을 가져옴\n",
    "# strftime(\"%Y-%m-%d %H:%M\") → 날짜와 시간을 보기 좋게 '문자열'로 바꿔줌\n",
    "#   %Y → 연도(2025)\n",
    "#   %m → 월(01~12)\n",
    "#   %d → 일(01~31)\n",
    "#   %H → 시(00~23)\n",
    "#   %M → 분(00~59)"
   ]
  },
  {
   "cell_type": "code",
   "execution_count": null,
   "id": "16a9df83",
   "metadata": {},
   "outputs": [],
   "source": [
    "# 날짜를 변환하는 함수\n",
    "def get_today():  \n",
    "    # get_today 라는 이름의 함수 정의\n",
    "    # (이 함수는 '오늘 날짜와 시간'을 문자열로 돌려줌)\n",
    "\n",
    "    return datetime.now().strftime(\"%Y-%m-%d %H:%M\")\n",
    "    # datetime.now() → 지금 이 순간의 날짜와 시간 가져오기\n",
    "    # strftime(\"%Y-%m-%d %H:%M\") → 보기 좋은 \"YYYY-MM-DD HH:MM\" 형식의 문자열로 변환\n",
    "    # 예) \"2025-10-05 16:45\""
   ]
  },
  {
   "cell_type": "code",
   "execution_count": null,
   "id": "80c27905",
   "metadata": {},
   "outputs": [],
   "source": [
    "# 예\n",
    "# 질문 틀(템플릿) 정의 → {today}, {number} 같은 변수를 채워서 문장을 완성할 수 있음\n",
    "template = \"현재 시간은 {today} 입니다. 이 시간대에 사람들이 가장 많이 하는 활동을 {number}\"\n",
    "\n",
    "# PromptTemplate 객체 생성\n",
    "prompt_template = PromptTemplate(\n",
    "    template=template,          # 위에서 만든 문장 템플릿 사용\n",
    "    input_variables=[\"number\"], # 사용자 입력으로 꼭 채워야 하는 변수 → number\n",
    "    partial_variables={         # 미리 자동으로 채워질 변수 지정\n",
    "        \"today\" : get_today     # {today}는 get_today() 함수가 실행된 결과(현재 시간)로 자동 채워짐\n",
    "    }\n",
    ")"
   ]
  },
  {
   "cell_type": "code",
   "execution_count": 7,
   "id": "d721f191",
   "metadata": {},
   "outputs": [
    {
     "data": {
      "text/plain": [
       "PromptTemplate(input_variables=['number'], input_types={}, partial_variables={'today': <function get_today at 0x0000020B2734D260>}, template='현재 시간은 {today} 입니다. 이 시간대에 사람들이 가장 많이 하는 활동을 {number}')"
      ]
     },
     "execution_count": 7,
     "metadata": {},
     "output_type": "execute_result"
    }
   ],
   "source": [
    "prompt_template"
   ]
  },
  {
   "cell_type": "code",
   "execution_count": 10,
   "id": "776f6f9d",
   "metadata": {},
   "outputs": [
    {
     "name": "stdout",
     "output_type": "stream",
     "text": [
      "2025년 10월 5일 오후 7시 16분(19:16) 시간대에 사람들이 가장 많이 하는 활동 3가지는 다음과 같습니다:\n",
      "\n",
      "1. **저녁 식사**  \n",
      "   많은 사람들이 이 시간에 가족이나 친구들과 함께 저녁 식사를 하거나 외식을 합니다.\n",
      "\n",
      "2. **휴식 및 여가 활동**  \n",
      "   하루 일과를 마친 후 TV 시청, 독서, 인터넷 서핑, 게임 등으로 휴식을 취하는 경우가 많습니다.\n",
      "\n",
      "3. **운동 및 산책**  \n",
      "   특히 가을 저녁 시간에는 가볍게 산책하거나 운동을 하는 사람들이 많습니다.\n",
      "\n",
      "이 외에도 개인의 생활 패턴이나 지역에 따라 다를 수 있습니다.\n"
     ]
    }
   ],
   "source": [
    "chain = prompt_template | model\n",
    "result = chain.invoke({\"number\": 3})\n",
    "print(result.content)"
   ]
  },
  {
   "cell_type": "markdown",
   "id": "a53fb6a4",
   "metadata": {},
   "source": [
    "### 프롬프트 템플릿 저장 및 로드"
   ]
  },
  {
   "cell_type": "code",
   "execution_count": 24,
   "id": "7a089745",
   "metadata": {},
   "outputs": [],
   "source": [
    "# 예\n",
    "template = \"현재 시간은 {today} 입니다. 이 시간대에 사람들이 가장 많이 하는 활동을 {number}\"\n",
    "prompt_template = PromptTemplate(\n",
    "    template=template\n",
    ")"
   ]
  },
  {
   "cell_type": "code",
   "execution_count": null,
   "id": "8209d1a9",
   "metadata": {},
   "outputs": [],
   "source": [
    "# 파일 저장 시 인코딩 방식 설정 (utf-8은 한글도 문제없이 저장 가능)\n",
    "encoding = \"utf-8\"\n",
    "\n",
    "# 만든 템플릿을 YAML 파일 형식으로 저장 (나중에 불러와 재사용 가능)\n",
    "prompt_template.save(\"best_template.yaml\")"
   ]
  },
  {
   "cell_type": "code",
   "execution_count": null,
   "id": "539f5aad",
   "metadata": {},
   "outputs": [],
   "source": [
    "import yaml  # YAML 파일을 읽고 쓰기 위해 사용하는 라이브러리 불러오기\n",
    "\n",
    "# \"best_template.yaml\" 파일을 읽기 모드(r)로 열기\n",
    "# encoding=encoding → \"utf-8\" 방식으로 열어서 한글이 깨지지 않게 함\n",
    "with open(\"best_template.yaml\", \"r\", encoding=encoding) as file:\n",
    "    # YAML 파일 내용을 안전하게 파이썬 딕셔너리 형태로 불러오기\n",
    "    config = yaml.safe_load(file)"
   ]
  },
  {
   "cell_type": "code",
   "execution_count": 34,
   "id": "c0282775",
   "metadata": {},
   "outputs": [
    {
     "data": {
      "text/plain": [
       "{'input_variables': ['number', 'today'],\n",
       " 'metadata': None,\n",
       " 'name': None,\n",
       " 'optional_variables': [],\n",
       " 'output_parser': None,\n",
       " 'partial_variables': {},\n",
       " 'tags': None,\n",
       " 'template': '현재 시간은 {today} 입니다. 이 시간대에 사람들이 가장 많이 하는 활동을 {number}',\n",
       " 'template_format': 'f-string',\n",
       " 'validate_template': False}"
      ]
     },
     "execution_count": 34,
     "metadata": {},
     "output_type": "execute_result"
    }
   ],
   "source": [
    "config"
   ]
  },
  {
   "cell_type": "code",
   "execution_count": null,
   "id": "ae5d1347",
   "metadata": {},
   "outputs": [
    {
     "name": "stderr",
     "output_type": "stream",
     "text": [
      "No `_type` key found, defaulting to `prompt`.\n"
     ]
    },
    {
     "data": {
      "text/plain": [
       "PromptTemplate(input_variables=['number', 'today'], input_types={}, partial_variables={}, template='현재 시간은 {today} 입니다. 이 시간대에 사람들이 가장 많이 하는 활동을 {number}')"
      ]
     },
     "execution_count": 35,
     "metadata": {},
     "output_type": "execute_result"
    }
   ],
   "source": [
    "# 로드한 템플릿 적용해서 체인 만들기\n",
    "from langchain_core.prompts import loading  # 프롬프트 불러오기 관련 기능 가져오기\n",
    "\n",
    "# YAML에서 불러온 설정(config)을 사용해 PromptTemplate 객체로 다시 복원\n",
    "load_prompt = loading.load_prompt_from_config(config)\n",
    "\n",
    "# 불러온 프롬프트 템플릿 확인 (저장했던 템플릿이 그대로 잘 불러와졌는지 출력)\n",
    "load_prompt\n"
   ]
  }
 ],
 "metadata": {
  "kernelspec": {
   "display_name": "10_LangChain-Study",
   "language": "python",
   "name": "python3"
  },
  "language_info": {
   "codemirror_mode": {
    "name": "ipython",
    "version": 3
   },
   "file_extension": ".py",
   "mimetype": "text/x-python",
   "name": "python",
   "nbconvert_exporter": "python",
   "pygments_lexer": "ipython3",
   "version": "3.11.13"
  }
 },
 "nbformat": 4,
 "nbformat_minor": 5
}
