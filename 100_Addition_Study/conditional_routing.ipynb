{
 "cells": [
  {
   "cell_type": "markdown",
   "id": "c38bd2b6",
   "metadata": {},
   "source": [
    "### 조건에 따라서 분기하는 그래프 생성\n",
    "- 기분에 따라서 응답 하는 시스템 만들기\n",
    "- 긍정이냐 부정이냐 에 따라 다르게 답변\n",
    "1. 입력한 말이 긍정이냐, 부정이냐, 중립이냐 세개로 나누도록 분석하는 노드\n",
    "2. 긍정노드 / 중립노드 / 부정노드 "
   ]
  },
  {
   "cell_type": "code",
   "execution_count": 1,
   "id": "313bd3ed",
   "metadata": {},
   "outputs": [
    {
     "data": {
      "text/plain": [
       "True"
      ]
     },
     "execution_count": 1,
     "metadata": {},
     "output_type": "execute_result"
    }
   ],
   "source": [
    "from typing import Annotated, TypedDict, Literal\n",
    "from langgraph.graph import StateGraph, START, END\n",
    "from operator import add\n",
    "from langgraph.graph.message import add_messages\n",
    "from langchain_core.messages import HumanMessage, AIMessage, SystemMessage\n",
    "from langchain_openai import ChatOpenAI\n",
    "\n",
    "from dotenv import load_dotenv\n",
    "load_dotenv()"
   ]
  },
  {
   "cell_type": "code",
   "execution_count": 2,
   "id": "b5b9025c",
   "metadata": {},
   "outputs": [],
   "source": [
    "# 1. state\n",
    "class EmotionState(TypedDict):\n",
    "    user_input : str\n",
    "    \n",
    "    # emotion : Literal[\"positive\", \"negative\", \"neutral\"]\n",
    "    \n",
    "    emotion : str\n",
    "    \n",
    "    response : str"
   ]
  },
  {
   "cell_type": "code",
   "execution_count": 3,
   "id": "7867623e",
   "metadata": {},
   "outputs": [
    {
     "data": {
      "text/plain": [
       "{'user_input': '오늘 기분이 좋아요',\n",
       " 'emotion': 'positive',\n",
       " 'response': '오늘 기분이 좋으시다면 좋은 하루 보내세요'}"
      ]
     },
     "execution_count": 3,
     "metadata": {},
     "output_type": "execute_result"
    }
   ],
   "source": [
    "test_state = EmotionState(\n",
    "    user_input = \"오늘 기분이 좋아요\",\n",
    "    emotion = \"positive\",\n",
    "    response = \"오늘 기분이 좋으시다면 좋은 하루 보내세요\"\n",
    ")\n",
    "test_state"
   ]
  },
  {
   "cell_type": "code",
   "execution_count": 4,
   "id": "6f5414df",
   "metadata": {},
   "outputs": [],
   "source": [
    "# llm 초기화\n",
    "llm = ChatOpenAI(\n",
    "    model = \"gpt-4.1-mini\",\n",
    "    temperature = 0.2\n",
    ")"
   ]
  },
  {
   "cell_type": "code",
   "execution_count": 5,
   "id": "ea538446",
   "metadata": {},
   "outputs": [],
   "source": [
    "# 감정 분석 노드\n",
    "def analyze_emotion(state: EmotionState) -> EmotionState:\n",
    "    \"\"\"\"\n",
    "    사용자가 입력을 하고, 그 입려의 감정을 세가지로 분석하는 노드다.\n",
    "    emotion : 이 문장의 감정상태\n",
    "    \"\"\"\n",
    "\n",
    "    user_input = state.get(\"user_input\", \"안녕하세요 기분이 좋아요\")\n",
    "\n",
    "    prompt = f\"\"\"다음 문장의 감정을 분석해주세요.\n",
    "    'positive', 'negative', 'netural' 중 하나로 답변하세요\n",
    "    [입력한 텍스트]\n",
    "    {user_input}\"\"\"\n",
    "\n",
    "\n",
    "    # 예시 : 시스템 프롬프트일 경우\n",
    "    # [\"SystemMessages(content=\"너는 감정 분석 전문가야\"),\n",
    "    # ]\n",
    "\n",
    "    response = llm.invoke(prompt)\n",
    "    emotion = response.content.strip().lower()\n",
    "\n",
    "    print(\"감정 분석 결과\", emotion)\n",
    "    return {\n",
    "        \"emtion\" : emotion\n",
    "    }"
   ]
  },
  {
   "cell_type": "code",
   "execution_count": 17,
   "id": "298f1eb6",
   "metadata": {},
   "outputs": [],
   "source": [
    "# 1. 긍정 노드\n",
    "def pos_res(state: EmotionState) -> dict:\n",
    "    print(\"긍정 노드 실행중입니다.\")\n",
    "    return {\n",
    "        \"response\" : \"긍정 노드 실행중입니다.\"\n",
    "    }\n",
    "\n",
    "# 2. 부정 노드\n",
    "def neg_res(state: EmotionState) -> dict:\n",
    "    print(\"부정 노드 실행중입니다.\")\n",
    "    return {\n",
    "        \"response\" : \"부정 노드 실행중입니다.\"\n",
    "    }\n",
    "\n",
    "# 3. 중립 노드\n",
    "def net_res(state: EmotionState) -> dict:\n",
    "    print(\"중립 노드 실행중입니다.\")\n",
    "    return {\n",
    "        \"response\" : \"중립 노드 실행중입니다.\"\n",
    "    }"
   ]
  },
  {
   "cell_type": "code",
   "execution_count": 18,
   "id": "b9ba6f4e",
   "metadata": {},
   "outputs": [],
   "source": [
    "# 4. conditional 라우팅\n",
    "def conditional_rout(state: EmotionState):\n",
    "    emotion = state.get(\"emotion\", \"netural\")\n",
    "\n",
    "    if emotion == \"positive\":\n",
    "        return \"positive\"\n",
    "    elif emotion == \"negative\":\n",
    "        return \"negative\"\n",
    "    else:\n",
    "        return \"netural\""
   ]
  },
  {
   "cell_type": "code",
   "execution_count": 19,
   "id": "c1bdd065",
   "metadata": {},
   "outputs": [
    {
     "data": {
      "image/png": "[encoded data removed]",
      "text/plain": [
       "<langgraph.graph.state.CompiledStateGraph object at 0x000002214DB59250>"
      ]
     },
     "execution_count": 19,
     "metadata": {},
     "output_type": "execute_result"
    }
   ],
   "source": [
    "# 그래프 만들기\n",
    "workflow = StateGraph(EmotionState)\n",
    "workflow.add_node(\"analyze_emotion\", analyze_emotion)\n",
    "\n",
    "# 시작점 \n",
    "workflow.set_entry_point(\"analyze_emotion\")\n",
    "\n",
    "# 끝점\n",
    "# workflow.set_finish_point(\"analyze_emotion\")\n",
    "\n",
    "# 추가 - 바뀔점\n",
    "workflow.add_node(\"positive\", pos_res)\n",
    "workflow.add_node(\"negative\", neg_res)\n",
    "workflow.add_node(\"netural\", net_res)\n",
    "\n",
    "# 엣지 추가\n",
    "workflow.add_conditional_edges(\n",
    "    \"analyze_emotion\",\n",
    "    conditional_rout,\n",
    "    {\n",
    "        \"positive\" : \"positive\",\n",
    "        \"negative\" : \"negative\",\n",
    "        \"netural\"  : \"netural\",\n",
    "    }\n",
    ")\n",
    "\n",
    "workflow.set_finish_point(\"positive\")\n",
    "workflow.set_finish_point(\"negative\")\n",
    "workflow.set_finish_point(\"netural\")\n",
    "\n",
    "app = workflow.compile()\n",
    "app"
   ]
  },
  {
   "cell_type": "code",
   "execution_count": 11,
   "id": "77fff13b",
   "metadata": {},
   "outputs": [
    {
     "name": "stdout",
     "output_type": "stream",
     "text": [
      "감정 분석 결과 negative\n"
     ]
    },
    {
     "data": {
      "text/plain": [
       "{'user_input': '오늘 기분이 안 좋아 힘들어'}"
      ]
     },
     "execution_count": 11,
     "metadata": {},
     "output_type": "execute_result"
    }
   ],
   "source": [
    "result = app.invoke({\n",
    "    \"user_input\" : \"오늘 기분이 안 좋아 힘들어\"\n",
    "})\n",
    "result"
   ]
  }
 ],
 "metadata": {
  "kernelspec": {
   "display_name": "10_LangChain-Study",
   "language": "python",
   "name": "python3"
  },
  "language_info": {
   "codemirror_mode": {
    "name": "ipython",
    "version": 3
   },
   "file_extension": ".py",
   "mimetype": "text/x-python",
   "name": "python",
   "nbconvert_exporter": "python",
   "pygments_lexer": "ipython3",
   "version": "3.11.13"
  }
 },
 "nbformat": 4,
 "nbformat_minor": 5
}
