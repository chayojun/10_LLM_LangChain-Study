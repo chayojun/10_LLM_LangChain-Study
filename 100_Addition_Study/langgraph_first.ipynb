{
 "cells": [
  {
   "cell_type": "markdown",
   "id": "6a9b987f",
   "metadata": {},
   "source": [
    "### 랭그래프를 사용해야 되는 이유\n",
    "- 랭체인\n",
    "    - 프롬프트 + 모델 + 아웃풋파서\n",
    "    - 체인 + rag -> rag 시스템\n",
    "    - 체인 + 툴 -> 에이전트\n",
    "    - 툴 : 그냥 파이썬 함수\n",
    "    - 쉽게 쉽게 가능 -> 비교적 워크플로가 단순할 때, 단방향일 때, 제어를 그렇게 디테일하게 하지 않아도 될 때\n",
    "- 랭그래프\n",
    "    - 제어가 디테일하게 해야 할 때\n",
    "    - 체인   - 체인\n",
    "            - 체인\n",
    "            - 체인 다중 체인일 때는 오히려 랭체인으로 코드짜기가 더 어렵다\n",
    "    - 랭체인 기능을 랭그래프로 못하냐 -> 가능하다\n",
    "    - 이제부터는 랭그래프로 생각하시면 되겠다\n",
    "    - 조금더 복잡한 워크플로일 때 -> 작업 흐름도"
   ]
  },
  {
   "cell_type": "markdown",
   "id": "52d7d6e0",
   "metadata": {},
   "source": [
    "- 랭그래프 설계\n",
    "    - 기능의 작업 흐름도 설계\n",
    "    - 예시\n",
    "        - 보고서 작성 기능 - 아래의 내용이 노드가\n",
    "            1. 유저가 프롬프트를 입력\n",
    "            - 2-1. 웹서치 해야 할까\n",
    "            - 2-2. Rag 로 데이터 서치\n",
    "            3. 두 데이터를 합쳐서 -> context로 저장\n",
    "            4. context 기반으로 보고서 양식으로 출력\n",
    "            5. 마음에 들경우 -> 6, 마음에 안 들경우 -> 2-1 부터 다시 시작  (conditional_edge)\n",
    "            6. 파일로 저장해보기\n",
    "            7. 최종 결과 내용을 출력"
   ]
  },
  {
   "cell_type": "code",
   "execution_count": 1,
   "id": "a3293531",
   "metadata": {},
   "outputs": [],
   "source": [
    "# 가장 간단한 선형 그래프 만들기\n",
    "# 사실 알고보면 랭체인과 별반 다를게 없다"
   ]
  },
  {
   "cell_type": "code",
   "execution_count": 2,
   "id": "48f77441",
   "metadata": {},
   "outputs": [
    {
     "data": {
      "text/plain": [
       "True"
      ]
     },
     "execution_count": 2,
     "metadata": {},
     "output_type": "execute_result"
    }
   ],
   "source": [
    "from typing import TypedDict\n",
    "from langgraph.graph import StateGraph, START, END\n",
    "from dotenv import load_dotenv\n",
    "load_dotenv()"
   ]
  },
  {
   "cell_type": "markdown",
   "id": "ea1f4d54",
   "metadata": {},
   "source": [
    "### 1. State 정의 \n",
    "- 중앙에다가 형식 정해놓고 저장해놓는 현재의 상태를 나타내는 DB라고 생각"
   ]
  },
  {
   "cell_type": "code",
   "execution_count": 5,
   "id": "f82eaa0b",
   "metadata": {},
   "outputs": [],
   "source": [
    "class State(TypedDict):\n",
    "    message : str"
   ]
  },
  {
   "cell_type": "markdown",
   "id": "ba220bcf",
   "metadata": {},
   "source": [
    "### 2. 노드 함수 정의 \n",
    "1. 안녕하세요\n",
    "2. 이름 추가 : ~님\n",
    "3. 오늘 하루 화이팅입니다.\n",
    "    이렇게 메시지를 추가하는 노드를 만들어보기"
   ]
  },
  {
   "cell_type": "code",
   "execution_count": null,
   "id": "9b0ae51a",
   "metadata": {},
   "outputs": [],
   "source": [
    "def node_1(cur_state : State):\n",
    "    \"\"\"개발자 만 보는 노드의 기능을 설명하면 됩니다. 나만 보는거\"\"\"\n",
    "    # 우리는 항상 출력을 해서 그래프의 흐름을 체크해야 함\n",
    "    print(\"node_1 :메시지 시작\")\n",
    "    print(cur_state)\n",
    "    return {\"message\" : \"안녕하세요\"}\n",
    "\n",
    "def node_2(cur_state : State):\n",
    "    \"\"\"두번째 노드: 메시지 추가 기능\"\"\"\n",
    "\n",
    "    # 우리는 항상 출력을 해서 그래프의 흐름을 체크해야 함\n",
    "    print(\"node_2 :메시지 시작\")\n",
    "    print(cur_state)\n",
    "    cur_message = cur_state['message']\n",
    "    return {\"message\" : cur_message + \"윤택한님\" }\n",
    "\n",
    "def node_3(cur_state : State):\n",
    "    \"\"\"세번째 노드: 인사말 추가 기능\"\"\"\n",
    "\n",
    "    # 우리는 항상 출력을 해서 그래프의 흐름을 체크해야 함\n",
    "    print(\"node_3 :메시지 시작\")\n",
    "    print(cur_state)\n",
    "    cur_message = cur_state['message']\n",
    "    return {\"message\" : cur_message + \"오늘 하루 화이팅입니다\" }"
   ]
  },
  {
   "cell_type": "markdown",
   "id": "95a9110b",
   "metadata": {},
   "source": [
    "### 3. 그래프 만들기"
   ]
  },
  {
   "cell_type": "code",
   "execution_count": null,
   "id": "923fe497",
   "metadata": {},
   "outputs": [
    {
     "data": {
      "text/plain": [
       "{'nodes': {'node_1': StateNodeSpec(runnable=node_1(tags=None, recurse=True, explode_args=False, func_accepts={}), metadata=None, input_schema=<class '__main__.State'>, retry_policy=None, cache_policy=None, ends=(), defer=False),\n",
       "  'node_2': StateNodeSpec(runnable=node_2(tags=None, recurse=True, explode_args=False, func_accepts={}), metadata=None, input_schema=<class '__main__.State'>, retry_policy=None, cache_policy=None, ends=(), defer=False),\n",
       "  'node_3': StateNodeSpec(runnable=node_3(tags=None, recurse=True, explode_args=False, func_accepts={}), metadata=None, input_schema=<class '__main__.State'>, retry_policy=None, cache_policy=None, ends=(), defer=False)},\n",
       " 'edges': {('__start__', 'node_1'),\n",
       "  ('node_1', 'node_2'),\n",
       "  ('node_2', 'node_3'),\n",
       "  ('node_3', '__end__')},\n",
       " 'branches': defaultdict(dict, {}),\n",
       " 'schemas': {__main__.State: {'message': <langgraph.channels.last_value.LastValue at 0x26fa51d0340>}},\n",
       " 'channels': {'message': <langgraph.channels.last_value.LastValue at 0x26fa51d0340>},\n",
       " 'managed': {},\n",
       " 'compiled': False,\n",
       " 'waiting_edges': set(),\n",
       " 'state_schema': __main__.State,\n",
       " 'input_schema': __main__.State,\n",
       " 'output_schema': __main__.State,\n",
       " 'context_schema': None}"
      ]
     },
     "execution_count": 30,
     "metadata": {},
     "output_type": "execute_result"
    }
   ],
   "source": [
    "# 그래프 초기화\n",
    "workflow = StateGraph(State)\n",
    "\n",
    "workflow.add_node(\"node_1\", node_1)\n",
    "workflow.add_node(\"node_2\", node_2)\n",
    "workflow.add_node(\"node_3\", node_3)\n",
    "\n",
    "# 엣지 -> 순서 -> 작업 연결\n",
    "workflow.add_edge(\"node_1\", \"node_2\")\n",
    "workflow.add_edge(\"node_2\", \"node_3\")\n",
    "\n",
    "# 시작점 연결\n",
    "workflow.add_edge(START, \"node_1\")\n",
    "# workflow.set_entry_point(\"node_1\")\n",
    "\n",
    "# 마지막 연결\n",
    "workflow.add_edge(\"node_3\", END)\n",
    "# workflow.set_finish_point(\"node_3\")\n",
    "\n",
    "workflow.__dict__"
   ]
  },
  {
   "cell_type": "code",
   "execution_count": null,
   "id": "67482270",
   "metadata": {},
   "outputs": [
    {
     "data": {
      "image/png": "[encoded data removed]",
      "text/plain": [
       "<langgraph.graph.state.CompiledStateGraph object at 0x0000026FA522B7D0>"
      ]
     },
     "execution_count": 31,
     "metadata": {},
     "output_type": "execute_result"
    }
   ],
   "source": [
    "graph = workflow.compile()\n",
    "graph"
   ]
  },
  {
   "cell_type": "markdown",
   "id": "c59f443d",
   "metadata": {},
   "source": [
    "### 4. 그래프 실행"
   ]
  },
  {
   "cell_type": "code",
   "execution_count": null,
   "id": "22a8ef81",
   "metadata": {},
   "outputs": [
    {
     "name": "stdout",
     "output_type": "stream",
     "text": [
      "node_1: 메시지 시작\n",
      "{'message': ''}\n",
      "node_2: 메시지 시작\n",
      "{'message': '안녕하세요'}\n",
      "node_3: 메시지 시작\n",
      "{'message': '안녕하세요차요준님'}\n",
      "{'message': '안녕하세요차요준님오늘 하루 화이팅입니다.'}\n"
     ]
    }
   ],
   "source": [
    "init_message = {\"message\" : \"\"}\n",
    "result = graph.invoke(init_message)\n",
    "print(result)"
   ]
  },
  {
   "cell_type": "code",
   "execution_count": null,
   "id": "a90c10fc",
   "metadata": {},
   "outputs": [],
   "source": [
    "# 연습문제 1: 3개 노드 만들어서 \"원티드에서 AI 수업 듣고 있어요. 참 즐거워요. 프로젝트 즐거워요\" 출력하는 노드만들기\n",
    "# 연습문제 2: 숫자를 계속 1 ~ 10까지 더하고, 11부터는 짝수만 더하기 20까지, 최종 결과 출력, 중간 중간 결과 확인해보는 노드 만들기\n",
    "\n",
    "# 연습문제 2 워크플로\n",
    "# 1. 1~ 10까지 더하기\n",
    "# 2. 중간결과 확인하는 노드만들기\n",
    "# 3. 12, 14, 16, 18, 20 더하기"
   ]
  },
  {
   "cell_type": "code",
   "execution_count": 33,
   "id": "71e37cc3",
   "metadata": {},
   "outputs": [],
   "source": [
    "# 연습문제 2 워크플로\n",
    "# 상태 정의\n",
    "class State(TypedDict):\n",
    "    numbers : int\n",
    "    test : str\n",
    "    message : str\n",
    "\n",
    "# 노드 정의\n",
    "def sum1(sum_current: State):\n",
    "    \"\"\"1~ 10까지 더하기\"\"\"\n",
    "    cur_num = sum_current[\"numbers\"]\n",
    "    print(\"현재 값은 : \", cur_num)\n",
    "    return {\"numbers\" : cur_num + sum(range(1, 11))}\n",
    "\n",
    "def display(cur_state: State):\n",
    "    \"\"\"중간 결과 출력해보기\"\"\"\n",
    "    print(\"첫번째 노드 결과 \", cur_state['numbers'])\n",
    "    print(\"**의 결과가 궁금해서 출력해보기 \", {**cur_state})\n",
    "    \"\"\"\n",
    "    **cur_state 는\n",
    "    (\"numbers\", 55)\n",
    "    (\"test\",10)\n",
    "    (\"message\", \"테스트중\")\n",
    "\n",
    "    \"\"\"\n",
    "\n",
    "    test_number = cur_state[\"test\"]\n",
    "    test_message = cur_state[\"message\"]\n",
    "    # return {**cur_state}\n",
    "\n",
    "    return {\"numbers\" : 125,\n",
    "            \"test\" : test_number,\n",
    "            \"message\" :test_message,\n",
    "            \"numbers\" : 100\n",
    "            }\n",
    "\n",
    "# 노드 등록, 엣지 등록\n",
    "\n",
    "workflow = StateGraph(State)\n",
    "workflow.add_node(\"node_1\", sum1)\n",
    "workflow.add_node(\"node_2\", display)\n",
    "\n",
    "# 엣지 등록\n",
    "workflow.add_edge(\"node_1\", \"node_2\")\n",
    "workflow.set_entry_point(\"node_1\")\n",
    "workflow.set_finish_point(\"node_1\")\n",
    "\n",
    "app = workflow.compile()\n",
    "app"
   ]
  },
  {
   "cell_type": "code",
   "execution_count": 34,
   "id": "d21422bf",
   "metadata": {},
   "outputs": [],
   "source": [
    "result = app.invoke({'numbers': 0})\n",
    "print(result)"
   ]
  },
  {
   "cell_type": "code",
   "execution_count": 35,
   "id": "a952213b",
   "metadata": {},
   "outputs": [
    {
     "data": {
      "text/plain": [
       "{'nodes': {'node_1': StateNodeSpec(runnable=node_1(tags=None, recurse=True, explode_args=False, func_accepts={}), metadata=None, input_schema=<class '__main__.State'>, retry_policy=None, cache_policy=None, ends=(), defer=False),\n",
       "  'node_2': StateNodeSpec(runnable=node_2(tags=None, recurse=True, explode_args=False, func_accepts={}), metadata=None, input_schema=<class '__main__.State'>, retry_policy=None, cache_policy=None, ends=(), defer=False),\n",
       "  'node_3': StateNodeSpec(runnable=node_3(tags=None, recurse=True, explode_args=False, func_accepts={}), metadata=None, input_schema=<class '__main__.State'>, retry_policy=None, cache_policy=None, ends=(), defer=False),\n",
       "  'node_4': StateNodeSpec(runnable=node_4(tags=None, recurse=True, explode_args=False, func_accepts={}), metadata=None, input_schema=<class '__main__.State'>, retry_policy=None, cache_policy=None, ends=(), defer=False)},\n",
       " 'edges': {('__start__', 'node_1'),\n",
       "  ('node_1', 'node_2'),\n",
       "  ('node_2', 'node_3'),\n",
       "  ('node_3', 'node_4'),\n",
       "  ('node_4', '__end__')},\n",
       " 'branches': defaultdict(dict, {}),\n",
       " 'schemas': {__main__.State: {'message': <langgraph.channels.last_value.LastValue at 0x26fa4fe47c0>}},\n",
       " 'channels': {'message': <langgraph.channels.last_value.LastValue at 0x26fa4fe47c0>},\n",
       " 'managed': {},\n",
       " 'compiled': False,\n",
       " 'waiting_edges': set(),\n",
       " 'state_schema': __main__.State,\n",
       " 'input_schema': __main__.State,\n",
       " 'output_schema': __main__.State,\n",
       " 'context_schema': None}"
      ]
     },
     "execution_count": 35,
     "metadata": {},
     "output_type": "execute_result"
    }
   ],
   "source": [
    "workflow = StateGraph(State)\n",
    "\n",
    "workflow.add_node(\"node_1\", node_1)\n",
    "workflow.add_node(\"node_2\", node_2)\n",
    "workflow.add_node(\"node_3\", node_3)\n",
    "workflow.add_node(\"node_4\", node_4)\n",
    "\n",
    "workflow.add_edge(\"node_1\", \"node_2\")\n",
    "workflow.add_edge(\"node_2\", \"node_3\")\n",
    "workflow.add_edge(\"node_3\", \"node_4\")\n",
    "workflow.add_edge(\"node_4\", END)\n",
    "workflow.add_edge(START, \"node_1\")\n",
    "\n",
    "workflow.__dict__"
   ]
  },
  {
   "cell_type": "code",
   "execution_count": 36,
   "id": "d7186220",
   "metadata": {},
   "outputs": [
    {
     "data": {
      "image/png": "[encoded data removed]",
      "text/plain": [
       "<langgraph.graph.state.CompiledStateGraph object at 0x0000026FA51911D0>"
      ]
     },
     "execution_count": 36,
     "metadata": {},
     "output_type": "execute_result"
    }
   ],
   "source": [
    "graph = workflow.compile()\n",
    "graph"
   ]
  },
  {
   "cell_type": "code",
   "execution_count": 37,
   "id": "1ba1e6ad",
   "metadata": {},
   "outputs": [
    {
     "name": "stdout",
     "output_type": "stream",
     "text": [
      "node_1: 메시지 시작\n",
      "{'message': ''}\n",
      "node_2: 메시지 시작\n",
      "{'message': '원티드에서 AI 수업 듣고 있어요.'}\n",
      "node_3: 메시지 시작\n",
      "{'message': '원티드에서 AI 수업 듣고 있어요.참 즐거워요.'}\n",
      "node_4: 메시지 시작\n",
      "{'message': '원티드에서 AI 수업 듣고 있어요.참 즐거워요.프로젝트 즐거워요.'}\n",
      "{'message': '원티드에서 AI 수업 듣고 있어요.참 즐거워요.프로젝트 즐거워요.출력하는 노드 만들기.'}\n"
     ]
    }
   ],
   "source": [
    "init_message = {\"message\": \"\"}\n",
    "result = graph.invoke(init_message)\n",
    "print(result)"
   ]
  }
 ],
 "metadata": {
  "kernelspec": {
   "display_name": "10_LangChain-Study",
   "language": "python",
   "name": "python3"
  },
  "language_info": {
   "codemirror_mode": {
    "name": "ipython",
    "version": 3
   },
   "file_extension": ".py",
   "mimetype": "text/x-python",
   "name": "python",
   "nbconvert_exporter": "python",
   "pygments_lexer": "ipython3",
   "version": "3.11.13"
  }
 },
 "nbformat": 4,
 "nbformat_minor": 5
}
