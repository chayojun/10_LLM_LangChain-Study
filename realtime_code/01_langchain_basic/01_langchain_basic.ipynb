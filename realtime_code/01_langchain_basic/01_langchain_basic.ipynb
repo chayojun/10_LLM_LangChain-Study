{
 "cells": [
  {
   "cell_type": "markdown",
   "id": "c1387b9c",
   "metadata": {},
   "source": [
    "### 랭스미스 추적 설정"
   ]
  },
  {
   "cell_type": "code",
   "execution_count": 2,
   "id": "afd135a6",
   "metadata": {},
   "outputs": [],
   "source": [
    "from dotenv import load_dotenv\n",
    "load_dotenv()  \n",
    "# .env 파일에 저장된 API 키 같은 환경변수를 불러오기\n",
    "\n",
    "import os \n",
    "project_name = \"wanted_2nd_langchain_basic\"\n",
    "os.environ[\"LANGSMITH_PROJECT\"] = project_name  \n",
    "# LangSmith 프로젝트 이름을 환경변수로 등록하기"
   ]
  },
  {
   "cell_type": "markdown",
   "id": "ba8db7b8",
   "metadata": {},
   "source": [
    "### 연결 확인"
   ]
  },
  {
   "cell_type": "code",
   "execution_count": 3,
   "id": "7fa29723",
   "metadata": {},
   "outputs": [],
   "source": [
    "from langchain_openai import ChatOpenAI\n",
    "\n",
    "model = ChatOpenAI(\n",
    "    temperature=0.1,   # 답변의 창의성 정도 (낮을수록 정해진 답변에 가까움)\n",
    "    model=\"gpt-4.1-mini\",  # 사용할 모델 지정\n",
    "    verbose=True        # 실행 과정을 자세히 출력\n",
    ")"
   ]
  },
  {
   "cell_type": "code",
   "execution_count": 4,
   "id": "8a27e2c6",
   "metadata": {},
   "outputs": [],
   "source": [
    "question = \"일년에 취업하는 인원수는?\"\n",
    "\n",
    "response = model.invoke(question) # invoke:부르다"
   ]
  },
  {
   "cell_type": "code",
   "execution_count": 5,
   "id": "146207bc",
   "metadata": {},
   "outputs": [
    {
     "name": "stdout",
     "output_type": "stream",
     "text": [
      "content='안녕하세요! 질문하신 \"일년에 취업하는 인원수\"에 대해 좀 더 구체적인 정보가 필요합니다. 예를 들어, 어느 국가나 특정 산업, 연령대, 혹은 특정 시기의 취업 인원을 말씀하시는지 알려주시면 더 정확한 답변을 드릴 수 있습니다.\\n\\n일반적으로 국가별 취업자 수는 통계청이나 노동부 등 공식 기관에서 매년 발표하는 고용통계 자료를 참고하시면 됩니다. 예를 들어, 대한민국의 경우 통계청의 경제활동인구조사 결과를 통해 연간 취업자 수를 확인할 수 있습니다.\\n\\n원하시는 정보의 범위나 국가를 알려주시면, 관련 최신 통계나 자료를 찾아서 자세히 안내해 드리겠습니다!' additional_kwargs={'refusal': None} response_metadata={'token_usage': {'completion_tokens': 168, 'prompt_tokens': 17, 'total_tokens': 185, 'completion_tokens_details': {'accepted_prediction_tokens': 0, 'audio_tokens': 0, 'reasoning_tokens': 0, 'rejected_prediction_tokens': 0}, 'prompt_tokens_details': {'audio_tokens': 0, 'cached_tokens': 0}}, 'model_name': 'gpt-4.1-mini-2025-04-14', 'system_fingerprint': 'fp_95d112f245', 'id': 'chatcmpl-CMpnXyC2KbRcle7D9gYqAl2BJwv9z', 'service_tier': 'default', 'finish_reason': 'stop', 'logprobs': None} id='run--4f3cd6ce-fb04-4ce8-bd49-9a92368940d4-0' usage_metadata={'input_tokens': 17, 'output_tokens': 168, 'total_tokens': 185, 'input_token_details': {'audio': 0, 'cache_read': 0}, 'output_token_details': {'audio': 0, 'reasoning': 0}}\n"
     ]
    }
   ],
   "source": [
    "print(response)"
   ]
  },
  {
   "cell_type": "code",
   "execution_count": 6,
   "id": "ab7800d3",
   "metadata": {},
   "outputs": [
    {
     "name": "stdout",
     "output_type": "stream",
     "text": [
      "안녕하세요! 질문하신 \"일년에 취업하는 인원수\"에 대해 좀 더 구체적인 정보가 필요합니다. 예를 들어, 어느 국가나 특정 산업, 연령대, 혹은 특정 시기의 취업 인원을 말씀하시는지 알려주시면 더 정확한 답변을 드릴 수 있습니다.\n",
      "\n",
      "일반적으로 국가별 취업자 수는 통계청이나 노동부 등 공식 기관에서 매년 발표하는 고용통계 자료를 참고하시면 됩니다. 예를 들어, 대한민국의 경우 통계청의 경제활동인구조사 결과를 통해 연간 취업자 수를 확인할 수 있습니다.\n",
      "\n",
      "원하시는 정보의 범위나 국가를 알려주시면, 관련 최신 통계나 자료를 찾아서 자세히 안내해 드리겠습니다!\n"
     ]
    }
   ],
   "source": [
    "print(response.content)"
   ]
  },
  {
   "cell_type": "code",
   "execution_count": 7,
   "id": "2632931e",
   "metadata": {},
   "outputs": [
    {
     "data": {
      "text/plain": [
       "{'token_usage': {'completion_tokens': 168,\n",
       "  'prompt_tokens': 17,\n",
       "  'total_tokens': 185,\n",
       "  'completion_tokens_details': {'accepted_prediction_tokens': 0,\n",
       "   'audio_tokens': 0,\n",
       "   'reasoning_tokens': 0,\n",
       "   'rejected_prediction_tokens': 0},\n",
       "  'prompt_tokens_details': {'audio_tokens': 0, 'cached_tokens': 0}},\n",
       " 'model_name': 'gpt-4.1-mini-2025-04-14',\n",
       " 'system_fingerprint': 'fp_95d112f245',\n",
       " 'id': 'chatcmpl-CMpnXyC2KbRcle7D9gYqAl2BJwv9z',\n",
       " 'service_tier': 'default',\n",
       " 'finish_reason': 'stop',\n",
       " 'logprobs': None}"
      ]
     },
     "execution_count": 7,
     "metadata": {},
     "output_type": "execute_result"
    }
   ],
   "source": [
    "response.response_metadata"
   ]
  },
  {
   "cell_type": "markdown",
   "id": "0058f972",
   "metadata": {},
   "source": [
    "### 스트리밍 출력"
   ]
  },
  {
   "cell_type": "code",
   "execution_count": null,
   "id": "185e3efc",
   "metadata": {},
   "outputs": [
    {
     "name": "stdout",
     "output_type": "stream",
     "text": [
      "안녕하세요! 질문하신 \"일년에 취업하는 인원수\"에 대해 좀 더 구체적인 정보가 필요합니다. 예를 들어, 어느 국가나 지역의 취업 인원수를 알고 싶으신지, 특정 산업 분야나 연령대에 관한 것인지 알려주시면 더 정확한 답변을 드릴 수 있습니다.\n",
      "\n",
      "일반적으로 국가별 취업자 수는 통계청이나 노동부 등 공식 기관에서 매년 발표하는 고용 통계 자료를 참고하시면 됩니다. 예를 들어, 대한민국의 경우 통계청의 경제활동인구조사 결과를 통해 연간 취업자 수를 확인할 수 있습니다.\n",
      "\n",
      "원하시는 정보의 범위를 알려주시면 관련 데이터를 찾아서 안내해 드리겠습니다!"
     ]
    }
   ],
   "source": [
    "answer = model.stream(question)  \n",
    "# 질문을 모델에게 보내고, 답변을 조금씩(token 단위) 받아오는 스트리밍 방식\n",
    "# token: 모델이 텍스트를 처리할 때 쪼갠 “작은 단위\n",
    "\n",
    "\n",
    "for token in answer:              \n",
    "    print(token.content, end=\"\", flush=True)  \n",
    "    # 토큰 하나씩 화면에 바로 출력\n",
    "    # end=\"\" → 줄바꿈 없이 이어서 출력\n",
    "    # flush=True → 바로 화면에 보여주도록 강제로 출력"
   ]
  }
 ],
 "metadata": {
  "kernelspec": {
   "display_name": "10_LangChain-Study",
   "language": "python",
   "name": "python3"
  },
  "language_info": {
   "codemirror_mode": {
    "name": "ipython",
    "version": 3
   },
   "file_extension": ".py",
   "mimetype": "text/x-python",
   "name": "python",
   "nbconvert_exporter": "python",
   "pygments_lexer": "ipython3",
   "version": "3.11.13"
  }
 },
 "nbformat": 4,
 "nbformat_minor": 5
}
