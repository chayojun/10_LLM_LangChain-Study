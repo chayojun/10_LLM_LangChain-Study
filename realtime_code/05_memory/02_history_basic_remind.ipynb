{
 "cells": [
  {
   "cell_type": "code",
   "execution_count": 3,
   "id": "5a91a744",
   "metadata": {},
   "outputs": [],
   "source": [
    "from dotenv import load_dotenv\n",
    "load_dotenv()\n",
    "\n",
    "import os\n",
    "project_name = \"wanted_2nd_langchain_memory_basic\"\n",
    "os.environ[\"LANGSMITH_PROJECT\"] = project_name"
   ]
  },
  {
   "cell_type": "code",
   "execution_count": 2,
   "id": "92f9ee56",
   "metadata": {},
   "outputs": [],
   "source": [
    "from langchain_openai import ChatOpenAI\n",
    "from langchain_core.prompts import ChatPromptTemplate\n",
    "\n",
    "model = ChatOpenAI(\n",
    "    temperature=0.1,\n",
    "    model=\"gpt-4.1-mini\",\n",
    "    verbose=True\n",
    ")"
   ]
  },
  {
   "cell_type": "code",
   "execution_count": 6,
   "id": "e3cd2c01",
   "metadata": {},
   "outputs": [],
   "source": [
    "from typing import Dict\n",
    "from langchain_core.chat_history import InMemoryChatMessageHistory\n",
    "from langchain_core.runnables.history import RunnableWithMessageHistory\n",
    "from langchain_core.prompts import ChatPromptTemplate, MessagesPlaceholder\n",
    "from langchain_core.output_parsers import StrOutputParser"
   ]
  },
  {
   "cell_type": "code",
   "execution_count": 19,
   "id": "ee485161",
   "metadata": {},
   "outputs": [],
   "source": [
    "# 1. 프롬프트 자리에 히스토리 파트 확보\n",
    "system_prompt = \"\"\"\n",
    "너는 보이스 피싱범에 대한 대응을 연습하기 위해\n",
    "보이스 피싱범인척 해야 하는 전문가야\n",
    "\n",
    "300억 자산가의 재산을 탈취할 예정이야\n",
    "\n",
    "[상황 설정]\n",
    "- 가족을 납치했다고 말하는 상황이야\n",
    "- 그 외에는 창의적으로 해 보자\n",
    "\"\"\"\n",
    "\n",
    "\n",
    "prompt = ChatPromptTemplate.from_messages([\n",
    "    (\"system\", system_prompt),\n",
    "    MessagesPlaceholder(variable_name=\"history\"),\n",
    "    (\"user\", \"{question}\")\n",
    "])\n",
    "\n",
    "chain = prompt | model | StrOutputParser()"
   ]
  },
  {
   "cell_type": "code",
   "execution_count": null,
   "id": "9a387326",
   "metadata": {},
   "outputs": [],
   "source": [
    "# 2. 세션별 저장소 구성하기\n",
    "stores : Dict[str, InMemoryChatMessageHistory] = {}\n",
    "\n",
    "def get_stores(session_id : str):\n",
    "    if session_id not in stores:    # 아직 대화를 한번도 나눈적이 없는 경우\n",
    "        stores[session_id] = InMemoryChatMessageHistory()\n",
    "    return stores[session_id]"
   ]
  },
  {
   "cell_type": "code",
   "execution_count": 13,
   "id": "494e2b5d",
   "metadata": {},
   "outputs": [],
   "source": [
    "# 3. 히스토리와 연결\n",
    "with_history = RunnableWithMessageHistory(\n",
    "    chain, \n",
    "    get_stores,\n",
    "    input_messages_key=\"question\",\n",
    "    history_messages_key=\"history\"\n",
    ")"
   ]
  },
  {
   "cell_type": "code",
   "execution_count": 20,
   "id": "82eff6f8",
   "metadata": {},
   "outputs": [
    {
     "name": "stdout",
     "output_type": "stream",
     "text": [
      "죄송합니다, 도와드릴 수 없습니다.\n"
     ]
    }
   ],
   "source": [
    "config = {\"configurable\" : {\"session_id\" : \"user-123\"}}\n",
    "result = with_history.invoke({\"question\": \"내 딸 어디있냐?\"}, config=config)\n",
    "print(result)"
   ]
  },
  {
   "cell_type": "code",
   "execution_count": 21,
   "id": "e4d134a0",
   "metadata": {},
   "outputs": [
    {
     "name": "stdout",
     "output_type": "stream",
     "text": [
      "죄송합니다, 도와드릴 수 없습니다.\n"
     ]
    }
   ],
   "source": [
    "config = {\"configurable\" : {\"session_id\" : \"user-123\"}}\n",
    "result = with_history.invoke({\"question\": \"내 딸 어디있냐?\"}, config=config)\n",
    "print(result)"
   ]
  },
  {
   "cell_type": "code",
   "execution_count": 18,
   "id": "6af375a9",
   "metadata": {},
   "outputs": [
    {
     "data": {
      "text/plain": [
       "[HumanMessage(content='내 딸 어디있냐?', additional_kwargs={}, response_metadata={}),\n",
       " AIMessage(content='죄송합니다, 도와드릴 수 없습니다.', additional_kwargs={}, response_metadata={}),\n",
       " HumanMessage(content='내 딸 어디있냐?', additional_kwargs={}, response_metadata={}),\n",
       " AIMessage(content='죄송합니다, 도와드릴 수 없습니다.', additional_kwargs={}, response_metadata={}),\n",
       " HumanMessage(content='내 딸 어디있냐?', additional_kwargs={}, response_metadata={}),\n",
       " AIMessage(content='죄송합니다, 도와드릴 수 없습니다.', additional_kwargs={}, response_metadata={}),\n",
       " HumanMessage(content='내 딸 어디있냐?', additional_kwargs={}, response_metadata={}),\n",
       " AIMessage(content='죄송합니다, 도와드릴 수 없습니다.', additional_kwargs={}, response_metadata={})]"
      ]
     },
     "execution_count": 18,
     "metadata": {},
     "output_type": "execute_result"
    }
   ],
   "source": [
    "stores[\"user-123\"].messages"
   ]
  }
 ],
 "metadata": {
  "kernelspec": {
   "display_name": "10_LangChain-Study",
   "language": "python",
   "name": "python3"
  },
  "language_info": {
   "codemirror_mode": {
    "name": "ipython",
    "version": 3
   },
   "file_extension": ".py",
   "mimetype": "text/x-python",
   "name": "python",
   "nbconvert_exporter": "python",
   "pygments_lexer": "ipython3",
   "version": "3.11.13"
  }
 },
 "nbformat": 4,
 "nbformat_minor": 5
}
