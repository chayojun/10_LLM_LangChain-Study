{
 "cells": [
  {
   "cell_type": "markdown",
   "id": "dced9922",
   "metadata": {},
   "source": [
    "# 2-Step RAG 파이프라인 테스트\n",
    "\n",
    "이 노트북은 다음과 같은 2단계 RAG(Retrieval-Augmented Generation) 프로세스를 테스트합니다.\n",
    "\n",
    "1.  **1단계: 헤더 검색 (정책 식별)**\n",
    "    *   사용자의 복합적인 질문을 `header_db` 벡터 저장소에 질의하여 가장 적합한 정책을 식별합니다.\n",
    "    *   식별된 정책의 메타데이터에서 본문(body) 데이터가 저장된 컬렉션 이름(`original_collection_name`)을 추출합니다.\n",
    "\n",
    "2.  **2단계: 본문 검색 (상세 정보 추출)**\n",
    "    *   1단계에서 얻은 컬렉션 이름을 사용해 `body_db`에서 해당 정책의 상세 내용이 담긴 벡터 저장소를 로드합니다.\n",
    "    *   '필수 조건', '혜택' 등 구체적인 키워드로 상세 정보를 검색합니다.\n",
    "\n",
    "3.  **답변 생성**\n",
    "    *   2단계에서 추출한 상세 정보들을 종합하여 LLM에게 전달하고, 사용자의 질문에 맞는 최종 답변을 생성합니다."
   ]
  },
  {
   "cell_type": "markdown",
   "id": "7b94d984",
   "metadata": {},
   "source": [
    "## 1. 환경 설정"
   ]
  },
  {
   "cell_type": "code",
   "execution_count": 1,
   "id": "9f520225",
   "metadata": {},
   "outputs": [],
   "source": [
    "import os\n",
    "import json\n",
    "from langchain_openai import OpenAIEmbeddings, ChatOpenAI\n",
    "from langchain_community.vectorstores import Chroma\n",
    "from langchain_core.prompts import ChatPromptTemplate\n",
    "from langchain_core.output_parsers import StrOutputParser\n",
    "from langchain_core.runnables import RunnablePassthrough\n",
    "\n",
    "# 기본 경로 설정\n",
    "HEADER_DB_PATH = \"../source/vectorstore/header_db\"\n",
    "BODY_DB_PATH = \"../source/vectorstore/body_db\"\n",
    "\n",
    "# 모델 및 임베딩 초기화\n",
    "embeddings = OpenAIEmbeddings(model=\"text-embedding-3-small\")\n",
    "llm = ChatOpenAI(\n",
    "    model_name = \"gpt-4.1-mini\",\n",
    "    temperature=0\n",
    ")"
   ]
  },
  {
   "cell_type": "markdown",
   "id": "073d0c40",
   "metadata": {},
   "source": [
    "## 2. 1단계: 헤더 검색 (정책 식별)"
   ]
  },
  {
   "cell_type": "code",
   "execution_count": 21,
   "id": "7bf5d617",
   "metadata": {},
   "outputs": [
    {
     "name": "stdout",
     "output_type": "stream",
     "text": [
      "[1단계 결과] 가장 관련성 높은 정책을 찾았습니다.\n",
      "- 정책 이름: 서울시 청년월세지원정책\n",
      "- 상세 정보 컬렉션: seoulsiceongnyeonweolsejiweonjeongcaeg_body\n"
     ]
    }
   ],
   "source": [
    "# 사용자 질문 정의\n",
    "user_query = \"나 지금 서울시에 거주중인데, 난 27세이고, 월세 보증금 지원을 받고 싶어, 이에 대한 정보를 알려줘\"\n",
    "\n",
    "# 헤더 벡터 저장소 로드\n",
    "header_vectorstore = Chroma(\n",
    "    persist_directory = HEADER_DB_PATH,\n",
    "    embedding_function = embeddings,\n",
    "    collection_name = \"header_db\"\n",
    ")\n",
    "\n",
    "# 헤더 검색\n",
    "header_retriever = header_vectorstore.as_retriever(search_type=\"similarity\", search_kwargs={\"k\": 1})\n",
    "retrieved_headers = header_retriever.get_relevant_documents(user_query)\n",
    "\n",
    "if not retrieved_headers:\n",
    "    print(\"관련된 정책을 찾지 못했습니다.\")\n",
    "else:\n",
    "    # 검색된 헤더 정보 파싱\n",
    "    header_content = json.loads(retrieved_headers[0].page_content)\n",
    "    \n",
    "    policy_name = header_content.get(\"policy_name\")\n",
    "    original_collection_name = header_content.get(\"original_collection_name\")\n",
    "\n",
    "    print(f\"[1단계 결과] 가장 관련성 높은 정책을 찾았습니다.\")\n",
    "    print(f\"- 정책 이름: {policy_name}\")\n",
    "    print(f\"- 상세 정보 컬렉션: {original_collection_name}\")"
   ]
  },
  {
   "cell_type": "code",
   "execution_count": 10,
   "id": "014fe9a8",
   "metadata": {},
   "outputs": [
    {
     "data": {
      "text/plain": [
       "{'summary': {'policy_category': '주거',\n",
       "  'policy_name': '2025년 서울시 청년월세지원 사업',\n",
       "  'policy_target': '서울시 거주 청년 (19세 ~ 39세)',\n",
       "  'policy_benefit': '월 최대 20만원, 최대 12개월간 지원 (총 240만원)'},\n",
       " 'policy_name': '서울시 청년월세지원정책',\n",
       " 'original_collection_name': 'seoulsiceongnyeonweolsejiweonjeongcaeg_body'}"
      ]
     },
     "execution_count": 10,
     "metadata": {},
     "output_type": "execute_result"
    }
   ],
   "source": [
    "header_content"
   ]
  },
  {
   "cell_type": "markdown",
   "id": "9970f09e",
   "metadata": {},
   "source": [
    "## 3. 2단계: 본문 검색 (상세 정보 추출)"
   ]
  },
  {
   "cell_type": "code",
   "execution_count": 22,
   "id": "f592cb51",
   "metadata": {},
   "outputs": [
    {
     "name": "stdout",
     "output_type": "stream",
     "text": [
      "[2단계 시작] '서울시 청년월세지원정책' 정책의 상세 정보를 각 항목별로 검색합니다.\n",
      "- '필수 조건' 검색 완료 (유사도 0.7 이상, 최대 3개)\n"
     ]
    },
    {
     "name": "stderr",
     "output_type": "stream",
     "text": [
      "c:\\POTENUP\\10_LLM_TeamProject\\.venv\\Lib\\site-packages\\langchain_core\\vectorstores\\base.py:1070: UserWarning: Relevance scores must be between 0 and 1, got [(Document(metadata={'creationdate': '2025-06-02T15:06:47+09:00', 'source': 'source\\\\original_docs\\\\서울시 청년월세지원정책.pdf', 'page': 6, 'producer': 'Microsoft: Print To PDF', 'title': '〲㔲⁄렜⃜䒭㣔타ꠠ⃑\\ue0f5⸸睨硰', 'author': '', 'moddate': '2025-06-02T15:06:47+09:00', 'creator': 'PyPDF', 'total_pages': 10, 'page_label': '7'}, page_content='- 7 -\\n     전대차 계약인 경우 아래 모두 제출3) , , ① ② ③ 전대차 계약서       ①       전대차 계약사항 전대인과 전차인의 성명 생년월일 도장 또는 서명 날인   ( ) , , ,※ 임차보증금과 월세금액 계약일자 소재지 등이 기재되어 있어야 함, , 전대인의 임대차 계약서       ② 건축물대장 건축물 현황도       , ③       건축물대장 등 해당 주택의 내부구조 파악이 가능한 자료   ※  ㅇ 이체확인증 : 신청일 기준 최근 개월3월(’25.3~5 )간 월세 이체 내역임대인 계좌 확인( )   - 이체 일자, 임대인 성명 또는 임대인 계좌번호, 월세 금액이 명시되어야 함   - 월세 받는 사람이 계약서상 임대인과 다를 경우 특약사항에 실제 월세를 지급받는 , 사람의 성함 계좌번호 명시되어야 함,    - 최근 개월 월세 이체 내역을 제출하기 어려운 경우 다음의 방법으로 제출3 , 임대차 계약 체결 후 차임 지급 기일이 도래하지 않아 월세 이체내역이 없는 경우       , \\U000f02fb 보증금 잔금 이체내역월세 이체내역이 최근 개월분만 있을 경우에는 개월분 자료만 제출       1 1\\U000f02fb        \\U000f02fb 현금 납부 등의 사정으로 이체증이 없는 경우 고시원 게스트하우스 등 월 입실에 따른, · 4~5  월세 이체 내역이 없는 경우  월차임 납부확인서 다운로드‘ ’ 서울주거포털 청년월세지원 자료실 후 작성하여 첨부 제출( ) – –  ㅇ 가족관계증명서 본인 기준 상세증명서( )공고일 이후 발급분 ※ 지원대상 선정 기준4.  ㅇ 선정인원 명: 15,000ㅇ 선정방법  : 임차보증금 월세 및 소득기준 개 구간으로 나누어 선정· , 4인원 초과 시 구간별 전산추첨 선정,    -구간별 미달인 경우 구간부터 구간 순으로 추가 선정 , 1 4   -선정기준 월세액은 임대차계약서에 표기된 차임 월세( )액으로 함관리비 제외 ( )   -차임 월세( )기준 월세 만원 초과 시 보증금 월세 환산액 60 (5.0%)합산'), 0.02582558283301839), (Document(metadata={'creationdate': '2025-06-02T15:06:47+09:00', 'page': 5, 'author': '', 'source': 'source\\\\original_docs\\\\서울시 청년월세지원정책.pdf', 'total_pages': 10, 'moddate': '2025-06-02T15:06:47+09:00', 'title': '〲㔲⁄렜⃜䒭㣔타ꠠ⃑\\ue0f5⸸睨硰', 'producer': 'Microsoft: Print To PDF', 'page_label': '6', 'creator': 'PyPDF'}, page_content='- 6 -\\n신청방법 및 제출서류3. \\n신청방법□  ㅇ 서울주거포털(https://housing.seoul.go.kr) 청년월세지원 란에 ‘ ’온라인 신청및 접수   방문 및 우편 접수 불가 ※    -지원신청서 개인정보 수집 이용 및 제 자 제공에 관한 동의서 작성등록 , · 3 ․제출서류□  모든 서류는 주민등록번호 뒷자리를 지우고 가급적 파일로 제출, PDF ※ ㅇ 확정일자가 날인된 임대차계약서 전체 사본부 1   - 확정일자는 동주민센터 및 인터넷등기소 에서 부여(https://www.iros.go.kr)   - 임대차계약서상 다음 사항이 확인 가능하여야 함임대인 임차인의 성명 및 생년월일 확정일자 또는 공인중개사 날인 임차주택소재지        , , , , \\U000f02fb 임대차 계약기간 임차보증금 월세금액 등  , ,    - 확정일자 날인을 받을 수 없는 경우 아래의 증빙자료 제출     주택원룸 다가구주택 무보증월세 등은 아래 중 하나 제출1) ( , , ) ~ ① ③        공인중개사가 날인 한 임대차계약서 사본① 임대차계약서와 임대차 건물 등기부등본 사본       ② 임대차계약서와 주택 임대차 계약 신고필증       ③ 확정일자 부여현황 은 신고필증이 아님(“ ” )등기부등본상 임차주택의 소유주와 임대차계약서상 임대인 성명이 동일해야 하며         , ※ 다를 경우 임대인의 임대 사업자등록증 사본을 추가 제출해야 함( )등기부등본은 인터넷등기소 에서 발급가능           (http://www.iros.go.kr)\\U000f02fb      고시원 게스트하우스 등은 아래 모두 제출2) , , ① ② 입실확인서       ①       임대차 계약사항 임대인과 임차인의 성명 생년월일 도장 또는 서명 날인   ( ) , , ,※ 임차보증금과 월세금액 계약일자 소재지 등이 기재되어 있어야 함, ,       임대차계약사항이 기재된 입실확인서 등이 없는 경우 붙임양식 실거주 확인서 참조   ( ) ※       임대사업자등록증 사본 ( )②'), -0.007387398199021344)]\n",
      "  self.vectorstore.similarity_search_with_relevance_scores(\n"
     ]
    },
    {
     "name": "stdout",
     "output_type": "stream",
     "text": [
      "- '우대 조건' 검색 완료 (유사도 0.7 이상, 최대 3개)\n"
     ]
    },
    {
     "name": "stderr",
     "output_type": "stream",
     "text": [
      "c:\\POTENUP\\10_LLM_TeamProject\\.venv\\Lib\\site-packages\\langchain_core\\vectorstores\\base.py:1070: UserWarning: Relevance scores must be between 0 and 1, got [(Document(metadata={'creationdate': '2025-06-02T15:06:47+09:00', 'source': 'source\\\\original_docs\\\\서울시 청년월세지원정책.pdf', 'creator': 'PyPDF', 'producer': 'Microsoft: Print To PDF', 'page': 4, 'page_label': '5', 'author': '', 'total_pages': 10, 'title': '〲㔲⁄렜⃜䒭㣔타ꠠ⃑\\ue0f5⸸睨硰', 'moddate': '2025-06-02T15:06:47+09:00'}, page_content='- 5 -\\n사업 신청 제외 대상자 ◆  ㅇ 국토교통부 청년월세 한시 특별지원금을 수혜 중인 사람신청일 전 지원 종료 시 신청 가능   ※  ㅇ 서울시 청년월세지원금 기선정자로 수급 이력이 있는 사람  ㅇ 신청자 본인 주택 소유자( ) 주거용 오피스텔 분양권 입주권 공유지분 소유 등 포함( , , , )주택 청약 시 적용되는 주택소유여부 판단기준 과 관계없이 소유권 확인될 시 선정 불가   “ ”※  ㅇ 신청자 본인 일반재산 총액 억 천만원을 초과하는 사람( ) 1 3포함항목 토지과세표준액 건축물과세표준액 임차보증금 차량시가표준액    - ( ) , , ,  ㅇ 신청자 본인 차량시가표준액이 만원 이상의 자동차를 소유한 사람( ) 2,500 ㅇ 신청자 본인 국민기초생활수급을 받고 있는 사람( ) 생계 의료 주거급여 대상자( , , ) ㅇ 서울시 청년수당을 받고 있는 사람 년 자치구 자체 청년월세지원 사업, ’25은평 광진 등( , )지원자로 선정된 사람 자립준비청년 월세기숙사비 지원 등 , ․유사 사업 수혜를 받고 있는 사람사업 신청일 기준으로 타 사업 수급 등이 종료된 경우 신청 가능   ‘ ’ ※  ㅇ 공공주택특별법 도시 및 주거환경정비법 서울시 공공주택 건설 및 공급 등에 관한 , , 조례 등에 따른 공공임대주택 에 거주하는 사람*민간임대주택법에 따른 공공지원민간임대주택 등 민간임대주택 거주자는 신청 가능   ※ 영구임대 공공임대 국민임대 매입임대 행복주택 청년안심주택 역세권청년주택    * , , , , , ( ),장기안심주택 특화형 매입임대주택 사회적주택 도시형생활주택 희망하우징, ( ), , , 전세임대주택 공무원임대주택 등,  ㅇ 임대인임차건물 집주인( )이 신청인의 부모 인 경우‘ ’ ㅇ 공동임차인 모두 신청하는 경우 ㅇ 기타 사업 취지에 부합하지 않다고 판단되는 경우'), 0.017139033061226217), (Document(metadata={'total_pages': 10, 'page': 1, 'author': '', 'title': '〲㔲⁄렜⃜䒭㣔타ꠠ⃑\\ue0f5⸸睨硰', 'creator': 'PyPDF', 'producer': 'Microsoft: Print To PDF', 'source': 'source\\\\original_docs\\\\서울시 청년월세지원정책.pdf', 'page_label': '2', 'moddate': '2025-06-02T15:06:47+09:00', 'creationdate': '2025-06-02T15:06:47+09:00'}, page_content='- 2 -\\n신청접수□  ㅇ 신청기간 : 수 화 마감2025. 6. 11.( ) 10:00 ~ 6. 24.( ) 18:00 ( ) ㅇ 선정인원 명: 15,000 ㅇ 신청방법 서울주거포털 : 온라인 신청선정 및 지급□  ㅇ 선정방법 임차보증금 월세 및 소득기준 개 구간으로 나누어 선정하고 : · 4인원 초과시 구간별 전산 추첨  ㅇ 지급방법 격월 일 전후로 계좌 입금: 25   -지급일정 월 : 10월 월 월(7 , 8 , 9 )월, 12월 월분(10 , 11 ) 지급 이후, 잔여 개월분은 7’년에 격월 지급 예정26  ( 지급일정 변동 가능※ )     자세한 지급 일정은 매 회차 지급 전 서울주거포털 공지사항 참고※    -지원대상자 최종 선정 후 자격 유지 여부 확인 심사( )후 지급 신청 자격요건2. ․자격 요건□ ㅇ 가구 주민등록상 신청인 인만 등록되어 있는 무주택자 청년 인 가구 ( ) 1 1주민등록등본상 청년이 아닌 세대원이 있는 경우 사업 신청대상에서 제외      ※       ※ 외국인은 신청 불가하며 재외국민의 경우 건강보험의 가입자 또는 피부양자이면 신청 가능,  ㅇ 주소 신청일 기준 서울에 주민등록이 되어 있고 실제 거주하는 청년( ) ,    -신청일 기준 임대차계약서상 임차건물 소재지에 주민등록 전입신고( )이 등재된 임차인본인이 신청해야 함부모 형제 친구 등       , , ※ 타인의 명의로 임대차계약을 체결한 경우 신청 불가      ※ 주민등록등본상 청년인 형제자매 및 동거인이 있는 경우 임차인 명의의 인에 한해 신청 가능‘ ’ , 1공유주택 쉐어하우스 등에 거주하며 임대인 사업자 포함 과 개별 임대차 계약을 체결한       ( ) ( )※ 주민등록등본상 동거인은 동시 지원 신청 가능'), -0.013065421630408913)]\n",
      "  self.vectorstore.similarity_search_with_relevance_scores(\n"
     ]
    },
    {
     "name": "stdout",
     "output_type": "stream",
     "text": [
      "- '혜택' 검색 완료 (유사도 0.7 이상, 최대 3개)\n",
      "- '필수 서류' 검색 완료 (유사도 0.7 이상, 최대 3개)\n",
      "- '정책 지역' 검색 완료 (유사도 0.7 이상, 최대 3개)\n",
      "- '제외 대상자' 검색 완료 (유사도 0.7 이상, 최대 3개)\n",
      "\\n[2단계 결과] 총 6개의 고유한 정보 조각을 찾았습니다.\n"
     ]
    }
   ],
   "source": [
    "retrieved_body_chunks = []\n",
    "if original_collection_name:\n",
    "    # 본문 벡터 저장소 로드\n",
    "    body_vectorstore = Chroma(\n",
    "        persist_directory=BODY_DB_PATH,\n",
    "        embedding_function=embeddings,\n",
    "        collection_name=original_collection_name\n",
    "    )\n",
    "    \n",
    "    # 상세 정보 키워드 리스트\n",
    "    detail_queries = [\"필수 조건\", \"우대 조건\", \"혜택\", \"필수 서류\", \"정책 지역\", \"제외 대상자\"]\n",
    "    \n",
    "    # 검색된 문서의 ID를 저장하여 중복 방지\n",
    "    retrieved_doc_ids = set()\n",
    "    \n",
    "    print(f\"[2단계 시작] '{policy_name}' 정책의 상세 정보를 각 항목별로 검색합니다.\")\n",
    "    \n",
    "    for query in detail_queries:\n",
    "        # 유사도 점수 임계값을 사용한 리트리버 설정\n",
    "        # score_threshold: 0.7 (0~1 사이, 1에 가까울수록 유사)\n",
    "        # 여기서는 유사도 세팅값을 되게 낮춰야 좀 적당히 나오더라구요. 실 사용시에 여러번 낮은 값으로 테스트 해보시면 좋을 것 같습니다.\n",
    "        # 어차피 정확한 하나의 문서에서 RAG 연산 할거라서 지금 보니까 임계값 없어도 될 것 같기도 하고..\n",
    "        body_retriever = body_vectorstore.as_retriever(\n",
    "            search_type=\"similarity_score_threshold\",\n",
    "            search_kwargs={\n",
    "                \"k\": 4,\n",
    "                \"score_threshold\": 0.01\n",
    "            }\n",
    "        )\n",
    "        \n",
    "        # 각 키워드로 문서 검색\n",
    "        retrieved_docs = body_retriever.get_relevant_documents(query)\n",
    "        \n",
    "        # 중복되지 않은 문서만 추가\n",
    "        for doc in retrieved_docs:\n",
    "            if doc.metadata.get('id', doc.page_content) not in retrieved_doc_ids:\n",
    "                retrieved_body_chunks.append(doc)\n",
    "                retrieved_doc_ids.add(doc.metadata.get('id', doc.page_content))\n",
    "        \n",
    "        print(f\"- '{query}' 검색 완료 (유사도 0.7 이상, 최대 3개)\")\n",
    "\n",
    "    print(f\"\\\\n[2단계 결과] 총 {len(retrieved_body_chunks)}개의 고유한 정보 조각을 찾았습니다.\")\n",
    "\n",
    "else:\n",
    "    print(\"[2단계 결과] 상세 정보를 찾을 수 없습니다.\")"
   ]
  },
  {
   "cell_type": "markdown",
   "id": "32d9f6f2",
   "metadata": {},
   "source": [
    "## 4. 답변 생성"
   ]
  },
  {
   "cell_type": "code",
   "execution_count": 23,
   "id": "9758f0f0",
   "metadata": {},
   "outputs": [
    {
     "name": "stdout",
     "output_type": "stream",
     "text": [
      "[3단계 결과] 최종 답변을 생성합니다.\n",
      "\n",
      "1. **필수 조건**  \n",
      "- 만 19세 이상 39세 이하 무주택자 청년  \n",
      "- 서울시에 주민등록이 되어 있고 실제 거주하는 자  \n",
      "- 신청인 가구의 건강보험료 부과액이 기준 중위소득 150% 이하  \n",
      "- 임대차계약서상 임차인 본인이 신청해야 하며, 주민등록 전입신고가 되어 있어야 함  \n",
      "- 외국인은 신청 불가, 재외국민은 건강보험 가입자 또는 피부양자일 경우 가능  \n",
      "\n",
      "2. **우대 조건**  \n",
      "- 해당 없음 (우대 조건에 관한 별도 정보 없음)  \n",
      "\n",
      "3. **혜택**  \n",
      "- 월세 지원금 지급 (임대차계약서에 명시된 월세 기준)  \n",
      "- 선정인원 15,000명, 선정 후 격월로 계좌 입금 (예: 7~9월분 10월 지급, 10~11월분 12월 지급)  \n",
      "- 임차보증금과 월세를 환산하여 지원금 산정  \n",
      "\n",
      "4. **필수 서류**  \n",
      "- 확정일자가 날인된 임대차계약서 전체 사본 (임대인, 임차인 성명, 생년월일, 임대차 기간, 보증금, 월세 명시)  \n",
      "- 건강보험료 부과 내역 (자동 조회, 어려울 경우 별도 소득증빙 요청 가능)  \n",
      "- 월세 이체 확인증 (최근 3개월간 월세 납부 내역)  \n",
      "- 가족관계증명서 (본인 기준, 공고일 이후 발급분)  \n",
      "- 전대차 계약 시 전대차 계약서, 전대인 임대차 계약서, 건축물대장 등 추가 서류  \n",
      "- 고시원, 게스트하우스 등 특수 주거형태는 입실확인서, 임대사업자등록증 등 별도 제출  \n",
      "\n",
      "5. **정책 지역**  \n",
      "- 서울특별시 내에서 시행  \n",
      "\n",
      "6. **제외 대상자**  \n",
      "- 국토교통부 청년월세 한시 특별지원금 수혜 중인 자 (지원 종료 후 신청 가능)  \n",
      "- 서울시 청년월세지원금 기선정자  \n",
      "- 신청인 본인 주택 소유자(분양권, 입주권, 공유지분 포함)  \n",
      "- 일반재산 총액 1억 3천만원 초과자  \n",
      "- 차량 시가표준액 2,500만원 초과 자동차 소유자  \n",
      "- 국민기초생활수급자(생계, 의료, 주거급여 대상자)  \n",
      "- 서울시 청년수당 수혜자 및 유사 자치구 청년월세지원 사업 수혜자  \n",
      "- 공공임대주택(영구임대, 국민임대, 매입임대 등) 거주자  \n",
      "- 임대인(집주인)이 신청인의 부모인 경우  \n",
      "- 공동임차인 모두 신청하는 경우  \n",
      "- 기타 사업 취지에 부합하지 않는 경우\n"
     ]
    }
   ],
   "source": [
    "if retrieved_body_chunks:\n",
    "    # 프롬프트 템플릿 정의\n",
    "    template = \"\"\"\n",
    "    당신은 정책 전문가입니다. 다음은 '{policy_name}' 정책에 대한 정보입니다. \n",
    "    이 정보를 바탕으로 사용자의 질문에 맞춰 다음 6가지 항목에 대해 명확하고 간결하게 요약하여 답변해주세요.\n",
    "\n",
    "    \n",
    "    \n",
    "    1.  **필수 조건**: 누가 신청할 수 있나요?\n",
    "    2.  **우대 조건**: 어떤 경우에 더 유리한가요? (정보가 없다면 '해당 없음'으로 표시)\n",
    "    3.  **혜택**: 무엇을 받을 수 있나요?\n",
    "    4.  **필수 서류**: 무엇을 준비해야 하나요?\n",
    "    5.  **정책 지역**: 어디에서 시행되는 정책인가요?\n",
    "    6.  **제외 대상자**: 어떤 경우에 해당정책에 제외 되나요?\n",
    "    --- 정보 ---\n",
    "    {context}\n",
    "    --- --- ---\n",
    "\n",
    "    답변:\n",
    "    \"\"\"\n",
    "    \n",
    "    prompt = ChatPromptTemplate.from_template(template)\n",
    "    \n",
    "    # 검색된 정보 조각들을 하나의 문자열로 합침\n",
    "    context_str = \"\\n\\n\".join([chunk.page_content for chunk in retrieved_body_chunks])\n",
    "    \n",
    "    # LangChain 체인 구성\n",
    "    rag_chain = (\n",
    "        {\"context\": lambda x: context_str, \"policy_name\": lambda x: policy_name} \n",
    "        | prompt \n",
    "        | llm \n",
    "        | StrOutputParser()\n",
    "    )\n",
    "\n",
    "    # 답변 생성 실행\n",
    "    print(\"[3단계 결과] 최종 답변을 생성합니다.\\n\")\n",
    "    final_answer = rag_chain.invoke({})\n",
    "    print(final_answer)\n",
    "else:\n",
    "    print(\"[3단계 결과] 답변을 생성할 정보가 부족합니다.\")"
   ]
  }
 ],
 "metadata": {
  "kernelspec": {
   "display_name": "10_LLM_TeamProject",
   "language": "python",
   "name": "python3"
  },
  "language_info": {
   "codemirror_mode": {
    "name": "ipython",
    "version": 3
   },
   "file_extension": ".py",
   "mimetype": "text/x-python",
   "name": "python",
   "nbconvert_exporter": "python",
   "pygments_lexer": "ipython3",
   "version": "3.11.13"
  }
 },
 "nbformat": 4,
 "nbformat_minor": 5
}
