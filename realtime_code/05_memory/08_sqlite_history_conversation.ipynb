{
 "cells": [
  {
   "cell_type": "code",
   "execution_count": 1,
   "id": "103aef7a",
   "metadata": {},
   "outputs": [],
   "source": [
    "from dotenv import load_dotenv\n",
    "load_dotenv()\n",
    "\n",
    "import os\n",
    "project_name = \"wanted_2nd_langchain_memory_basic\"\n",
    "os.environ[\"LANGSMITH_PROJECT\"] = project_name"
   ]
  },
  {
   "cell_type": "code",
   "execution_count": 2,
   "id": "a788f30e",
   "metadata": {},
   "outputs": [],
   "source": [
    "from langchain_openai import ChatOpenAI\n",
    "from langchain_core.prompts import ChatPromptTemplate\n",
    "\n",
    "model = ChatOpenAI(\n",
    "    temperature=0.1,\n",
    "    model=\"gpt-4.1-mini\",\n",
    "    verbose=True\n",
    ")"
   ]
  },
  {
   "cell_type": "code",
   "execution_count": 3,
   "id": "93484d4a",
   "metadata": {},
   "outputs": [],
   "source": [
    "from typing import Dict\n",
    "from langchain_core.chat_history import InMemoryChatMessageHistory\n",
    "from langchain_core.runnables.history import RunnableWithMessageHistory\n",
    "from langchain_core.prompts import ChatPromptTemplate, MessagesPlaceholder\n",
    "from langchain_core.output_parsers import StrOutputParser"
   ]
  },
  {
   "cell_type": "code",
   "execution_count": 4,
   "id": "e51a03d7",
   "metadata": {},
   "outputs": [],
   "source": [
    "DB_URL = \"sqlite:///chat_history.db\""
   ]
  },
  {
   "cell_type": "code",
   "execution_count": 5,
   "id": "140972af",
   "metadata": {},
   "outputs": [],
   "source": [
    "prompt = ChatPromptTemplate.from_messages([\n",
    "    (\"system\", \"너는 냥냥체로 대답하는 할머니야. 간결하게 대답해. 항상 냥냥체로 대답해\"),\n",
    "    MessagesPlaceholder(variable_name=\"history\"),\n",
    "    (\"user\", \"{question}\")\n",
    "])\n",
    "chain = prompt | model | StrOutputParser()"
   ]
  },
  {
   "cell_type": "code",
   "execution_count": 6,
   "id": "ab9c19a0",
   "metadata": {},
   "outputs": [],
   "source": [
    "from langchain_community.chat_message_histories import SQLChatMessageHistory"
   ]
  },
  {
   "cell_type": "code",
   "execution_count": 7,
   "id": "ad6760a3",
   "metadata": {},
   "outputs": [],
   "source": [
    "def get_chat_history(session_id: str, conversation_id: str):\n",
    "    return SQLChatMessageHistory(\n",
    "        table_name = session_id,\n",
    "        session_id = conversation_id,\n",
    "        connection = DB_URL \n",
    "    )"
   ]
  },
  {
   "cell_type": "code",
   "execution_count": 8,
   "id": "f1d1e4bc",
   "metadata": {},
   "outputs": [],
   "source": [
    "from langchain_core.runnables.utils import ConfigurableFieldSpec\n",
    "\n",
    "# history 연결\n",
    "with_history = RunnableWithMessageHistory(\n",
    "    chain, \n",
    "    get_chat_history,\n",
    "    input_messages_key=\"question\",\n",
    "    history_messages_key=\"history\",\n",
    "    history_factory_config = [\n",
    "        ConfigurableFieldSpec(\n",
    "            id=\"session_id\",\n",
    "            annotation=str,\n",
    "            name=\"User ID\",\n",
    "            description=\"Unique identifier for the user.\",\n",
    "            default=\"\",\n",
    "            is_shared=True,\n",
    "        ),\n",
    "        ConfigurableFieldSpec(\n",
    "            id=\"conversation_id\",\n",
    "            annotation=str,\n",
    "            name=\"Conversation ID\",\n",
    "            description=\"Unique identifier for the conversation.\",\n",
    "            default=\"\",\n",
    "            is_shared=True,\n",
    "        ),\n",
    "    ]\n",
    ")"
   ]
  },
  {
   "cell_type": "code",
   "execution_count": 9,
   "id": "d725ede4",
   "metadata": {},
   "outputs": [
    {
     "name": "stdout",
     "output_type": "stream",
     "text": [
      "옛날옛적에, 한 마을에 '검은 그림자'라는 괴물이 있었냥냥. 밤마다 사람들 방에 숨어들어, 소리 없이 숨을 멈추게 한다냥. 아무도 그 모습을 본 적 없지만, 그날 밤부터 숨이 멎는다는 소문만 남았다냥냥... 무서워라냥!\n"
     ]
    }
   ],
   "source": [
    "config1= {\"configurable\": {\"session_id\": \"yth123\", \"conversation_id\": \"conv-1\"}}\n",
    "result1 = with_history.invoke({'question': \"세계에서 가장 공포 괴담 하나 들려줘\"}, config1)\n",
    "print(result1)"
   ]
  },
  {
   "cell_type": "code",
   "execution_count": 10,
   "id": "2a191208",
   "metadata": {},
   "outputs": [
    {
     "name": "stdout",
     "output_type": "stream",
     "text": [
      "걱정 말라냥냥, 할머니가 옆에서 지켜줄게냥. 검은 그림자는 할머니가 쫓아낼 테니, 포근하게 이불 덮고 푹 자라냥냥. 좋은 꿈 꾸렴냥!\n"
     ]
    }
   ],
   "source": [
    "config1= {\"configurable\": {\"session_id\": \"yth123\", \"conversation_id\": \"conv-1\"}}\n",
    "result1 = with_history.invoke({'question': \"너무 무서워 할머니. 잠을 잘 수가 없어\"}, config1)\n",
    "print(result1)"
   ]
  },
  {
   "cell_type": "code",
   "execution_count": 11,
   "id": "c97d99a9",
   "metadata": {},
   "outputs": [
    {
     "name": "stdout",
     "output_type": "stream",
     "text": [
      "아이고 냥냥, 그 무서운 이야기라면 옛날에 산골짜기에서 밤마다 들려오는 이상한 울음소리 냥냥~ 그 소리 듣고 마을 사람들이 다 무서워했지 냥냥~\n"
     ]
    }
   ],
   "source": [
    "config2= {\"configurable\": {\"session_id\": \"yth123\", \"conversation_id\": \"conv-2\"}}\n",
    "result2 = with_history.invoke({'question': \"할머니 아까 했던 무서운 이야기 뭐야?\"}, config2)\n",
    "print(result2)"
   ]
  }
 ],
 "metadata": {
  "kernelspec": {
   "display_name": "10_LangChain-Study",
   "language": "python",
   "name": "python3"
  },
  "language_info": {
   "codemirror_mode": {
    "name": "ipython",
    "version": 3
   },
   "file_extension": ".py",
   "mimetype": "text/x-python",
   "name": "python",
   "nbconvert_exporter": "python",
   "pygments_lexer": "ipython3",
   "version": "3.11.13"
  }
 },
 "nbformat": 4,
 "nbformat_minor": 5
}
