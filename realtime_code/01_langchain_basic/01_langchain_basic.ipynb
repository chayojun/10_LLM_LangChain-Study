{
 "cells": [
  {
   "cell_type": "markdown",
   "id": "c1387b9c",
   "metadata": {},
   "source": [
    "### 랭스미스 추적 설정"
   ]
  },
  {
   "cell_type": "code",
   "execution_count": 1,
   "id": "afd135a6",
   "metadata": {},
   "outputs": [],
   "source": [
    "from dotenv import load_dotenv\n",
    "load_dotenv()\n",
    "\n",
    "import os \n",
    "project_name = \"wanted_2nd_langchain_basic\"\n",
    "os.environ[\"LANGSMITH_PROJECT\"] = project_name"
   ]
  },
  {
   "cell_type": "markdown",
   "id": "ba8db7b8",
   "metadata": {},
   "source": [
    "### 연결 확인"
   ]
  },
  {
   "cell_type": "code",
   "execution_count": 2,
   "id": "7fa29723",
   "metadata": {},
   "outputs": [],
   "source": [
    "from langchain_openai import ChatOpenAI\n",
    "\n",
    "model = ChatOpenAI(\n",
    "    temperature=0.1,\n",
    "    model=\"gpt-4.1-mini\",\n",
    "    verbose=True\n",
    ")"
   ]
  },
  {
   "cell_type": "code",
   "execution_count": 6,
   "id": "8a27e2c6",
   "metadata": {},
   "outputs": [],
   "source": [
    "question = \"일년에 취업하는 인원수는?\"\n",
    "\n",
    "response = model.invoke(question)"
   ]
  },
  {
   "cell_type": "code",
   "execution_count": 8,
   "id": "146207bc",
   "metadata": {},
   "outputs": [
    {
     "name": "stdout",
     "output_type": "stream",
     "text": [
      "content='안녕하세요! 질문하신 \"일년에 취업하는 인원수\"에 대해 좀 더 구체적인 정보가 필요합니다. 예를 들어,\\n\\n- 어느 국가나 지역의 취업 인원수를 알고 싶으신가요?\\n- 특정 산업이나 분야에 관한 정보인가요?\\n- 특정 연도나 기간에 대한 데이터가 필요하신가요?\\n\\n이 정보를 알려주시면 더 정확한 답변을 드릴 수 있습니다. 추가 정보를 주시면 감사하겠습니다!' additional_kwargs={'refusal': None} response_metadata={'token_usage': {'completion_tokens': 101, 'prompt_tokens': 17, 'total_tokens': 118, 'completion_tokens_details': {'accepted_prediction_tokens': 0, 'audio_tokens': 0, 'reasoning_tokens': 0, 'rejected_prediction_tokens': 0}, 'prompt_tokens_details': {'audio_tokens': 0, 'cached_tokens': 0}}, 'model_name': 'gpt-4.1-mini-2025-04-14', 'system_fingerprint': 'fp_6d7dcc9a98', 'id': 'chatcmpl-CLou3gYCi2KnRt7THyaWBQx4vn5Ih', 'service_tier': 'default', 'finish_reason': 'stop', 'logprobs': None} id='run--b36c046e-8205-4e94-914f-813c5c5fb7fa-0' usage_metadata={'input_tokens': 17, 'output_tokens': 101, 'total_tokens': 118, 'input_token_details': {'audio': 0, 'cache_read': 0}, 'output_token_details': {'audio': 0, 'reasoning': 0}}\n"
     ]
    }
   ],
   "source": [
    "print(response)"
   ]
  },
  {
   "cell_type": "code",
   "execution_count": 7,
   "id": "ab7800d3",
   "metadata": {},
   "outputs": [
    {
     "name": "stdout",
     "output_type": "stream",
     "text": [
      "안녕하세요! 질문하신 \"일년에 취업하는 인원수\"에 대해 좀 더 구체적인 정보가 필요합니다. 예를 들어,\n",
      "\n",
      "- 어느 국가나 지역의 취업 인원수를 알고 싶으신가요?\n",
      "- 특정 산업이나 분야에 관한 정보인가요?\n",
      "- 특정 연도나 기간에 대한 데이터가 필요하신가요?\n",
      "\n",
      "이 정보를 알려주시면 더 정확한 답변을 드릴 수 있습니다. 추가 정보를 주시면 감사하겠습니다!\n"
     ]
    }
   ],
   "source": [
    "print(response.content)"
   ]
  },
  {
   "cell_type": "code",
   "execution_count": 9,
   "id": "2632931e",
   "metadata": {},
   "outputs": [
    {
     "data": {
      "text/plain": [
       "{'token_usage': {'completion_tokens': 101,\n",
       "  'prompt_tokens': 17,\n",
       "  'total_tokens': 118,\n",
       "  'completion_tokens_details': {'accepted_prediction_tokens': 0,\n",
       "   'audio_tokens': 0,\n",
       "   'reasoning_tokens': 0,\n",
       "   'rejected_prediction_tokens': 0},\n",
       "  'prompt_tokens_details': {'audio_tokens': 0, 'cached_tokens': 0}},\n",
       " 'model_name': 'gpt-4.1-mini-2025-04-14',\n",
       " 'system_fingerprint': 'fp_6d7dcc9a98',\n",
       " 'id': 'chatcmpl-CLou3gYCi2KnRt7THyaWBQx4vn5Ih',\n",
       " 'service_tier': 'default',\n",
       " 'finish_reason': 'stop',\n",
       " 'logprobs': None}"
      ]
     },
     "execution_count": 9,
     "metadata": {},
     "output_type": "execute_result"
    }
   ],
   "source": [
    "response.response_metadata"
   ]
  },
  {
   "cell_type": "markdown",
   "id": "0058f972",
   "metadata": {},
   "source": [
    "### 스트리밍 출력"
   ]
  },
  {
   "cell_type": "code",
   "execution_count": 10,
   "id": "185e3efc",
   "metadata": {},
   "outputs": [
    {
     "name": "stdout",
     "output_type": "stream",
     "text": [
      "질문하신 \"일년에 취업하는 인원수\"에 대해 좀 더 구체적인 정보가 필요합니다. 예를 들어, 어느 국가나 특정 산업, 연령대, 혹은 특정 시기의 취업 인원을 말씀하시는지 알려주시면 더 정확한 답변을 드릴 수 있습니다.\n",
      "\n",
      "일반적으로 국가별 취업자 수는 통계청이나 노동부 등 공식 기관에서 매년 발표하는 고용통계 자료를 참고할 수 있습니다. 예를 들어, 대한민국의 경우 통계청의 경제활동인구조사 결과를 통해 연간 취업자 수 변동을 확인할 수 있습니다.\n",
      "\n",
      "원하시는 정보의 범위나 대상 국가를 알려주시면 관련 데이터를 찾아서 안내해 드리겠습니다."
     ]
    }
   ],
   "source": [
    "answer = model.stream(question)\n",
    "\n",
    "for token in answer:\n",
    "    print(token.content, end=\"\", flush=True)"
   ]
  }
 ],
 "metadata": {
  "kernelspec": {
   "display_name": "10_LangChain-Study",
   "language": "python",
   "name": "python3"
  },
  "language_info": {
   "codemirror_mode": {
    "name": "ipython",
    "version": 3
   },
   "file_extension": ".py",
   "mimetype": "text/x-python",
   "name": "python",
   "nbconvert_exporter": "python",
   "pygments_lexer": "ipython3",
   "version": "3.11.13"
  }
 },
 "nbformat": 4,
 "nbformat_minor": 5
}
