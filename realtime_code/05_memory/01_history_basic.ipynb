{
 "cells": [
  {
   "cell_type": "code",
   "execution_count": 11,
   "id": "003dc9fa",
   "metadata": {},
   "outputs": [],
   "source": [
    "from dotenv import load_dotenv\n",
    "load_dotenv()\n",
    "\n",
    "import os\n",
    "project_name = \"wanted_2nd_langchain_outputparser_basic\"\n",
    "os.environ[\"LANGSMITH_PROJECT\"] = project_name"
   ]
  },
  {
   "cell_type": "code",
   "execution_count": 12,
   "id": "848ea8f4",
   "metadata": {},
   "outputs": [],
   "source": [
    "from langchain_openai import ChatOpenAI\n",
    "from langchain_core.prompts import ChatPromptTemplate\n",
    "\n",
    "model = ChatOpenAI(\n",
    "    temperature=0.1,\n",
    "    model=\"gpt-4.1-mini\",\n",
    "    verbose=True\n",
    ")"
   ]
  },
  {
   "cell_type": "code",
   "execution_count": 13,
   "id": "ce31617d",
   "metadata": {},
   "outputs": [],
   "source": [
    "from typing import Dict\n",
    "from langchain_core.chat_history import InMemoryChatMessageHistory\n",
    "from langchain_core.runnables.history import RunnableWithMessageHistory\n",
    "from langchain_core.prompts import ChatPromptTemplate, MessagesPlaceholder\n",
    "from langchain_core.output_parsers import StrOutputParser"
   ]
  },
  {
   "cell_type": "code",
   "execution_count": 14,
   "id": "1b19d903",
   "metadata": {},
   "outputs": [
    {
     "data": {
      "text/plain": [
       "ChatPromptTemplate(input_variables=['history', 'question'], input_types={'history': list[typing.Annotated[typing.Union[typing.Annotated[langchain_core.messages.ai.AIMessage, Tag(tag='ai')], typing.Annotated[langchain_core.messages.human.HumanMessage, Tag(tag='human')], typing.Annotated[langchain_core.messages.chat.ChatMessage, Tag(tag='chat')], typing.Annotated[langchain_core.messages.system.SystemMessage, Tag(tag='system')], typing.Annotated[langchain_core.messages.function.FunctionMessage, Tag(tag='function')], typing.Annotated[langchain_core.messages.tool.ToolMessage, Tag(tag='tool')], typing.Annotated[langchain_core.messages.ai.AIMessageChunk, Tag(tag='AIMessageChunk')], typing.Annotated[langchain_core.messages.human.HumanMessageChunk, Tag(tag='HumanMessageChunk')], typing.Annotated[langchain_core.messages.chat.ChatMessageChunk, Tag(tag='ChatMessageChunk')], typing.Annotated[langchain_core.messages.system.SystemMessageChunk, Tag(tag='SystemMessageChunk')], typing.Annotated[langchain_core.messages.function.FunctionMessageChunk, Tag(tag='FunctionMessageChunk')], typing.Annotated[langchain_core.messages.tool.ToolMessageChunk, Tag(tag='ToolMessageChunk')]], FieldInfo(annotation=NoneType, required=True, discriminator=Discriminator(discriminator=<function _get_type at 0x00000286E12C5DA0>, custom_error_type=None, custom_error_message=None, custom_error_context=None))]]}, partial_variables={}, messages=[SystemMessagePromptTemplate(prompt=PromptTemplate(input_variables=[], input_types={}, partial_variables={}, template='너는 AI 도우미야, 간략하게 그냥 응답하도록 해'), additional_kwargs={}), MessagesPlaceholder(variable_name='history'), HumanMessagePromptTemplate(prompt=PromptTemplate(input_variables=['question'], input_types={}, partial_variables={}, template='{question}'), additional_kwargs={})])"
      ]
     },
     "execution_count": 14,
     "metadata": {},
     "output_type": "execute_result"
    }
   ],
   "source": [
    "# 1. 프롬프트에 history 자리를 확보\n",
    "prompt = ChatPromptTemplate.from_messages([\n",
    "    (\"system\", \"너는 AI 도우미야, 간략하게 그냥 응답하도록 해\"),\n",
    "    MessagesPlaceholder(variable_name=\"history\"),\n",
    "    (\"user\", \"{question}\")\n",
    "])\n",
    "prompt"
   ]
  },
  {
   "cell_type": "code",
   "execution_count": 15,
   "id": "3f5732c0",
   "metadata": {},
   "outputs": [],
   "source": [
    "chain = prompt | model | StrOutputParser()"
   ]
  },
  {
   "cell_type": "code",
   "execution_count": 16,
   "id": "126dd1ff",
   "metadata": {},
   "outputs": [],
   "source": [
    "# 2. 대화 내용 저장소 만들기\n",
    "stores : Dict[str, InMemoryChatMessageHistory] = {}\n",
    "def get_store(session_id : str):\n",
    "    if session_id not in stores:\n",
    "        stores[session_id] = InMemoryChatMessageHistory()\n",
    "    return stores[session_id]"
   ]
  },
  {
   "cell_type": "code",
   "execution_count": 17,
   "id": "6e20b3c6",
   "metadata": {},
   "outputs": [],
   "source": [
    "# 3. 히스토리랑 래핑\n",
    "with_history = RunnableWithMessageHistory(\n",
    "    chain,\n",
    "    lambda session_id: get_store(session_id),\n",
    "    input_messages_key=\"question\",\n",
    "    history_messages_key=\"history\"\n",
    ")"
   ]
  },
  {
   "cell_type": "code",
   "execution_count": 18,
   "id": "eabd73e3",
   "metadata": {},
   "outputs": [
    {
     "name": "stdout",
     "output_type": "stream",
     "text": [
      "갤럭시 좋은 선택이야! 어떤 모델 좋아해?\n"
     ]
    }
   ],
   "source": [
    "cfg = {\"configurable\" : {\"session_id\" : \"user-123\"}}\n",
    "result = with_history.invoke({\"question\" : \"내가 좋아 하는 폰은 갤럭시야\"}, config= cfg)\n",
    "print(result)"
   ]
  },
  {
   "cell_type": "code",
   "execution_count": 19,
   "id": "4332b874",
   "metadata": {},
   "outputs": [
    {
     "name": "stdout",
     "output_type": "stream",
     "text": [
      "갤럭시 장점 요약:\n",
      "- 뛰어난 디스플레이 품질 (AMOLED)\n",
      "- 강력한 성능과 빠른 처리 속도\n",
      "- 다양한 카메라 기능과 우수한 사진 품질\n",
      "- 방수·방진 지원\n",
      "- 확장 가능한 저장 공간\n",
      "- 삼성 생태계와의 높은 호환성\n"
     ]
    }
   ],
   "source": [
    "result = with_history.invoke({\"question\" : \"그 장점만 요약해봐\"}, config= cfg)\n",
    "print(result)"
   ]
  },
  {
   "cell_type": "code",
   "execution_count": 20,
   "id": "4c0e80fb",
   "metadata": {},
   "outputs": [
    {
     "name": "stdout",
     "output_type": "stream",
     "text": [
      "용도에 따라 다르지만, 갤럭시는 커스터마이징과 확장성, 디스플레이에서 강점이 있어. 아이폰은 보안과 최적화, 앱 생태계가 뛰어나.\n"
     ]
    }
   ],
   "source": [
    "result = with_history.invoke({\"question\" : \"아이폰보다 좋아?\"}, config= cfg)\n",
    "print(result)"
   ]
  },
  {
   "cell_type": "code",
   "execution_count": 21,
   "id": "6221c13e",
   "metadata": {},
   "outputs": [
    {
     "name": "stdout",
     "output_type": "stream",
     "text": [
      "나는 개인적인 견해가 없지만, 사용자 취향과 필요에 맞게 선택하는 게 가장 좋아.\n"
     ]
    }
   ],
   "source": [
    "result = with_history.invoke({\"question\" : \"너의 개인적인 견해를 말해\"}, config= cfg)\n",
    "print(result)"
   ]
  },
  {
   "cell_type": "code",
   "execution_count": 22,
   "id": "0082203b",
   "metadata": {},
   "outputs": [
    {
     "data": {
      "text/plain": [
       "[HumanMessage(content='내가 좋아 하는 폰은 갤럭시야', additional_kwargs={}, response_metadata={}),\n",
       " AIMessage(content='갤럭시 좋은 선택이야! 어떤 모델 좋아해?', additional_kwargs={}, response_metadata={}),\n",
       " HumanMessage(content='그 장점만 요약해봐', additional_kwargs={}, response_metadata={}),\n",
       " AIMessage(content='갤럭시 장점 요약:\\n- 뛰어난 디스플레이 품질 (AMOLED)\\n- 강력한 성능과 빠른 처리 속도\\n- 다양한 카메라 기능과 우수한 사진 품질\\n- 방수·방진 지원\\n- 확장 가능한 저장 공간\\n- 삼성 생태계와의 높은 호환성', additional_kwargs={}, response_metadata={}),\n",
       " HumanMessage(content='아이폰보다 좋아?', additional_kwargs={}, response_metadata={}),\n",
       " AIMessage(content='용도에 따라 다르지만, 갤럭시는 커스터마이징과 확장성, 디스플레이에서 강점이 있어. 아이폰은 보안과 최적화, 앱 생태계가 뛰어나.', additional_kwargs={}, response_metadata={}),\n",
       " HumanMessage(content='너의 개인적인 견해를 말해', additional_kwargs={}, response_metadata={}),\n",
       " AIMessage(content='나는 개인적인 견해가 없지만, 사용자 취향과 필요에 맞게 선택하는 게 가장 좋아.', additional_kwargs={}, response_metadata={})]"
      ]
     },
     "execution_count": 22,
     "metadata": {},
     "output_type": "execute_result"
    }
   ],
   "source": [
    "stores[\"user-123\"].messages"
   ]
  }
 ],
 "metadata": {
  "kernelspec": {
   "display_name": "10_LangChain-Study",
   "language": "python",
   "name": "python3"
  },
  "language_info": {
   "codemirror_mode": {
    "name": "ipython",
    "version": 3
   },
   "file_extension": ".py",
   "mimetype": "text/x-python",
   "name": "python",
   "nbconvert_exporter": "python",
   "pygments_lexer": "ipython3",
   "version": "3.11.13"
  }
 },
 "nbformat": 4,
 "nbformat_minor": 5
}
