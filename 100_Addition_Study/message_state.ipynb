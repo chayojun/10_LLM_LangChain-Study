{
 "cells": [
  {
   "cell_type": "code",
   "execution_count": 1,
   "id": "3575bccc",
   "metadata": {},
   "outputs": [
    {
     "data": {
      "text/plain": [
       "True"
      ]
     },
     "execution_count": 1,
     "metadata": {},
     "output_type": "execute_result"
    }
   ],
   "source": [
    "from typing import Annotated, TypedDict\n",
    "from langgraph.graph import StateGraph, START, END\n",
    "from operator import add\n",
    "from langgraph.graph.message import add_messages\n",
    "from langchain_core.messages import HumanMessage, AIMessage\n",
    "from langchain_openai import ChatOpenAI\n",
    "\n",
    "from dotenv import load_dotenv\n",
    "load_dotenv()"
   ]
  },
  {
   "cell_type": "code",
   "execution_count": 2,
   "id": "0ef67a0f",
   "metadata": {},
   "outputs": [],
   "source": [
    "# add_messages 기능은 클릭해서 꼭 보세요."
   ]
  },
  {
   "cell_type": "markdown",
   "id": "25912642",
   "metadata": {},
   "source": [
    "### 1. State 정의: add, add_messages 비교해서 사용해볼 state 설정"
   ]
  },
  {
   "cell_type": "code",
   "execution_count": 3,
   "id": "a1d73e42",
   "metadata": {},
   "outputs": [],
   "source": [
    "class CompareState(TypedDict):\n",
    "    item : Annotated[list[str], add]\n",
    "\n",
    "    messages : Annotated[list, add_messages]"
   ]
  },
  {
   "cell_type": "markdown",
   "id": "b39e2a1e",
   "metadata": {},
   "source": [
    "### 2. 노드 추가"
   ]
  },
  {
   "cell_type": "code",
   "execution_count": null,
   "id": "30569067",
   "metadata": {},
   "outputs": [],
   "source": [
    "def step1_add_data(state: CompareState) -> CompareState:\n",
    "    \"\"\"첫번째 데이터 추가하기\"\"\"\n",
    "\n",
    "    print(\"첫번째 데이터 추가하기\")\n",
    "    print(\"item: ['칸초', '초코송이']\")\n",
    "    print(\"messages: Humanmessages('안녕')\")\n",
    "\n",
    "    return {\n",
    "        \"item\" : [\"칸초\", \"초코송이\"],\n",
    "        \"messages\" : [HumanMessage(content=\"안녕\"), ]\n",
    "    }\n",
    "\n",
    "def step2_add_data(state: CompareState) -> CompareState:\n",
    "    \"\"\"두번째 데이터 추가하기\"\"\"\n",
    "\n",
    "    print(\"두번째 데이터 추가하기\")\n",
    "    print(\"item: ['초코송이', '홈런볼']\")\n",
    "    print(\"messages: AImessages('반가워요')\")\n",
    "\n",
    "    return {\n",
    "        \"item\" : [\"초코송이\", \"홈런볼\"],\n",
    "        \"messages\" : [AIMessage(content=\"반가워요\")]\n",
    "    }"
   ]
  },
  {
   "cell_type": "code",
   "execution_count": 20,
   "id": "e64dcc76",
   "metadata": {},
   "outputs": [
    {
     "data": {
      "image/png": "[encoded data removed]",
      "text/plain": [
       "<langgraph.graph.state.CompiledStateGraph object at 0x00000270FF791C50>"
      ]
     },
     "execution_count": 20,
     "metadata": {},
     "output_type": "execute_result"
    }
   ],
   "source": [
    "# 그래프 생성하기\n",
    "workflow = StateGraph(CompareState)\n",
    "workflow.add_node(\"step1\", step1_add_data)\n",
    "workflow.add_node(\"step2\", step2_add_data)\n",
    "\n",
    "# 엣지\n",
    "workflow.add_edge(\"step1\", \"step2\")\n",
    "\n",
    "# 스타트\n",
    "workflow.add_edge(START, \"step1\")\n",
    "\n",
    "# 엔드\n",
    "workflow.add_edge(\"step2\", END)\n",
    "\n",
    "# 빌드\n",
    "app = workflow.compile()\n",
    "app"
   ]
  },
  {
   "cell_type": "code",
   "execution_count": 21,
   "id": "11781dd3",
   "metadata": {},
   "outputs": [
    {
     "name": "stdout",
     "output_type": "stream",
     "text": [
      "첫번째 데이터 추가하기\n",
      "item: ['칸초', '초코송이']\n",
      "messages: Humanmessages('안녕')\n",
      "두번째 데이터 추가하기\n",
      "item: ['초코송이', '홈런볼']\n",
      "messages: Humanmessages('반가워요')\n",
      "{'item': ['칸초', '초코송이', '초코송이', '홈런볼'], 'messages': [HumanMessage(content='안녕', additional_kwargs={}, response_metadata={}, id='5858f958-27be-4946-96ea-3c0ae000bfb2'), AIMessage(content='반가워요', additional_kwargs={}, response_metadata={}, id='899dfe58-4dbb-42a1-b634-af0ebb02c009')]}\n"
     ]
    }
   ],
   "source": [
    "result = app.invoke({\n",
    "    \"item\": [],\n",
    "    \"messages\" : []\n",
    "})\n",
    "print(result)"
   ]
  },
  {
   "cell_type": "code",
   "execution_count": null,
   "id": "9cc274c8",
   "metadata": {},
   "outputs": [],
   "source": [
    "## llm 붙여보기 새로운 그래프"
   ]
  },
  {
   "cell_type": "code",
   "execution_count": null,
   "id": "e1e233f4",
   "metadata": {},
   "outputs": [
    {
     "data": {
      "image/png": "[encoded data removed]",
      "text/plain": [
       "<langgraph.graph.state.CompiledStateGraph object at 0x0000027080027ED0>"
      ]
     },
     "execution_count": 24,
     "metadata": {},
     "output_type": "execute_result"
    }
   ],
   "source": [
    "# 모델 정의\n",
    "llm = ChatOpenAI(\n",
    "    model = \"gpt-4.1-mini\",\n",
    "    temperature = 0.2\n",
    ")\n",
    "\n",
    "\n",
    "# State 정의\n",
    "class ChatState(TypedDict):\n",
    "    user_input : str\n",
    "    messages : Annotated[list, add_messages]\n",
    "\n",
    "\n",
    "# 노드 정의\n",
    "# 1. 사용자 입력 노드\n",
    "# 2. llm 답변 노드\n",
    "\n",
    "def user_input(state: ChatState) -> ChatState:\n",
    "    \"\"\"사용자 입력을 확인해서 저장하는 노드\"\"\"\n",
    "    user_input = state.get(\"user_input\", \"안녕하세요 차요준입니다.\")\n",
    "    print(\"입력합 값은\", user_input)\n",
    "\n",
    "    return {\n",
    "        \"user_input\" : user_input,\n",
    "        \"messages\" : [HumanMessage(content = user_input)]\n",
    "    }\n",
    "\n",
    "\n",
    "def llm_response(state: ChatState) -> ChatState:\n",
    "    response = llm.invoke(state.get(\"messages\", \"안녕하세요 윤택환입니다.\"))\n",
    "    return {**state,\n",
    "        \"messages\" : [response]\n",
    "    }\n",
    "\n",
    "# 그래프\n",
    "chat_workflow = StateGraph(ChatState)\n",
    "chat_workflow.add_node(\"user_input\", user_input)\n",
    "chat_workflow.add_node(\"llm_response\", llm_response)\n",
    "\n",
    "chat_workflow.add_edge(\"user_input\", \"llm_response\")\n",
    "\n",
    "chat_workflow.set_entry_point(\"user_input\")\n",
    "chat_workflow.set_finish_point(\"llm_response\")\n",
    "\n",
    "app = chat_workflow.compile()\n",
    "app"
   ]
  },
  {
   "cell_type": "code",
   "execution_count": 31,
   "id": "9f5f732e",
   "metadata": {},
   "outputs": [
    {
     "name": "stdout",
     "output_type": "stream",
     "text": [
      "입력합 값은 \n",
      "{'user_input': '', 'messages': [HumanMessage(content='', additional_kwargs={}, response_metadata={}, id='ce97df4a-8c60-4c14-bbf8-ecb0164e3c74'), AIMessage(content='Hello! How can I assist you today?', additional_kwargs={'refusal': None}, response_metadata={'token_usage': {'completion_tokens': 9, 'prompt_tokens': 7, 'total_tokens': 16, 'completion_tokens_details': {'accepted_prediction_tokens': 0, 'audio_tokens': 0, 'reasoning_tokens': 0, 'rejected_prediction_tokens': 0}, 'prompt_tokens_details': {'audio_tokens': 0, 'cached_tokens': 0}}, 'model_name': 'gpt-4.1-mini-2025-04-14', 'system_fingerprint': 'fp_4c2851f862', 'id': 'chatcmpl-CVuemvQrJx7tpWCY7F6Vf7Ycg3eoC', 'service_tier': 'default', 'finish_reason': 'stop', 'logprobs': None}, id='run--14a70e92-6dcd-486f-8335-20a2f13666d3-0', usage_metadata={'input_tokens': 7, 'output_tokens': 9, 'total_tokens': 16, 'input_token_details': {'audio': 0, 'cache_read': 0}, 'output_token_details': {'audio': 0, 'reasoning': 0}})]}\n"
     ]
    }
   ],
   "source": [
    "result = app.invoke(\n",
    "    {\"user_input\" : \"\",\n",
    "     \"messages\" : []\n",
    "     }\n",
    ")\n",
    "print(result)"
   ]
  },
  {
   "cell_type": "code",
   "execution_count": 32,
   "id": "d49d1f5e",
   "metadata": {},
   "outputs": [
    {
     "data": {
      "text/plain": [
       "{'user_input': '',\n",
       " 'messages': [HumanMessage(content='', additional_kwargs={}, response_metadata={}, id='ce97df4a-8c60-4c14-bbf8-ecb0164e3c74'),\n",
       "  AIMessage(content='Hello! How can I assist you today?', additional_kwargs={'refusal': None}, response_metadata={'token_usage': {'completion_tokens': 9, 'prompt_tokens': 7, 'total_tokens': 16, 'completion_tokens_details': {'accepted_prediction_tokens': 0, 'audio_tokens': 0, 'reasoning_tokens': 0, 'rejected_prediction_tokens': 0}, 'prompt_tokens_details': {'audio_tokens': 0, 'cached_tokens': 0}}, 'model_name': 'gpt-4.1-mini-2025-04-14', 'system_fingerprint': 'fp_4c2851f862', 'id': 'chatcmpl-CVuemvQrJx7tpWCY7F6Vf7Ycg3eoC', 'service_tier': 'default', 'finish_reason': 'stop', 'logprobs': None}, id='run--14a70e92-6dcd-486f-8335-20a2f13666d3-0', usage_metadata={'input_tokens': 7, 'output_tokens': 9, 'total_tokens': 16, 'input_token_details': {'audio': 0, 'cache_read': 0}, 'output_token_details': {'audio': 0, 'reasoning': 0}})]}"
      ]
     },
     "execution_count": 32,
     "metadata": {},
     "output_type": "execute_result"
    }
   ],
   "source": [
    "result"
   ]
  }
 ],
 "metadata": {
  "kernelspec": {
   "display_name": "10_LangChain-Study",
   "language": "python",
   "name": "python3"
  },
  "language_info": {
   "codemirror_mode": {
    "name": "ipython",
    "version": 3
   },
   "file_extension": ".py",
   "mimetype": "text/x-python",
   "name": "python",
   "nbconvert_exporter": "python",
   "pygments_lexer": "ipython3",
   "version": "3.11.13"
  }
 },
 "nbformat": 4,
 "nbformat_minor": 5
}
