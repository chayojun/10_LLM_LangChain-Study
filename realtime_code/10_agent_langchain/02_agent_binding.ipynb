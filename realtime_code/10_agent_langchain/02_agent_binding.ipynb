{
 "cells": [
  {
   "cell_type": "code",
   "execution_count": 5,
   "id": "3d3ae5e3",
   "metadata": {},
   "outputs": [],
   "source": [
    "from dotenv import load_dotenv\n",
    "load_dotenv()\n",
    "\n",
    "from langchain_core.tools import tool"
   ]
  },
  {
   "cell_type": "code",
   "execution_count": 7,
   "id": "405465f3",
   "metadata": {},
   "outputs": [],
   "source": [
    "@tool\n",
    "def add_function(a: float, b: float) -> float:\n",
    "    \"\"\"Adds two numbers together\"\"\"\n",
    "\n",
    "    return a + b"
   ]
  },
  {
   "cell_type": "code",
   "execution_count": 28,
   "id": "e3214023",
   "metadata": {},
   "outputs": [],
   "source": [
    "@tool\n",
    "def multiply_numbers(a: float, b: float) -> float:\n",
    "    \"\"\"Multiply two numbers together\"\"\"\n",
    "\n",
    "    return a * b"
   ]
  },
  {
   "cell_type": "code",
   "execution_count": 8,
   "id": "b8e782de",
   "metadata": {},
   "outputs": [],
   "source": [
    "from langchain_openai import ChatOpenAI\n",
    "from langchain.agents import create_openai_tools_agent, AgentExecutor\n",
    "from langchain_core.prompts import ChatPromptTemplate"
   ]
  },
  {
   "cell_type": "code",
   "execution_count": 10,
   "id": "06aa9bee",
   "metadata": {},
   "outputs": [],
   "source": [
    "SYSTEM_PROMPT = \"\"\"\n",
    "너는 아주 유용한 어시스턴트야. 적적한 도구를 사용하도록 도와야 합니다.\n",
    "\"\"\"\n",
    "\n",
    "\n",
    "# 1. 모델 설정\n",
    "llm = ChatOpenAI(\n",
    "    model = \"gpt-4.1-mini\",\n",
    "    temperature = 0\n",
    ")\n",
    "\n",
    "# 2. 도구 생성\n",
    "# total_tool = toolkit + [tavily_search]\n",
    "\n",
    "# 3. 프롬프트 설정\n",
    "prompt = ChatPromptTemplate.from_messages([\n",
    "    (\"system\", SYSTEM_PROMPT),\n",
    "    (\"human\", \"{input}\"),\n",
    "    (\"placeholder\", \"{agent_scratchpad}\")\n",
    "])\n",
    "\n",
    "# 4. 단일 에이전트 생성\n",
    "agent = create_openai_tools_agent(\n",
    "    llm=llm,\n",
    "    tools = [add_function],\n",
    "    prompt = prompt\n",
    ")\n",
    "\n",
    "# 5. excutor 설정\n",
    "executor = AgentExecutor(\n",
    "    agent = agent,\n",
    "    tools = [add_function],\n",
    "    verbose = True\n",
    ")"
   ]
  },
  {
   "cell_type": "code",
   "execution_count": 12,
   "id": "9dbb00cb",
   "metadata": {},
   "outputs": [
    {
     "name": "stdout",
     "output_type": "stream",
     "text": [
      "\n",
      "\n",
      "\u001b[1m> Entering new AgentExecutor chain...\u001b[0m\n",
      "\u001b[32;1m\u001b[1;3m\n",
      "Invoking: `add_function` with `{'a': 4, 'b': 7}`\n",
      "\n",
      "\n",
      "\u001b[0m\u001b[36;1m\u001b[1;3m11.0\u001b[0m\u001b[32;1m\u001b[1;3m4 + 7은 11입니다.\u001b[0m\n",
      "\n",
      "\u001b[1m> Finished chain.\u001b[0m\n",
      "{'input': '4 + 7은 뭐야?', 'output': '4 + 7은 11입니다.'}\n"
     ]
    }
   ],
   "source": [
    "result = executor.invoke({\"input\" : \"4 + 7은 뭐야?\"})\n",
    "print(result)"
   ]
  },
  {
   "cell_type": "code",
   "execution_count": 13,
   "id": "099a2c02",
   "metadata": {},
   "outputs": [
    {
     "name": "stdout",
     "output_type": "stream",
     "text": [
      "\n",
      "\n",
      "\u001b[1m> Entering new AgentExecutor chain...\u001b[0m\n",
      "\u001b[32;1m\u001b[1;3m\n",
      "Invoking: `add_function` with `{'a': 5, 'b': 5}`\n",
      "\n",
      "\n",
      "\u001b[0m\u001b[36;1m\u001b[1;3m10.0\u001b[0m\u001b[32;1m\u001b[1;3m5 * 2는 10입니다.\u001b[0m\n",
      "\n",
      "\u001b[1m> Finished chain.\u001b[0m\n",
      "{'input': '5 * 2는 뭐야?', 'output': '5 * 2는 10입니다.'}\n"
     ]
    }
   ],
   "source": [
    "result = executor.invoke({'input' : \"5 * 2는 뭐야?\"})\n",
    "print(result)"
   ]
  },
  {
   "cell_type": "code",
   "execution_count": 14,
   "id": "59fb5855",
   "metadata": {},
   "outputs": [
    {
     "name": "stdout",
     "output_type": "stream",
     "text": [
      "\n",
      "\n",
      "\u001b[1m> Entering new AgentExecutor chain...\u001b[0m\n",
      "\u001b[32;1m\u001b[1;3m\n",
      "Invoking: `add_function` with `{'a': 5, 'b': 2}`\n",
      "\n",
      "\n",
      "\u001b[0m\u001b[36;1m\u001b[1;3m7.0\u001b[0m\u001b[32;1m\u001b[1;3m\n",
      "Invoking: `add_function` with `{'a': 7, 'b': 3}`\n",
      "\n",
      "\n",
      "\u001b[0m\u001b[36;1m\u001b[1;3m10.0\u001b[0m\u001b[32;1m\u001b[1;3m5 + 2 는 7이고, 7 + 3 은 10입니다. 따라서 5 + 2 + 3 은 10입니다.\u001b[0m\n",
      "\n",
      "\u001b[1m> Finished chain.\u001b[0m\n",
      "{'input': '5 + 2 + 3 는 뭐야?', 'output': '5 + 2 는 7이고, 7 + 3 은 10입니다. 따라서 5 + 2 + 3 은 10입니다.'}\n"
     ]
    }
   ],
   "source": [
    "result = executor.invoke({'input' : \"5 + 2 + 3 는 뭐야?\"})\n",
    "print(result)"
   ]
  },
  {
   "cell_type": "code",
   "execution_count": 15,
   "id": "c8d58200",
   "metadata": {},
   "outputs": [
    {
     "name": "stdout",
     "output_type": "stream",
     "text": [
      "\n",
      "\n",
      "\u001b[1m> Entering new AgentExecutor chain...\u001b[0m\n",
      "\u001b[32;1m\u001b[1;3m죄송하지만, 이전 대화 내용을 기억하지 못합니다. 다시 말씀해 주시면 도와드리겠습니다!\u001b[0m\n",
      "\n",
      "\u001b[1m> Finished chain.\u001b[0m\n"
     ]
    },
    {
     "data": {
      "text/plain": [
       "{'input': '아까 내가 뭐라고 했지?',\n",
       " 'output': '죄송하지만, 이전 대화 내용을 기억하지 못합니다. 다시 말씀해 주시면 도와드리겠습니다!'}"
      ]
     },
     "execution_count": 15,
     "metadata": {},
     "output_type": "execute_result"
    }
   ],
   "source": [
    "executor.invoke({'input' : \"아까 내가 뭐라고 했지?\"})"
   ]
  },
  {
   "cell_type": "code",
   "execution_count": 24,
   "id": "94713ff8",
   "metadata": {},
   "outputs": [],
   "source": [
    "SYSTEM_PROMPT = \"\"\"\n",
    "너는 아주 유용한 어시스턴트야. 적절한 도구를 사용해서 대답하도록 해\n",
    "\"\"\"\n",
    "\n",
    "# 1. 모델 설정\n",
    "llm = ChatOpenAI(\n",
    "    model = \"gpt-4.1-mini\",\n",
    "    temperature = 0\n",
    ")\n",
    "\n",
    "# 2. 도구 생성\n",
    "# total_tool\n",
    "\n",
    "# 3. 프롬프트 설정\n",
    "prompt = ChatPromptTemplate.from_messages([\n",
    "    (\"system\", SYSTEM_PROMPT),\n",
    "    ('placeholder', '{history}'),\n",
    "    (\"human\", \"{question}\"),\n",
    "    (\"placeholder\", \"{agent_scratchpad}\")\n",
    "])\n",
    "\n",
    "# 4. 단일 에이전트 생성\n",
    "agent = create_openai_tools_agent(\n",
    "    llm=llm,\n",
    "    tools = [add_function, multiply_numbers],\n",
    "    prompt = prompt\n",
    ")\n",
    "\n",
    "# 5. excutor 설정\n",
    "executor = AgentExecutor(\n",
    "    agent = agent,\n",
    "    tools = [add_function, multiply_numbers],\n",
    "    verbose = True\n",
    ")"
   ]
  },
  {
   "cell_type": "code",
   "execution_count": 16,
   "id": "02cac18c",
   "metadata": {},
   "outputs": [],
   "source": [
    "from langchain_community.chat_message_histories import ChatMessageHistory\n",
    "from langchain_core.runnables.history import RunnableWithMessageHistory"
   ]
  },
  {
   "cell_type": "code",
   "execution_count": 25,
   "id": "f5f4ebf3",
   "metadata": {},
   "outputs": [],
   "source": [
    "from typing import Dict\n",
    "from langchain_core.chat_history import InMemoryChatMessageHistory\n",
    "\n",
    "# 2. 대화 내용 저장소 만들기\n",
    "stores : Dict[str, InMemoryChatMessageHistory] = {}\n",
    "def get_store(session_id : str):\n",
    "    if session_id not in stores:\n",
    "        stores[session_id] = InMemoryChatMessageHistory()\n",
    "    return stores[session_id]\n",
    "\n",
    "agent_history = RunnableWithMessageHistory(\n",
    "    executor,\n",
    "    lambda session_id: get_store(session_id),\n",
    "    input_messages_key=\"question\",\n",
    "    history_messages_key=\"history\"\n",
    ")"
   ]
  },
  {
   "cell_type": "code",
   "execution_count": 26,
   "id": "6e78c0df",
   "metadata": {},
   "outputs": [
    {
     "name": "stdout",
     "output_type": "stream",
     "text": [
      "\n",
      "\n",
      "\u001b[1m> Entering new AgentExecutor chain...\u001b[0m\n",
      "\u001b[32;1m\u001b[1;3m\n",
      "Invoking: `add_function` with `{'a': 5, 'b': 2}`\n",
      "\n",
      "\n",
      "\u001b[0m\u001b[36;1m\u001b[1;3m7.0\u001b[0m\u001b[32;1m\u001b[1;3m5 + 2는 7입니다.\u001b[0m\n",
      "\n",
      "\u001b[1m> Finished chain.\u001b[0m\n"
     ]
    },
    {
     "data": {
      "text/plain": [
       "{'question': '5 + 2는?', 'history': [], 'output': '5 + 2는 7입니다.'}"
      ]
     },
     "execution_count": 26,
     "metadata": {},
     "output_type": "execute_result"
    }
   ],
   "source": [
    "cfg = {\"configurable\" : {\"session_id\" : \"user-123\"}}\n",
    "agent_history.invoke({\n",
    "    \"question\" : \"5 + 2는?\"\n",
    "    }, config = cfg\n",
    "    )"
   ]
  },
  {
   "cell_type": "code",
   "execution_count": 27,
   "id": "cb10180e",
   "metadata": {},
   "outputs": [
    {
     "name": "stdout",
     "output_type": "stream",
     "text": [
      "\n",
      "\n",
      "\u001b[1m> Entering new AgentExecutor chain...\u001b[0m\n",
      "\u001b[32;1m\u001b[1;3m아까 사용자가 \"5 + 2는?\"이라고 물으셨고, 저는 \"5 + 2는 7입니다.\"라고 답변드렸습니다.\u001b[0m\n",
      "\n",
      "\u001b[1m> Finished chain.\u001b[0m\n"
     ]
    },
    {
     "data": {
      "text/plain": [
       "{'question': '아까 내가 뭐라고 했더라?',\n",
       " 'history': [HumanMessage(content='5 + 2는?', additional_kwargs={}, response_metadata={}),\n",
       "  AIMessage(content='5 + 2는 7입니다.', additional_kwargs={}, response_metadata={})],\n",
       " 'output': '아까 사용자가 \"5 + 2는?\"이라고 물으셨고, 저는 \"5 + 2는 7입니다.\"라고 답변드렸습니다.'}"
      ]
     },
     "execution_count": 27,
     "metadata": {},
     "output_type": "execute_result"
    }
   ],
   "source": [
    "cfg = {\"configurable\" : {\"session_id\" : \"user-123\"}}\n",
    "agent_history.invoke({\n",
    "    \"question\" : \"아까 내가 뭐라고 했더라?\"\n",
    "    }, config = cfg\n",
    "    )"
   ]
  }
 ],
 "metadata": {
  "kernelspec": {
   "display_name": "10_LangChain-Study",
   "language": "python",
   "name": "python3"
  },
  "language_info": {
   "codemirror_mode": {
    "name": "ipython",
    "version": 3
   },
   "file_extension": ".py",
   "mimetype": "text/x-python",
   "name": "python",
   "nbconvert_exporter": "python",
   "pygments_lexer": "ipython3",
   "version": "3.11.13"
  }
 },
 "nbformat": 4,
 "nbformat_minor": 5
}
