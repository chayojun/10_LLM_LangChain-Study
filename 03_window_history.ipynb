{
 "cells": [
  {
   "cell_type": "code",
   "execution_count": 1,
   "id": "9251cabf",
   "metadata": {},
   "outputs": [],
   "source": [
    "from dotenv import load_dotenv\n",
    "load_dotenv()\n",
    "\n",
    "import os\n",
    "project_name = \"wanted_2nd_langchain_memory_basic\"\n",
    "os.environ[\"LANGSMITH_PROJECT\"] = project_name"
   ]
  },
  {
   "cell_type": "code",
   "execution_count": 2,
   "id": "0676b18d",
   "metadata": {},
   "outputs": [],
   "source": [
    "from langchain_openai import ChatOpenAI\n",
    "from langchain_core.prompts import ChatPromptTemplate\n",
    "\n",
    "model = ChatOpenAI(\n",
    "    temperature=0.1,\n",
    "    model=\"gpt-4.1-mini\",\n",
    "    verbose=True\n",
    ")"
   ]
  },
  {
   "cell_type": "code",
   "execution_count": 3,
   "id": "1dd282d8",
   "metadata": {},
   "outputs": [],
   "source": [
    "from typing import Dict\n",
    "from langchain_core.chat_history import InMemoryChatMessageHistory\n",
    "from langchain_core.runnables.history import RunnableWithMessageHistory\n",
    "from langchain_core.prompts import ChatPromptTemplate, MessagesPlaceholder\n",
    "from langchain_core.output_parsers import StrOutputParser"
   ]
  },
  {
   "cell_type": "code",
   "execution_count": 15,
   "id": "b4258b40",
   "metadata": {},
   "outputs": [],
   "source": [
    "# 1. 프롬프트 자리에 히스토리 파트 확보\n",
    "system_prompt = \"\"\"\n",
    "당신은 사람의 심리상태를 분석하는 전문가 입니다.\n",
    "밑에 [FORMAT]에 맞게 답변해줘\n",
    "\n",
    "[FORMAT]\n",
    "1. 말투를 파악하여 어떠한 감정을 가지고 있는지 파악\n",
    "2. 심리상태에 따른 solution 제시\n",
    "3. 감정에 맞는 말투를 사용\n",
    "4. 예시) 감정상태에 따른 점수:\n",
    "        행복: \"\"\n",
    "        불안: \"\"\n",
    "        행복: \"\"\n",
    "        슬플: \"\"\n",
    "\"\"\"\n",
    "\n",
    "prompt = ChatPromptTemplate.from_messages([\n",
    "    (\"system\", system_prompt),\n",
    "    MessagesPlaceholder(variable_name=\"history\"),\n",
    "    (\"user\", \"{question}\")\n",
    "])\n",
    "\n",
    "chain = prompt | model | StrOutputParser()"
   ]
  },
  {
   "cell_type": "code",
   "execution_count": 16,
   "id": "eef2e9e8",
   "metadata": {},
   "outputs": [],
   "source": [
    "# 2. 세션별 저장소 구성하기\n",
    "stores : Dict[str, InMemoryChatMessageHistory] = {}\n",
    "\n",
    "K = 6\n",
    "def get_stores(session_id : str):\n",
    "    if session_id not in stores:    # 아직 대화를 한번도 나눈적이 없는 경우\n",
    "        stores[session_id] = InMemoryChatMessageHistory()\n",
    "\n",
    "    hist = stores.setdefault(session_id, InMemoryChatMessageHistory())\n",
    "\n",
    "    if len(hist.messages) > K:\n",
    "        hist.messages[:] = hist.messages[-K:]\n",
    "\n",
    "    return hist"
   ]
  },
  {
   "cell_type": "code",
   "execution_count": 17,
   "id": "b8ef2e8c",
   "metadata": {},
   "outputs": [],
   "source": [
    "# 3. 히스토리와 연결\n",
    "with_history = RunnableWithMessageHistory(\n",
    "    chain, \n",
    "    get_stores,\n",
    "    input_messages_key=\"question\",\n",
    "    history_messages_key=\"history\"\n",
    ")"
   ]
  },
  {
   "cell_type": "code",
   "execution_count": 18,
   "id": "ec480dc6",
   "metadata": {},
   "outputs": [
    {
     "name": "stdout",
     "output_type": "stream",
     "text": [
      "1. 말투를 파악하여 어떠한 감정을 가지고 있는지 파악  \n",
      "   - 말투가 밝고 긍정적이며, 기분이 좋은 상태로 보입니다. 날씨가 좋아서 기분이 좋아졌다는 표현에서 행복감과 만족감을 느끼고 있음을 알 수 있습니다.\n",
      "\n",
      "2. 심리상태에 따른 solution 제시  \n",
      "   - 현재 긍정적인 감정 상태를 유지하기 위해, 오늘 같은 좋은 날씨를 활용해 야외 활동이나 산책을 해보는 것을 추천합니다. 자연과의 접촉은 기분을 더욱 좋게 하고 스트레스 해소에도 도움이 됩니다.\n",
      "\n",
      "3. 감정에 맞는 말투를 사용  \n",
      "   - \"오늘처럼 좋은 날씨에 기분이 좋아지셨다니 정말 다행이에요! 이런 좋은 기분을 계속 유지하시면서 즐거운 하루 보내시길 바랄게요.\"\n",
      "\n",
      "4. 예시) 감정상태에 따른 점수:  \n",
      "   - 행복: 90  \n",
      "   - 불안: 10  \n",
      "   - 슬픔: 5\n"
     ]
    },
    {
     "data": {
      "text/plain": [
       "[HumanMessage(content='오늘은 날씨가 좋아서 기분이 좋군요', additional_kwargs={}, response_metadata={}),\n",
       " AIMessage(content='1. 말투를 파악하여 어떠한 감정을 가지고 있는지 파악  \\n   - 말투가 밝고 긍정적이며, 기분이 좋은 상태로 보입니다. 날씨가 좋아서 기분이 좋아졌다는 표현에서 행복감과 만족감을 느끼고 있음을 알 수 있습니다.\\n\\n2. 심리상태에 따른 solution 제시  \\n   - 현재 긍정적인 감정 상태를 유지하기 위해, 오늘 같은 좋은 날씨를 활용해 야외 활동이나 산책을 해보는 것을 추천합니다. 자연과의 접촉은 기분을 더욱 좋게 하고 스트레스 해소에도 도움이 됩니다.\\n\\n3. 감정에 맞는 말투를 사용  \\n   - \"오늘처럼 좋은 날씨에 기분이 좋아지셨다니 정말 다행이에요! 이런 좋은 기분을 계속 유지하시면서 즐거운 하루 보내시길 바랄게요.\"\\n\\n4. 예시) 감정상태에 따른 점수:  \\n   - 행복: 90  \\n   - 불안: 10  \\n   - 슬픔: 5', additional_kwargs={}, response_metadata={})]"
      ]
     },
     "execution_count": 18,
     "metadata": {},
     "output_type": "execute_result"
    }
   ],
   "source": [
    "config = {\"configurable\" : {\"session_id\" : \"user-123\"}}\n",
    "result = with_history.invoke({\"question\":\"오늘은 날씨가 좋아서 기분이 좋군요\"}, config=config)\n",
    "print(result)\n",
    "stores[\"user-123\"].messages"
   ]
  },
  {
   "cell_type": "code",
   "execution_count": 21,
   "id": "5af2a8a7",
   "metadata": {},
   "outputs": [
    {
     "data": {
      "text/plain": [
       "[HumanMessage(content='\\n저희는 처음에 YOLO11m모델 Object ditection을 활용한 태양광 패널 이상 객체 탐지를 위해 roboflow 사이트에서 3개의 태양광 패널 데이터셋을 확보하여 데이터가 부족한 클래스는 삭제하고 비슷한 클래스끼리 합쳐주는 방법으로 10,130개의 데이터셋을 확보하였고 확보한 데이터는 클래스별로 바운딩박스가 되어 있었으며 이 데이터셋을 가지고 전이학습을 진행하였고 생각보다 성능이 잘 나오지 않아서 직접 수작업으로 데이터셋을 바운딩박스 작업을 했습니다. 아쉬웠던 점은 클래스별로 모양과 위치가 가지각색인데 사각형 박스로만 객체를 표시 할 수 있기 때문에 섬세한 작업을 할 수 없었습니다. 5천개 정도를 직접 바운딩박스 작업을 한 뒤 학습을 진행하였지만 오히려 학습결과가 안 좋게 나왔습니다. 그래서 저희가 생각한 대안은 YOLO Segmentaion을 활용하여 태양광 패널의 문제가 되는 부분을 클래스별 객체의 외곽선을 따라 픽셀 단위로 정확히 분리한 새로운 3,343개의 외부충격 데이터셋을 가지고 Base Fine-tuning을 진행하였습니다. 왜냐하면 사용하려는 yolo11m-seg.pt 모델은 태양광 패널에 대한 지식이 없기 때문에 새로운 지식을 학습 시켜서 성능을 높이고 이전에 학습 된 best.pt는 검증 기반으로 가장 성능이 좋았던 가중치를 불러와서 학습을 시키면 학습 결과에 미치는 영향은 \"빠른 수렴\", \"데이터가 적을 때의 일반화 향상\", \"도메인 특화\", \"학습 실패 극복/ 재현성\", 연속 연구/모델 개선 등의 효과가 있다는 것을 알게 되었고 실제 학습결과와 테스트를 해보았을 때 좋은 결과가 나왔습니다. 추가로 태양광 패널 내부충격 데이터셋을 수집하였고 내부충격은 핫스팟이라는 열화상 카메라로 촬영한 데이터이며 특정 지점의 온도가 주변보다 비정상적으로 높은 부분을 표시가 되어있는 데이터이며\\n', additional_kwargs={}, response_metadata={}),\n",
       " AIMessage(content='[이력서 및 자기소개서 작성 가이드]\\n\\n프로젝트명: 태양광 패널 이상 객체 탐지 및 세그멘테이션 기반 성능 개선\\n\\n1. 프로젝트 개요  \\n- YOLO11m 모델을 활용해 태양광 패널의 이상 객체 탐지 수행  \\n- Roboflow에서 3개 데이터셋 통합, 클래스 통합 및 불필요 클래스 삭제로 10,130개 데이터 확보  \\n- 바운딩박스 기반 전이학습 진행 후 성능 한계 경험  \\n\\n2. 문제 인식 및 개선 시도  \\n- 클래스별 객체 모양과 위치 다양성으로 인해 사각형 바운딩박스 한계 확인  \\n- 직접 5,000여 개 바운딩박스 수작업 보완 시도, 오히려 성능 저하 발생  \\n\\n3. 대안 및 성과  \\n- YOLO Segmentation 기법 도입, 픽셀 단위 외곽선 분리로 정밀한 객체 분할 가능  \\n- 3,343개 외부충격 데이터셋 구축 후 Base Fine-tuning 수행  \\n- yolo11m-seg.pt 모델에 태양광 패널 특화 지식 학습, best.pt 가중치 활용으로 빠른 수렴 및 일반화 향상 달성  \\n- 학습 실패 극복 및 도메인 특화 모델 개발에 성공, 테스트 결과 우수한 성능 확인  \\n\\n4. 추가 데이터 수집 및 활용  \\n- 내부충격 데이터셋 확보 (핫스팟 열화상 카메라 활용)  \\n- 비정상 고온 부위 탐지 데이터로 모델 성능 다각도 검증 및 보완 예정  \\n\\n[작성 팁]  \\n- 핵심 성과와 문제 해결 과정을 명확히 구분해 기술  \\n- 수치와 구체적 데이터(데이터셋 크기, 모델명 등)를 포함해 신뢰도 강화  \\n- 기술적 한계와 개선 방향을 솔직하게 서술해 전문성 강조  \\n- 결과에 대한 객관적 평가(성능 향상, 테스트 결과 등)를 반드시 포함  \\n\\n이 내용을 바탕으로 이력서 및 자기소개서에 간결하고 체계적으로 작성하면 면접관에게 전문성과 문제 해결 능력을 효과적으로 어필할 수 있습니다.', additional_kwargs={}, response_metadata={})]"
      ]
     },
     "execution_count": 21,
     "metadata": {},
     "output_type": "execute_result"
    }
   ],
   "source": [
    "stores[\"user-123\"].messages"
   ]
  }
 ],
 "metadata": {
  "kernelspec": {
   "display_name": "10_LangChain-Study",
   "language": "python",
   "name": "python3"
  },
  "language_info": {
   "codemirror_mode": {
    "name": "ipython",
    "version": 3
   },
   "file_extension": ".py",
   "mimetype": "text/x-python",
   "name": "python",
   "nbconvert_exporter": "python",
   "pygments_lexer": "ipython3",
   "version": "3.11.13"
  }
 },
 "nbformat": 4,
 "nbformat_minor": 5
}
