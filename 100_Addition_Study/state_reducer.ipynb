{
 "cells": [
  {
   "cell_type": "code",
   "execution_count": 2,
   "id": "6fd17d36",
   "metadata": {},
   "outputs": [
    {
     "data": {
      "text/plain": [
       "True"
      ]
     },
     "execution_count": 2,
     "metadata": {},
     "output_type": "execute_result"
    }
   ],
   "source": [
    "from typing import TypedDict, Optional, Annotated\n",
    "from langgraph.graph import StateGraph, START, END\n",
    "from langchain_openai import ChatOpenAI # llm 모델 사용하기 위한 모듈\n",
    "from langchain_core.messages import HumanMessage, AIMessage # message 양식 처리를 위한 모듈\n",
    "from operator import add\n",
    "\n",
    "from dotenv import load_dotenv\n",
    "load_dotenv()"
   ]
  },
  {
   "cell_type": "markdown",
   "id": "5efcbc90",
   "metadata": {},
   "source": [
    "### 1. Reducer 함수를 사용해서 state 정의"
   ]
  },
  {
   "cell_type": "code",
   "execution_count": 3,
   "id": "273da81c",
   "metadata": {},
   "outputs": [],
   "source": [
    "class MessagesState(TypedDict):\n",
    "    messages : Annotated[list[str], add]\n",
    "    count : int\n",
    "    count_list : Annotated[list[int], add]"
   ]
  },
  {
   "cell_type": "markdown",
   "id": "5301a6a3",
   "metadata": {},
   "source": [
    "### 2. 간단한 메시지 추가 노드 만들어보기"
   ]
  },
  {
   "cell_type": "code",
   "execution_count": 4,
   "id": "629b46d1",
   "metadata": {},
   "outputs": [],
   "source": [
    "def add_message_1(state: MessagesState) -> MessagesState:\n",
    "    \"\"\"첫번째 메시지 추가 노드\"\"\"\n",
    "    print(\"첫번째 메시지 추가\")\n",
    "\n",
    "    return {\n",
    "        \"messages\" : [\"첫번째 노드 추가해볼게요, 차요준님\"], # 결과가 기존의 리스트와 내가 작성한 리스트의 합과 같다.\n",
    "        \"count\" : state.get(\"count\", 0) +1,\n",
    "        \"count_list\" : [state.get(\"count\", 0) + 1]\n",
    "    }   \n",
    "\n",
    "\n",
    "def add_message_2(state: MessagesState) -> MessagesState:\n",
    "    \"\"\"두번째 메시지 추가 노드\"\"\"\n",
    "    print(\"두번째 메시지 추가\")\n",
    "\n",
    "    return {\n",
    "        \"messages\" : [\"두번째 노드 추가해볼게요, 황난혜님\"],\n",
    "        \"count\" : state.get(\"count\", 0) +1,\n",
    "        \"count_list\" : [state.get(\"count\", 0) + 1]\n",
    "    }   "
   ]
  },
  {
   "cell_type": "markdown",
   "id": "e70db9b7",
   "metadata": {},
   "source": [
    "### 3. 그래프 생성하기"
   ]
  },
  {
   "cell_type": "code",
   "execution_count": 5,
   "id": "24286513",
   "metadata": {},
   "outputs": [
    {
     "data": {
      "image/png": "[encoded data removed]",
      "text/plain": [
       "<langgraph.graph.state.CompiledStateGraph object at 0x0000018EB2282490>"
      ]
     },
     "execution_count": 5,
     "metadata": {},
     "output_type": "execute_result"
    }
   ],
   "source": [
    "workflow = StateGraph(MessagesState)\n",
    "\n",
    "workflow.add_node(\"msg1\", add_message_1)\n",
    "workflow.add_node(\"msg2\", add_message_2)\n",
    "\n",
    "workflow.add_edge(\"msg1\", \"msg2\")\n",
    "\n",
    "# 시작점\n",
    "workflow.set_entry_point(\"msg1\")\n",
    "\n",
    "# 끝점\n",
    "workflow.set_finish_point(\"msg2\")\n",
    "\n",
    "app = workflow.compile()\n",
    "app"
   ]
  },
  {
   "cell_type": "code",
   "execution_count": 6,
   "id": "ffa8568f",
   "metadata": {},
   "outputs": [
    {
     "name": "stdout",
     "output_type": "stream",
     "text": [
      "첫번째 메시지 추가\n",
      "두번째 메시지 추가\n",
      "{'messages': ['처음 시작해보겠습니다', '첫번째 노드 추가해볼게요, 차요준님', '두번째 노드 추가해볼게요, 황난혜님'], 'count': 2, 'count_list': [1, 2]}\n"
     ]
    }
   ],
   "source": [
    "init_state = {\n",
    "    \"messages\" : [\"처음 시작해보겠습니다\"],\n",
    "    \"count\" : 0,\n",
    "    \"count_list\" : []\n",
    "}\n",
    "\n",
    "result = app.invoke(init_state)\n",
    "print(result)"
   ]
  },
  {
   "cell_type": "code",
   "execution_count": 7,
   "id": "4a50d615",
   "metadata": {},
   "outputs": [
    {
     "data": {
      "text/plain": [
       "{'messages': ['처음 시작해보겠습니다', '첫번째 노드 추가해볼게요, 차요준님', '두번째 노드 추가해볼게요, 황난혜님'],\n",
       " 'count': 2,\n",
       " 'count_list': [1, 2]}"
      ]
     },
     "execution_count": 7,
     "metadata": {},
     "output_type": "execute_result"
    }
   ],
   "source": [
    "result"
   ]
  }
 ],
 "metadata": {
  "kernelspec": {
   "display_name": "10_LangChain-Study",
   "language": "python",
   "name": "python3"
  },
  "language_info": {
   "codemirror_mode": {
    "name": "ipython",
    "version": 3
   },
   "file_extension": ".py",
   "mimetype": "text/x-python",
   "name": "python",
   "nbconvert_exporter": "python",
   "pygments_lexer": "ipython3",
   "version": "3.11.13"
  }
 },
 "nbformat": 4,
 "nbformat_minor": 5
}
