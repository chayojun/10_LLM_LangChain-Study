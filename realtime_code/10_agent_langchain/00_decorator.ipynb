{
 "cells": [
  {
   "cell_type": "markdown",
   "id": "5c4f4c9d",
   "metadata": {},
   "source": [
    "### 파이썬 데코레이터\n",
    "- 함수나 메서드를 감싸서(wrap) 그 동작을 확장하거나 수정할 수 있는 문법\n",
    "- 로깅, 권한 검사, 추가 기능 -> 전체 다 바꾸지 않고 쉽게 기능을 추가"
   ]
  },
  {
   "cell_type": "code",
   "execution_count": 1,
   "id": "c1da7908",
   "metadata": {},
   "outputs": [],
   "source": [
    "# from fastapi import FastAPI\n",
    "\n",
    "# app= FastAPI()\n",
    "\n",
    "# @app.get(\"/\")\n",
    "# def \n",
    "\n",
    "# @app.get(\"/index\")\n",
    "# def "
   ]
  },
  {
   "cell_type": "code",
   "execution_count": 3,
   "id": "84136cbf",
   "metadata": {},
   "outputs": [
    {
     "data": {
      "text/plain": [
       "'안녕하세요 전아연님'"
      ]
     },
     "execution_count": 3,
     "metadata": {},
     "output_type": "execute_result"
    }
   ],
   "source": [
    "def greet(name):\n",
    "    return f\"안녕하세요 {name}님\"\n",
    "greet(\"전아연\")"
   ]
  },
  {
   "cell_type": "code",
   "execution_count": 4,
   "id": "794c78da",
   "metadata": {},
   "outputs": [
    {
     "name": "stdout",
     "output_type": "stream",
     "text": [
      "안녕하세요 황화인님\n"
     ]
    }
   ],
   "source": [
    "say = greet\n",
    "print(say(\"황화인\"))"
   ]
  },
  {
   "cell_type": "code",
   "execution_count": 5,
   "id": "636cc9d7",
   "metadata": {},
   "outputs": [],
   "source": [
    "def call_func(func, arg):\n",
    "    return func(arg)"
   ]
  },
  {
   "cell_type": "code",
   "execution_count": 6,
   "id": "a4a6590b",
   "metadata": {},
   "outputs": [
    {
     "data": {
      "text/plain": [
       "'안녕하세요 장찬영님'"
      ]
     },
     "execution_count": 6,
     "metadata": {},
     "output_type": "execute_result"
    }
   ],
   "source": [
    "call_func(greet, \"장찬영\")"
   ]
  },
  {
   "cell_type": "code",
   "execution_count": 7,
   "id": "0a39687a",
   "metadata": {},
   "outputs": [],
   "source": [
    "def my_decorator(func):\n",
    "    def wrapper():\n",
    "        print(\"함수 실행전\")\n",
    "        func()\n",
    "        print(\"함수 실행 후\")\n",
    "    return wrapper"
   ]
  },
  {
   "cell_type": "code",
   "execution_count": 8,
   "id": "00ef3368",
   "metadata": {},
   "outputs": [
    {
     "name": "stdout",
     "output_type": "stream",
     "text": [
      "함수 실행전\n",
      "안녕하세요\n",
      "함수 실행 후\n"
     ]
    }
   ],
   "source": [
    "@my_decorator\n",
    "def say_hello():\n",
    "    print(\"안녕하세요\")\n",
    "say_hello()"
   ]
  },
  {
   "cell_type": "code",
   "execution_count": 9,
   "id": "95a2ff6f",
   "metadata": {},
   "outputs": [],
   "source": [
    "def my_decorator(func):\n",
    "    def wrapper(*args, **kwargs):\n",
    "        print(\"함수 실행전\")\n",
    "        result = func(*args, **kwargs)\n",
    "        print(\"함수 실행 후\")\n",
    "        return result\n",
    "    return wrapper"
   ]
  },
  {
   "cell_type": "code",
   "execution_count": 10,
   "id": "b85ec79b",
   "metadata": {},
   "outputs": [],
   "source": [
    "@my_decorator\n",
    "def hello_custom(name, greeting=\"반가워요\"):\n",
    "    print(name, \"님\", greeting)"
   ]
  },
  {
   "cell_type": "code",
   "execution_count": 11,
   "id": "73728a6d",
   "metadata": {},
   "outputs": [
    {
     "name": "stdout",
     "output_type": "stream",
     "text": [
      "함수 실행전\n",
      "영희 님 반가워요\n",
      "함수 실행 후\n"
     ]
    }
   ],
   "source": [
    "hello_custom(\"영희\")"
   ]
  }
 ],
 "metadata": {
  "kernelspec": {
   "display_name": "10_LangChain-Study",
   "language": "python",
   "name": "python3"
  },
  "language_info": {
   "codemirror_mode": {
    "name": "ipython",
    "version": 3
   },
   "file_extension": ".py",
   "mimetype": "text/x-python",
   "name": "python",
   "nbconvert_exporter": "python",
   "pygments_lexer": "ipython3",
   "version": "3.11.13"
  }
 },
 "nbformat": 4,
 "nbformat_minor": 5
}
