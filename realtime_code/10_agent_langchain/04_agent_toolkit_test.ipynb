{
 "cells": [
  {
   "cell_type": "code",
   "execution_count": 1,
   "id": "76aeba9f",
   "metadata": {},
   "outputs": [
    {
     "data": {
      "text/plain": [
       "True"
      ]
     },
     "execution_count": 1,
     "metadata": {},
     "output_type": "execute_result"
    }
   ],
   "source": [
    "from dotenv import load_dotenv\n",
    "load_dotenv()"
   ]
  },
  {
   "cell_type": "code",
   "execution_count": 2,
   "id": "2124016d",
   "metadata": {},
   "outputs": [],
   "source": [
    "from langchain_openai import ChatOpenAI\n",
    "from langchain.agents import create_openai_tools_agent, AgentExecutor\n",
    "from langchain_core.prompts import ChatPromptTemplate\n",
    "from typing import List, Dict, Optional"
   ]
  },
  {
   "cell_type": "code",
   "execution_count": 3,
   "id": "f6ad2068",
   "metadata": {},
   "outputs": [],
   "source": [
    "# 1. 우리가 만든 툴킷 가져오기\n",
    "from dolmary_schedule_toolkit import DolmaryScheduleToolkit"
   ]
  },
  {
   "cell_type": "code",
   "execution_count": 4,
   "id": "3db449b6",
   "metadata": {},
   "outputs": [
    {
     "data": {
      "text/plain": [
       "[AddToDoTool(), ViewToDoTool(), DeleteToDoTool()]"
      ]
     },
     "execution_count": 4,
     "metadata": {},
     "output_type": "execute_result"
    }
   ],
   "source": [
    "toolkits = DolmaryScheduleToolkit()\n",
    "tools = toolkits.get_tools()\n",
    "tools"
   ]
  },
  {
   "cell_type": "code",
   "execution_count": 7,
   "id": "5bfd3b67",
   "metadata": {},
   "outputs": [],
   "source": [
    "# 2. 모델설정\n",
    "model = ChatOpenAI(\n",
    "    model = \"gpt-4.1-mini\",\n",
    "    temperature=0\n",
    ")\n",
    "\n",
    "# 3. 프롬프트 설정\n",
    "prompt = ChatPromptTemplate.from_messages(\n",
    "    [\n",
    "        (\"system\", \"너는 돌마리 스케쥴을 관리하는 AI 비서야. 주어지는 도구를 잘 활용해서 사용자의 요청에 답하도록 해\"),\n",
    "        (\"placeholder\", \"{history}\"),\n",
    "        (\"human\", \"{question}\"),\n",
    "        (\"placeholder\", \"{agent_scratchpad}\")\n",
    "    ]\n",
    ")\n",
    "\n",
    "# 4. agent 생성\n",
    "agent = create_openai_tools_agent(\n",
    "    model,\n",
    "    tools,\n",
    "    prompt\n",
    ")\n",
    "executor = AgentExecutor(\n",
    "    agent=agent,\n",
    "    tools=tools,\n",
    "    verbose=True\n",
    ")"
   ]
  },
  {
   "cell_type": "code",
   "execution_count": 8,
   "id": "f8de5108",
   "metadata": {},
   "outputs": [],
   "source": [
    "from typing import Dict\n",
    "from langchain_core.chat_history import InMemoryChatMessageHistory\n",
    "from langchain_community.chat_message_histories import ChatMessageHistory\n",
    "from langchain_core.runnables.history import RunnableWithMessageHistory\n",
    "\n",
    "# 2. 대화 내용 저장소 만들기\n",
    "stores : Dict[str, InMemoryChatMessageHistory] = {}\n",
    "def get_store(session_id : str):\n",
    "    if session_id not in stores:\n",
    "        stores[session_id] = InMemoryChatMessageHistory()\n",
    "    return stores[session_id]\n",
    "\n",
    "agent_history = RunnableWithMessageHistory(\n",
    "    executor,\n",
    "    lambda session_id: get_store(session_id),\n",
    "    input_messages_key=\"question\",\n",
    "    history_messages_key=\"history\"\n",
    ")"
   ]
  },
  {
   "cell_type": "code",
   "execution_count": 14,
   "id": "152ccc97",
   "metadata": {},
   "outputs": [
    {
     "name": "stdout",
     "output_type": "stream",
     "text": [
      "\n",
      "\n",
      "\u001b[1m> Entering new AgentExecutor chain...\u001b[0m\n",
      "\u001b[32;1m\u001b[1;3m\n",
      "Invoking: `view_todos` with `{}`\n",
      "\n",
      "\n",
      "\u001b[0m\u001b[33;1m\u001b[1;3m할일 목록은 : 12시 30분에 돌마리 파워댄스\n",
      "입니다.\u001b[0m\u001b[32;1m\u001b[1;3m현재 돌머리 스케줄은 12시 30분에 돌마리 파워댄스 일정이 있습니다. 다른 일정 관리가 필요하시면 말씀해 주세요!\u001b[0m\n",
      "\n",
      "\u001b[1m> Finished chain.\u001b[0m\n"
     ]
    },
    {
     "data": {
      "text/plain": [
       "{'question': '전체 일정 보여줘',\n",
       " 'history': [HumanMessage(content='돌머리 스케줄에서 파워댄스 삭제해줘', additional_kwargs={}, response_metadata={}),\n",
       "  AIMessage(content='파워댄스는 현재 돌머리 스케줄에 없습니다. 다른 요청 있으신가요?', additional_kwargs={}, response_metadata={}),\n",
       "  HumanMessage(content='12시 30분에 돌마리 파워댄스 일정 추가해줘', additional_kwargs={}, response_metadata={}),\n",
       "  AIMessage(content='12시 30분에 돌마리 파워댄스 일정이 추가되었습니다. 다른 일정 관리도 도와드릴까요?', additional_kwargs={}, response_metadata={}),\n",
       "  HumanMessage(content='1시에 돌마리 축구 일정 추가해줘', additional_kwargs={}, response_metadata={}),\n",
       "  AIMessage(content='1시에 돌마리 축구 일정이 추가되었습니다. 더 추가하거나 확인할 일정 있으신가요?', additional_kwargs={}, response_metadata={}),\n",
       "  HumanMessage(content='전체 일정을 보여줘', additional_kwargs={}, response_metadata={}),\n",
       "  AIMessage(content='현재 돌머리 스케줄은 다음과 같습니다:\\n- 12시 30분에 돌마리 파워댄스\\n- 1시 돌마리 축구\\n\\n다른 일정 관리가 필요하시면 말씀해 주세요!', additional_kwargs={}, response_metadata={}),\n",
       "  HumanMessage(content='축구 일정 삭제해줘', additional_kwargs={}, response_metadata={}),\n",
       "  AIMessage(content='1시 돌마리 축구 일정이 삭제되었습니다. 다른 일정 관리도 도와드릴까요?', additional_kwargs={}, response_metadata={})],\n",
       " 'output': '현재 돌머리 스케줄은 12시 30분에 돌마리 파워댄스 일정이 있습니다. 다른 일정 관리가 필요하시면 말씀해 주세요!'}"
      ]
     },
     "execution_count": 14,
     "metadata": {},
     "output_type": "execute_result"
    }
   ],
   "source": [
    "cfg = {\"configurable\" : {\"session_id\" : \"user-123\"}}\n",
    "agent_history.invoke({\n",
    "    \"question\" : \"전체 일정 보여줘\"\n",
    "    }, config = cfg\n",
    "    )"
   ]
  },
  {
   "cell_type": "code",
   "execution_count": null,
   "id": "0be2b6bd",
   "metadata": {},
   "outputs": [],
   "source": [
    "from dolmary_schedule_toolkit import DolmaryScheduleToolkit"
   ]
  }
 ],
 "metadata": {
  "kernelspec": {
   "display_name": "10_LangChain-Study",
   "language": "python",
   "name": "python3"
  },
  "language_info": {
   "codemirror_mode": {
    "name": "ipython",
    "version": 3
   },
   "file_extension": ".py",
   "mimetype": "text/x-python",
   "name": "python",
   "nbconvert_exporter": "python",
   "pygments_lexer": "ipython3",
   "version": "3.11.13"
  }
 },
 "nbformat": 4,
 "nbformat_minor": 5
}
