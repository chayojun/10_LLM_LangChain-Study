{
 "cells": [
  {
   "cell_type": "code",
   "execution_count": 1,
   "id": "cddbcf69",
   "metadata": {},
   "outputs": [
    {
     "name": "stderr",
     "output_type": "stream",
     "text": [
      "c:\\POTENUP\\10_AI_Agent-Project\\agents\\suggest_agent\\suggest_agent_tools.py:18: LangChainDeprecationWarning: The class `Chroma` was deprecated in LangChain 0.2.9 and will be removed in 1.0. An updated version of the class exists in the :class:`~langchain-chroma package and should be used instead. To use it run `pip install -U :class:`~langchain-chroma` and import as `from :class:`~langchain_chroma import Chroma``.\n",
      "  self.header_vectorstore = Chroma(\n"
     ]
    },
    {
     "name": "stdout",
     "output_type": "stream",
     "text": [
      "도구 로드 완료\n",
      "\n"
     ]
    }
   ],
   "source": [
    "# ============================================\n",
    "# 필수 임포트 및 도구 초기화\n",
    "# ============================================\n",
    "from suggest_agent_tools import PolicySearchTool, PolicyDetailTool\n",
    "import json\n",
    "\n",
    "# 도구 인스턴스 생성\n",
    "search_tool = PolicySearchTool()\n",
    "detail_tool = PolicyDetailTool()\n",
    "\n",
    "print(\"도구 로드 완료\\n\")"
   ]
  },
  {
   "cell_type": "code",
   "execution_count": 2,
   "id": "071c83e1",
   "metadata": {},
   "outputs": [],
   "source": [
    "# 통합 테스트 함수\n",
    "def get_policy_details(user_query: str):\n",
    "    \"\"\"\n",
    "    사용자 질문 -> 정책 검색 -> 상세 정보 추출\n",
    "    \"\"\"\n",
    "    print(\"=\" * 70)\n",
    "    print(f\"질문: {user_query}\")\n",
    "    print(\"=\" * 70)\n",
    "    \n",
    "    # Step 1: PolicySearchTool로 정책 검색\n",
    "    print(\"\\n[Step 1] 정책 검색 중...\")\n",
    "    policy = search_tool.run(user_query)\n",
    "    \n",
    "    if policy[\"status\"] != \"success\":\n",
    "        print(f\"실패: {policy['message']}\")\n",
    "        return None\n",
    "    \n",
    "    print(f\"검색 완료: {policy['policy_name']}\")\n",
    "    print(f\"Collection: {policy['collection_name']}\\n\")\n",
    "    \n",
    "    # Step 2: PolicyDetailTool로 상세 정보 추출\n",
    "    print(\"[Step 2] 상세 정보 추출 중...\")\n",
    "    details = detail_tool.run(policy[\"collection_name\"])\n",
    "    \n",
    "    if details[\"status\"] != \"success\":\n",
    "        print(f\"실패: {details['message']}\")\n",
    "        return None\n",
    "    \n",
    "    print(\"추출 완료!\\n\")\n",
    "    \n",
    "    # Step 3: 결과 출력\n",
    "    print(\"=\" * 70)\n",
    "    print(\"결과\")\n",
    "    print(\"=\" * 70)\n",
    "    result = {\n",
    "        \"정책명\": policy['policy_name'],\n",
    "        \"상세정보\": details['details']\n",
    "    }\n",
    "    print(json.dumps(result, ensure_ascii=False, indent=2))\n",
    "    print(\"=\" * 70)\n",
    "    \n",
    "    return result"
   ]
  },
  {
   "cell_type": "code",
   "execution_count": 3,
   "id": "29977274",
   "metadata": {},
   "outputs": [
    {
     "name": "stdout",
     "output_type": "stream",
     "text": [
      "======================================================================\n",
      "질문: 27세 서울 거주 청년입니다. 임차보증금 받을 수 있나여?\n",
      "======================================================================\n",
      "\n",
      "[Step 1] 정책 검색 중...\n"
     ]
    },
    {
     "name": "stderr",
     "output_type": "stream",
     "text": [
      "c:\\POTENUP\\10_AI_Agent-Project\\agents\\suggest_agent\\suggest_agent_tools.py:34: LangChainDeprecationWarning: The method `BaseRetriever.get_relevant_documents` was deprecated in langchain-core 0.1.46 and will be removed in 1.0. Use :meth:`~invoke` instead.\n",
      "  headers = retriever.get_relevant_documents(user_query)\n"
     ]
    },
    {
     "name": "stdout",
     "output_type": "stream",
     "text": [
      "검색 완료: 청년임차보증금 이자지원정책\n",
      "Collection: ceongnyeonimcabojeunggeumijajiweonjeongcaeg_body\n",
      "\n",
      "[Step 2] 상세 정보 추출 중...\n",
      "Collection 로드 중: ceongnyeonimcabojeunggeumijajiweonjeongcaeg_body\n",
      "문서 검색 중...\n",
      "검색된 고유 문서 수: 8\n",
      "컨텍스트 길이: 6325 자\n",
      "\n",
      "LLM 분석 중...\n",
      "추출 완료\n",
      "\n",
      "추출 완료!\n",
      "\n",
      "======================================================================\n",
      "결과\n",
      "======================================================================\n",
      "{\n",
      "  \"정책명\": \"청년임차보증금 이자지원정책\",\n",
      "  \"상세정보\": {\n",
      "    \"eligibility_criteria\": [\n",
      "      \"만 19~39세, 1984.1.1~2004.12.31\",\n",
      "      \"연소득 4천만원 이하 (기혼자는 부부합산 5천만원 이하)\",\n",
      "      \"무주택 세대주\",\n",
      "      \"부모 연소득 7천만원 이하인 경우 가능\"\n",
      "    ],\n",
      "    \"priority_subjects\": [\n",
      "      [\n",
      "        \"근로청년: 현재 근로 중인 자, 최소 1개월 근무 이후 1개월분 급여명세서 첨부\"\n",
      "      ],\n",
      "      [\n",
      "        \"취업준비생: 과거 근로기간의 총합이 1년(365일) 이상이거나 부모 연소득이 7천만원 이하인 자\",\n",
      "        \"부모 소득 증명서류\"\n",
      "      ]\n",
      "    ],\n",
      "    \"benefits\": [\n",
      "      \"대출금리: 기준금리 + 가산금리 (기준금리: 신 잔액기준 COFIX 6개월, 가산금리: 1.45%)\",\n",
      "      \"이자지원 금리: 최대 연 3.0% 이하\",\n",
      "      \"지원 기간: 만 39세까지 대출 및 이자지원 가능\",\n",
      "      \"대출기간 합산 최대 8년까지 추가연장 가능\"\n",
      "    ],\n",
      "    \"required_documents\": [\n",
      "      \"주민등록등본(주민등록번호 전체 표시)\",\n",
      "      \"가족관계증명서(본인기준, 주민등록번호 전체 표시)\",\n",
      "      \"건강보험자격득실확인서\",\n",
      "      \"최근년도 소득금액증명 또는 신고사실없음 사실증명\",\n",
      "      \"확정일자가 날인된 임대차계약서 전체 사본 1부\"\n",
      "    ],\n",
      "    \"policy_region\": \"서울특별시\",\n",
      "    \"exclusions\": [\n",
      "      \"주거급여대상자\",\n",
      "      \"역세권청년주택 임차보증금 무이자지원 등 서울시에서 시행하는 임차보증금 지원 관련 사업 신청자\",\n",
      "      \"기수혜자\",\n",
      "      \"주택 소유자\",\n",
      "      \"공공임대주택 거주자\"\n",
      "    ]\n",
      "  }\n",
      "}\n",
      "======================================================================\n"
     ]
    }
   ],
   "source": [
    "# 테스트 1: 청년 월세 지원\n",
    "result1 = get_policy_details(\"27세 서울 거주 청년입니다. 임차보증금 받을 수 있나여?\")"
   ]
  },
  {
   "cell_type": "code",
   "execution_count": 4,
   "id": "2596568f",
   "metadata": {},
   "outputs": [
    {
     "name": "stdout",
     "output_type": "stream",
     "text": [
      "\n",
      "=== 상세 항목별 확인 ===\n",
      "\n",
      "1. 필수 조건:\n",
      "['만 19~39세, 1985.1.1~2006.12.31', '주민등록상 신청인 본인이 서울에 등록되어 있고 실제 거주하는 무주택자 청년 가구', '임대차계약서상 임차건물 소재지에 주민등록 전입신고가 되어 있어야 함', '가구당 기준 중위소득 150% 이하', '임차보증금 천만원 이하, 월세 60만원 이하']\n",
      "\n",
      "2. 우대 조건:\n",
      "[]\n",
      "\n",
      "3. 혜택:\n",
      "월 최대 20만원, 최대 12개월, 격월 25일 계좌 입금, 생애 최대 240만원\n",
      "\n",
      "4. 필수 서류:\n",
      "[\n",
      "  \"확정일자가 날인된 임대차계약서 전체 사본 1부\",\n",
      "  \"임대차계약서와 임대차 건물 등기부등본 사본\",\n",
      "  \"임대차계약서와 주택 임대차 계약 신고필증\",\n",
      "  \"입실확인서 및 임대차 계약사항\",\n",
      "  \"임대사업자등록증 사본 (필요시)\"\n",
      "]\n",
      "\n",
      "5. 정책 지역:\n",
      "서울특별시\n",
      "\n",
      "6. 제외 대상:\n",
      "['국토교통부 청년월세 한시 특별지원금을 수혜 중인 사람', '서울시 청년월세지원금 기선정자로 수급 이력이 있는 사람', '신청자 본인 주택 소유자', '신청자 본인 일반재산 총액 1억 천만원 초과', '신청자 본인 차량시가표준액이 2500만원 이상의 자동차를 소유한 사람', '신청자 본인 국민기초생활수급을 받고 있는 사람', '서울시 청년수당을 받고 있는 사람', '공공임대주택에 거주하는 사람', '임대인임차건물 집주인이 신청인의 부모인 경우', '공동임차인 모두 신청하는 경우', '기타 사업 취지에 부합하지 않다고 판단되는 경우']\n"
     ]
    }
   ],
   "source": [
    "# 결과 상세 확인 (필요시)\n",
    "if result1:\n",
    "    d = result1['상세정보']\n",
    "    print(\"\\n=== 상세 항목별 확인 ===\")\n",
    "    print(f\"\\n1. 필수 조건:\\n{d.get('eligibility_criteria')}\")\n",
    "    print(f\"\\n2. 우대 조건:\\n{d.get('priority_subjects')}\")\n",
    "    print(f\"\\n3. 혜택:\\n{d.get('benefits')}\")\n",
    "    print(f\"\\n4. 필수 서류:\\n{json.dumps(d.get('required_documents'), ensure_ascii=False, indent=2)}\")\n",
    "    print(f\"\\n5. 정책 지역:\\n{d.get('policy_region')}\")\n",
    "    print(f\"\\n6. 제외 대상:\\n{d.get('exclusions')}\")"
   ]
  }
 ],
 "metadata": {
  "kernelspec": {
   "display_name": "10_AI_Agent-Project",
   "language": "python",
   "name": "python3"
  },
  "language_info": {
   "codemirror_mode": {
    "name": "ipython",
    "version": 3
   },
   "file_extension": ".py",
   "mimetype": "text/x-python",
   "name": "python",
   "nbconvert_exporter": "python",
   "pygments_lexer": "ipython3",
   "version": "3.11.13"
  }
 },
 "nbformat": 4,
 "nbformat_minor": 5
}
