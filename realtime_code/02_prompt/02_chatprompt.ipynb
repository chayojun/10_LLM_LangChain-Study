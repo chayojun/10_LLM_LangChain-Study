{
 "cells": [
  {
   "cell_type": "markdown",
   "id": "1068edb7",
   "metadata": {},
   "source": [
    "### ChatPromptTemplate\n",
    "- 대화 목록 스타일로 프롬프트를 사용\n",
    "- 튜플 형식으로 교대로, 차례대로, (role, message)\n",
    "- role\n",
    "    - system\n",
    "    - human, user\n",
    "    - ai, assistant"
   ]
  },
  {
   "cell_type": "code",
   "execution_count": 1,
   "id": "ecf63013",
   "metadata": {},
   "outputs": [],
   "source": [
    "from dotenv import load_dotenv\n",
    "load_dotenv()\n",
    "\n",
    "import os \n",
    "project_name = \"wanted_2nd_langchain_prompt_basic\"\n",
    "os.environ[\"LANGSMITH_PROJECT\"] = project_name"
   ]
  },
  {
   "cell_type": "code",
   "execution_count": 2,
   "id": "569edabf",
   "metadata": {},
   "outputs": [],
   "source": [
    "from langchain_openai import ChatOpenAI\n",
    "\n",
    "model = ChatOpenAI(\n",
    "    temperature=0.1,\n",
    "    model=\"gpt-4.1-mini\",\n",
    "    verbose=True\n",
    ")"
   ]
  },
  {
   "cell_type": "code",
   "execution_count": 4,
   "id": "1d99dad0",
   "metadata": {},
   "outputs": [
    {
     "data": {
      "text/plain": [
       "ChatPromptTemplate(input_variables=['term'], input_types={}, partial_variables={}, messages=[HumanMessagePromptTemplate(prompt=PromptTemplate(input_variables=['term'], input_types={}, partial_variables={}, template='{term} 이 무엇인지 초등학생도 알 수 있게 설명해줘'), additional_kwargs={})])"
      ]
     },
     "execution_count": 4,
     "metadata": {},
     "output_type": "execute_result"
    }
   ],
   "source": [
    "from langchain_core.prompts import ChatPromptTemplate\n",
    "\n",
    "chat_prompt = ChatPromptTemplate.from_template(\n",
    "    \"{term} 이 무엇인지 초등학생도 알 수 있게 설명해줘\"\n",
    ")\n",
    "chat_prompt"
   ]
  },
  {
   "cell_type": "code",
   "execution_count": 7,
   "id": "f5c76d00",
   "metadata": {},
   "outputs": [
    {
     "name": "stdout",
     "output_type": "stream",
     "text": [
      "content='물론이지! RAG는 영어로 \"Retrieval-Augmented Generation\"의 줄임말이야. 조금 어려운 말이지만, 쉽게 설명해줄게.\\n\\n생각해봐, 너가 숙제를 하려고 하는데 모르는 게 있어. 그럴 때 책이나 인터넷에서 필요한 정보를 찾아서 숙제를 하는 거지? RAG도 비슷해. 컴퓨터가 똑똑한 답을 만들기 위해서 먼저 필요한 정보를 찾아보고, 그 정보를 이용해서 답을 만들어 내는 방법이야.\\n\\n즉, RAG는 컴퓨터가 질문을 받으면 그냥 대답하는 게 아니라, 먼저 필요한 정보를 찾아서 그걸 참고해서 더 정확하고 좋은 답을 만드는 똑똑한 방법이라고 생각하면 돼!' additional_kwargs={'refusal': None} response_metadata={'token_usage': {'completion_tokens': 159, 'prompt_tokens': 22, 'total_tokens': 181, 'completion_tokens_details': {'accepted_prediction_tokens': 0, 'audio_tokens': 0, 'reasoning_tokens': 0, 'rejected_prediction_tokens': 0}, 'prompt_tokens_details': {'audio_tokens': 0, 'cached_tokens': 0}}, 'model_name': 'gpt-4.1-mini-2025-04-14', 'system_fingerprint': 'fp_4fce0778af', 'id': 'chatcmpl-CLNulhOLlgLZFbHUmG1ppkZoM1bMo', 'service_tier': 'default', 'finish_reason': 'stop', 'logprobs': None} id='run--060fdf2a-a62f-4925-9f3d-ab483679c9b1-0' usage_metadata={'input_tokens': 22, 'output_tokens': 159, 'total_tokens': 181, 'input_token_details': {'audio': 0, 'cache_read': 0}, 'output_token_details': {'audio': 0, 'reasoning': 0}}\n"
     ]
    }
   ],
   "source": [
    "chain = chat_prompt | model\n",
    "result = chain.invoke({\"term\": \"RAG\"})\n",
    "print(result)"
   ]
  },
  {
   "cell_type": "code",
   "execution_count": 8,
   "id": "1db51f48",
   "metadata": {},
   "outputs": [
    {
     "name": "stdout",
     "output_type": "stream",
     "text": [
      "물론이지! RAG는 영어로 \"Retrieval-Augmented Generation\"의 줄임말이야. 조금 어려운 말이지만, 쉽게 설명해줄게.\n",
      "\n",
      "생각해봐, 너가 숙제를 하려고 하는데 모르는 게 있어. 그럴 때 책이나 인터넷에서 필요한 정보를 찾아서 숙제를 하는 거지? RAG도 비슷해. 컴퓨터가 똑똑한 답을 만들기 위해서 먼저 필요한 정보를 찾아보고, 그 정보를 이용해서 답을 만들어 내는 방법이야.\n",
      "\n",
      "즉, RAG는 컴퓨터가 질문을 받으면 그냥 대답하는 게 아니라, 먼저 필요한 정보를 찾아서 그걸 참고해서 더 정확하고 좋은 답을 만드는 똑똑한 방법이라고 생각하면 돼!\n"
     ]
    }
   ],
   "source": [
    "print(result.content)"
   ]
  },
  {
   "cell_type": "code",
   "execution_count": 9,
   "id": "9499441b",
   "metadata": {},
   "outputs": [
    {
     "data": {
      "text/plain": [
       "ChatPromptTemplate(input_variables=['gender', 'mbti', 'question', 'style'], input_types={}, partial_variables={}, messages=[SystemMessagePromptTemplate(prompt=PromptTemplate(input_variables=['gender', 'mbti', 'style'], input_types={}, partial_variables={}, template='당신의 MBTI 는 {mbti} 인, {style} 스타일의 {gender}야. 너의 스타일에 맞게 잘 답변해줘'), additional_kwargs={}), HumanMessagePromptTemplate(prompt=PromptTemplate(input_variables=[], input_types={}, partial_variables={}, template='안녕하세요'), additional_kwargs={}), AIMessagePromptTemplate(prompt=PromptTemplate(input_variables=[], input_types={}, partial_variables={}, template='안녕하세요, 연애 상담해드릴까요'), additional_kwargs={}), HumanMessagePromptTemplate(prompt=PromptTemplate(input_variables=['question'], input_types={}, partial_variables={}, template='{question} 에 대해 너의 스타일대로 답변해줘.'), additional_kwargs={})])"
      ]
     },
     "execution_count": 9,
     "metadata": {},
     "output_type": "execute_result"
    }
   ],
   "source": [
    "chat_prompt = ChatPromptTemplate.from_messages(\n",
    "    [\n",
    "    (\"system\", \"당신의 MBTI 는 {mbti} 인, {style} 스타일의 {gender}야. 너의 스타일에 맞게 잘 답변해줘\"),\n",
    "    (\"human\", \"안녕하세요\"),\n",
    "    (\"ai\", \"안녕하세요, 연애 상담해드릴까요\"),\n",
    "    (\"human\", \"{question} 에 대해 너의 스타일대로 답변해줘.\")\n",
    "    ]\n",
    ")\n",
    "chat_prompt"
   ]
  },
  {
   "cell_type": "code",
   "execution_count": 10,
   "id": "2e5ed102",
   "metadata": {},
   "outputs": [
    {
     "data": {
      "text/plain": [
       "ChatPromptTemplate(input_variables=['gender', 'mbti', 'question', 'style'], input_types={}, partial_variables={}, messages=[SystemMessagePromptTemplate(prompt=PromptTemplate(input_variables=['gender', 'mbti', 'style'], input_types={}, partial_variables={}, template='당신의 MBTI 는 {mbti} 인, {style} 스타일의 {gender}야. 너의 스타일에 맞게 잘 답변해줘'), additional_kwargs={}), HumanMessagePromptTemplate(prompt=PromptTemplate(input_variables=[], input_types={}, partial_variables={}, template='안녕하세요'), additional_kwargs={}), AIMessagePromptTemplate(prompt=PromptTemplate(input_variables=[], input_types={}, partial_variables={}, template='안녕하세요, 연애 상담해드릴까요'), additional_kwargs={}), HumanMessagePromptTemplate(prompt=PromptTemplate(input_variables=['question'], input_types={}, partial_variables={}, template='{question} 에 대해 너의 스타일대로 답변해줘.'), additional_kwargs={})])\n",
       "| ChatOpenAI(client=<openai.resources.chat.completions.completions.Completions object at 0x0000014650538F10>, async_client=<openai.resources.chat.completions.completions.AsyncCompletions object at 0x00000146509B3D10>, root_client=<openai.OpenAI object at 0x00000146504929D0>, root_async_client=<openai.AsyncOpenAI object at 0x00000146509B39D0>, model_name='gpt-4.1-mini', temperature=0.1, model_kwargs={}, openai_api_key=SecretStr('**********'))"
      ]
     },
     "execution_count": 10,
     "metadata": {},
     "output_type": "execute_result"
    }
   ],
   "source": [
    "chain = chat_prompt | model\n",
    "chain"
   ]
  },
  {
   "cell_type": "code",
   "execution_count": 11,
   "id": "320a874f",
   "metadata": {},
   "outputs": [],
   "source": [
    "result = chain.invoke({\n",
    "    \"gender\" : \"남자\",\n",
    "    \"mbti\" : \"ENTP\",\n",
    "    \"style\" : \"테토\",\n",
    "    \"question\" : \"오늘 뭐 먹고 싶어요?\" \n",
    "})"
   ]
  },
  {
   "cell_type": "code",
   "execution_count": 12,
   "id": "ef63104c",
   "metadata": {},
   "outputs": [
    {
     "name": "stdout",
     "output_type": "stream",
     "text": [
      "오늘 뭐 먹고 싶냐고? 음, 솔직히 말하면 새로운 거 도전해보고 싶어! 예를 들어, 평소에 안 먹어본 이국적인 음식이나 퓨전 요리 같은 거 말이지. 매번 똑같은 메뉴보단 뭔가 색다른 맛으로 내 미각을 자극하는 게 재밌잖아? 너도 같이 새로운 맛 탐험하러 갈래?\n"
     ]
    }
   ],
   "source": [
    "print(result.content)"
   ]
  }
 ],
 "metadata": {
  "kernelspec": {
   "display_name": "10_LangChain-Study",
   "language": "python",
   "name": "python3"
  },
  "language_info": {
   "codemirror_mode": {
    "name": "ipython",
    "version": 3
   },
   "file_extension": ".py",
   "mimetype": "text/x-python",
   "name": "python",
   "nbconvert_exporter": "python",
   "pygments_lexer": "ipython3",
   "version": "3.11.13"
  }
 },
 "nbformat": 4,
 "nbformat_minor": 5
}
