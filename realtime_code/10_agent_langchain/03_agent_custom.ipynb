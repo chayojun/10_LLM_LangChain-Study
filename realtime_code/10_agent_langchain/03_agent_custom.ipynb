{
 "cells": [
  {
   "cell_type": "markdown",
   "id": "c4099bcf",
   "metadata": {},
   "source": [
    "### csv 툴 만들기\n",
    "- 저장\n",
    "- 읽기"
   ]
  },
  {
   "cell_type": "code",
   "execution_count": 1,
   "id": "53ff7cfc",
   "metadata": {},
   "outputs": [
    {
     "data": {
      "text/plain": [
       "True"
      ]
     },
     "execution_count": 1,
     "metadata": {},
     "output_type": "execute_result"
    }
   ],
   "source": [
    "from dotenv import load_dotenv\n",
    "from langchain_core.tools import tool\n",
    "from langchain_openai import ChatOpenAI\n",
    "from langchain.agents import create_openai_tools_agent, AgentExecutor\n",
    "from langchain_core.prompts import ChatPromptTemplate\n",
    "from typing import List, Dict, Optional\n",
    "\n",
    "load_dotenv()"
   ]
  },
  {
   "cell_type": "code",
   "execution_count": 2,
   "id": "8905f326",
   "metadata": {},
   "outputs": [],
   "source": [
    "import csv \n",
    "\n",
    "@tool(\"csv_write\", return_direct=False)\n",
    "def csv_write(path : str, rows : List[Dict], mode : str = \"a\") -> str:\n",
    "    \"\"\"\n",
    "    rows(list[dict])를 csv 파일에 저장/추가한다\n",
    "    - path : csv 경로(예: 'news.csv')\n",
    "    - rows : 딕셔너리 목록, 키가 헤더가 됨. 새파일이면 헤더를 자동 생성\n",
    "    - mode : 'a' 추가 모드(기본), 'w' 새로 쓰기\n",
    "    반환 : 작성 행 수/헤더 정보\n",
    "    \"\"\"\n",
    "    \n",
    "    header = [\"date\", \"query\", \"title\", \"url\", \"snippet\"]\n",
    "    with open(path, mode, newline=\"\", encoding='utf-8') as file:\n",
    "        writer = csv.DictWriter(file, filenames = header)\n",
    "        for r in rows:\n",
    "            writer.writerow(r)\n",
    "    return f\"csv  저장 완료, {path}, 행수 = {len(rows)}, 헤더={header}\""
   ]
  }
 ],
 "metadata": {
  "kernelspec": {
   "display_name": "10_LangChain-Study",
   "language": "python",
   "name": "python3"
  },
  "language_info": {
   "codemirror_mode": {
    "name": "ipython",
    "version": 3
   },
   "file_extension": ".py",
   "mimetype": "text/x-python",
   "name": "python",
   "nbconvert_exporter": "python",
   "pygments_lexer": "ipython3",
   "version": "3.11.13"
  }
 },
 "nbformat": 4,
 "nbformat_minor": 5
}
