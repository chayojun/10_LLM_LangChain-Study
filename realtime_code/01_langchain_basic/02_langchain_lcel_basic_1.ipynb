{
 "cells": [
  {
   "cell_type": "markdown",
   "id": "c2a5dac0",
   "metadata": {},
   "source": [
    "### 1. LCEL의 기본 구조를 배워봅시다.\n",
    "1. 프롬프트 템플릿\n",
    "2. 모델\n",
    "3. 출력 형태"
   ]
  },
  {
   "cell_type": "code",
   "execution_count": 1,
   "id": "e8920871",
   "metadata": {},
   "outputs": [],
   "source": [
    "from dotenv import load_dotenv\n",
    "load_dotenv()\n",
    "\n",
    "import os \n",
    "project_name = \"wanted_2nd_langchain_basic\"\n",
    "os.environ[\"LANGSMITH_PROJECT\"] = project_name"
   ]
  },
  {
   "cell_type": "markdown",
   "id": "0baa544d",
   "metadata": {},
   "source": [
    "### 1. 프롬프트 템플릿 설정하기"
   ]
  },
  {
   "cell_type": "code",
   "execution_count": 2,
   "id": "a0452e59",
   "metadata": {},
   "outputs": [
    {
     "data": {
      "text/plain": [
       "PromptTemplate(input_variables=['year'], input_types={}, partial_variables={}, template='최근 {year}년 동안 한국에 오는 관광객 수는?')"
      ]
     },
     "execution_count": 2,
     "metadata": {},
     "output_type": "execute_result"
    }
   ],
   "source": [
    "from langchain_core.prompts import PromptTemplate\n",
    "\n",
    "template = \"최근 {year}년 동안 한국에 오는 관광객 수는?\"\n",
    "prompt_template = PromptTemplate.from_template(template)\n",
    "prompt_template"
   ]
  },
  {
   "cell_type": "code",
   "execution_count": 3,
   "id": "5a51d361",
   "metadata": {},
   "outputs": [
    {
     "data": {
      "text/plain": [
       "'최근 5년 동안 한국에 오는 관광객 수는?'"
      ]
     },
     "execution_count": 3,
     "metadata": {},
     "output_type": "execute_result"
    }
   ],
   "source": [
    "prompt_template.format(year=5)"
   ]
  },
  {
   "cell_type": "markdown",
   "id": "717fefec",
   "metadata": {},
   "source": [
    "### 2. 모델 선택하기"
   ]
  },
  {
   "cell_type": "code",
   "execution_count": 4,
   "id": "482d55b2",
   "metadata": {},
   "outputs": [],
   "source": [
    "from langchain_openai import ChatOpenAI\n",
    "\n",
    "model = ChatOpenAI(\n",
    "    temperature=0.1,\n",
    "    model=\"gpt-4.1-mini\",\n",
    "    verbose=True\n",
    ")"
   ]
  },
  {
   "cell_type": "code",
   "execution_count": 5,
   "id": "062403a2",
   "metadata": {},
   "outputs": [
    {
     "data": {
      "text/plain": [
       "PromptTemplate(input_variables=['year'], input_types={}, partial_variables={}, template='최근 {year}년 동안 한국에 오는 관광객 수는?')\n",
       "| ChatOpenAI(client=<openai.resources.chat.completions.completions.Completions object at 0x000002A02A9C3AD0>, async_client=<openai.resources.chat.completions.completions.AsyncCompletions object at 0x000002A02A9F7610>, root_client=<openai.OpenAI object at 0x000002A02A4F4650>, root_async_client=<openai.AsyncOpenAI object at 0x000002A02A9F7110>, model_name='gpt-4.1-mini', temperature=0.1, model_kwargs={}, openai_api_key=SecretStr('**********'))"
      ]
     },
     "execution_count": 5,
     "metadata": {},
     "output_type": "execute_result"
    }
   ],
   "source": [
    "chain = prompt_template | model\n",
    "chain"
   ]
  },
  {
   "cell_type": "code",
   "execution_count": 6,
   "id": "56d2df13",
   "metadata": {},
   "outputs": [
    {
     "name": "stdout",
     "output_type": "stream",
     "text": [
      "최근 3년 동안 한국을 방문한 관광객 수에 대해 알려드리겠습니다.\n",
      "\n",
      "- **2021년**: 코로나19 팬데믹 영향으로 국제 관광객 수가 크게 감소하여 약 1,300,000명 수준이었습니다.\n",
      "- **2022년**: 방역 완화와 함께 관광객 수가 점차 회복되어 약 5,000,000명 정도로 추정됩니다.\n",
      "- **2023년**: 관광 산업 회복세가 이어지면서 약 10,000,000명 내외로 증가한 것으로 예상됩니다.\n",
      "\n",
      "정확한 최신 통계는 한국관광공사나 통계청 공식 자료를 참고하시는 것이 좋습니다. 필요하시면 해당 기관의 최신 보고서 링크도 안내해 드릴 수 있습니다.\n"
     ]
    }
   ],
   "source": [
    "input = {\"year\": 3}\n",
    "answer = chain.invoke(input)\n",
    "print(answer.content)"
   ]
  },
  {
   "cell_type": "code",
   "execution_count": 7,
   "id": "04f5ed93",
   "metadata": {},
   "outputs": [
    {
     "data": {
      "text/plain": [
       "AIMessage(content='최근 3년 동안 한국을 방문한 관광객 수에 대해 알려드리겠습니다.\\n\\n- **2021년**: 코로나19 팬데믹 영향으로 국제 관광객 수가 크게 감소하여 약 1,300,000명 수준이었습니다.\\n- **2022년**: 방역 완화와 함께 관광객 수가 점차 회복되어 약 5,000,000명 정도로 추정됩니다.\\n- **2023년**: 관광 산업 회복세가 이어지면서 약 10,000,000명 내외로 증가한 것으로 예상됩니다.\\n\\n정확한 최신 통계는 한국관광공사나 통계청 공식 자료를 참고하시는 것이 좋습니다. 필요하시면 해당 기관의 최신 보고서 링크도 안내해 드릴 수 있습니다.', additional_kwargs={'refusal': None}, response_metadata={'token_usage': {'completion_tokens': 167, 'prompt_tokens': 20, 'total_tokens': 187, 'completion_tokens_details': {'accepted_prediction_tokens': 0, 'audio_tokens': 0, 'reasoning_tokens': 0, 'rejected_prediction_tokens': 0}, 'prompt_tokens_details': {'audio_tokens': 0, 'cached_tokens': 0}}, 'model_name': 'gpt-4.1-mini-2025-04-14', 'system_fingerprint': 'fp_6d7dcc9a98', 'id': 'chatcmpl-CLKZFfrY18n74gsFD83Y4K9pvqWi4', 'service_tier': 'default', 'finish_reason': 'stop', 'logprobs': None}, id='run--5f58995c-e4bf-4fc1-bf98-8a86a0ba5b1c-0', usage_metadata={'input_tokens': 20, 'output_tokens': 167, 'total_tokens': 187, 'input_token_details': {'audio': 0, 'cache_read': 0}, 'output_token_details': {'audio': 0, 'reasoning': 0}})"
      ]
     },
     "execution_count": 7,
     "metadata": {},
     "output_type": "execute_result"
    }
   ],
   "source": [
    "answer"
   ]
  },
  {
   "cell_type": "markdown",
   "id": "ad2be938",
   "metadata": {},
   "source": [
    "### 3. 출력 양식 정해보기\n",
    "- Stroutputparser\n",
    "- jsonoutputparser\n",
    "- pydanticoutputparser\n",
    "- commaseperateoutputparser"
   ]
  },
  {
   "cell_type": "code",
   "execution_count": 8,
   "id": "fa4163cb",
   "metadata": {},
   "outputs": [
    {
     "name": "stdout",
     "output_type": "stream",
     "text": [
      "최근 2년 동안 한국을 방문한 관광객 수에 대한 최신 통계는 다음과 같습니다.\n",
      "\n",
      "- 2022년: 약 1,000만 명\n",
      "- 2023년: 약 1,500만 명 (예상치 또는 잠정치)\n",
      "\n",
      "코로나19 팬데믹으로 인해 2020년과 2021년에는 해외 관광객 수가 크게 감소했으나, 2022년부터 방역 완화와 국제 여행 재개로 관광객 수가 빠르게 회복되고 있습니다.\n",
      "\n",
      "정확한 최신 수치는 한국관광공사(KTO)나 통계청의 공식 발표 자료를 참고하시는 것이 좋습니다. 필요하시면 해당 기관의 최신 보고서 링크도 안내해 드릴 수 있습니다.\n"
     ]
    }
   ],
   "source": [
    "from langchain_core.output_parsers import StrOutputParser\n",
    "\n",
    "outputparser = StrOutputParser()\n",
    "\n",
    "chain = prompt_template | model | outputparser\n",
    "\n",
    "input = {\"year\": 2}\n",
    "answer = chain.invoke(input)\n",
    "print(answer)"
   ]
  },
  {
   "cell_type": "markdown",
   "id": "bd7f5491",
   "metadata": {},
   "source": [
    "# 실습\n",
    "- 각자 알아서 질문 주제 정하고\n",
    "- 프롬프트 템플릿을 좀 더 자세하게 작성해보기"
   ]
  },
  {
   "cell_type": "code",
   "execution_count": 26,
   "id": "12655522",
   "metadata": {},
   "outputs": [
    {
     "name": "stdout",
     "output_type": "stream",
     "text": [
      "- 영어 지문:  \n",
      "Yesterday, two students at school got into a fight. They started punching each other during recess. Some friends tried to stop them, but the fight lasted for a few minutes. After the teachers arrived, the students were separated and sent to the principal’s office. Fighting is not allowed at school because it can hurt people and cause problems.\n",
      "\n",
      "- 영어 문제:  \n",
      "1. When did the fight happen?  \n",
      "2. What did the friends do when the fight started?  \n",
      "3. Where were the students sent after the teachers arrived?  \n",
      "4. Why is fighting not allowed at school?\n",
      "\n",
      "- 한글 해석:  \n",
      "어제 학교에서 두 학생이 싸웠다. 그들은 쉬는 시간에 서로 주먹질을 시작했다. 몇몇 친구들이 싸움을 말리려고 했지만, 싸움은 몇 분간 계속되었다. 선생님들이 도착한 후, 학생들은 분리되어 교장실로 보내졌다. 학교에서는 사람을 다치게 하고 문제를 일으킬 수 있기 때문에 싸움이 허용되지 않는다.\n",
      "\n",
      "- 정답:  \n",
      "1. During recess yesterday.  \n",
      "2. They tried to stop the fight.  \n",
      "3. To the principal’s office.  \n",
      "4. Because it can hurt people and cause problems.\n"
     ]
    }
   ],
   "source": [
    "# 템플릿을 좀 더 자세하게 설정해보기 - 1\n",
    "template = \"\"\"\n",
    "당신은 영어를 가르치는 10년차 영어 선생님입니다. \n",
    "학생들을 위한 영어 연습 자료를 만들어주세요\n",
    "주어진 상황에 맞게 영어 지문을 작성해주세요\n",
    "양식은 [FORMAT]을 참고하여 작성해주세요\n",
    "\n",
    "#상황:\n",
    "{situation}\n",
    "\n",
    "#FORMAT:\n",
    "- 영어 지문:\n",
    "- 영어 문제:\n",
    "- 한글 해석:\n",
    "- 정답:\n",
    "\"\"\"\n",
    "\n",
    "prompt = PromptTemplate.from_template(template)\n",
    "\n",
    "en_chain = prompt | model | outputparser\n",
    "answer = en_chain.invoke({\"situation\": \"학교 친구들끼리 주먹질하며 싸웠다\"})\n",
    "print(answer)"
   ]
  },
  {
   "cell_type": "code",
   "execution_count": 18,
   "id": "d9329107",
   "metadata": {},
   "outputs": [
    {
     "data": {
      "text/plain": [
       "PromptTemplate(input_variables=['country', 'type'], input_types={}, partial_variables={}, template='올해 {country}에서 {type} 트랜드중 가장 핫한 키워드는 무었인가요?')"
      ]
     },
     "execution_count": 18,
     "metadata": {},
     "output_type": "execute_result"
    }
   ],
   "source": [
    "template1 = \"올해 {country}에서 {type} 트랜드중 가장 핫한 키워드는 무었인가요?\"\n",
    "prompt_template1 = PromptTemplate.from_template(template1)\n",
    "prompt_template1"
   ]
  },
  {
   "cell_type": "code",
   "execution_count": 19,
   "id": "de4e464e",
   "metadata": {},
   "outputs": [
    {
     "data": {
      "text/plain": [
       "'올해 한국에서 AI 트랜드중 가장 핫한 키워드는 무었인가요?'"
      ]
     },
     "execution_count": 19,
     "metadata": {},
     "output_type": "execute_result"
    }
   ],
   "source": [
    "prompt_template1.format(country=\"한국\", type=\"AI\")"
   ]
  },
  {
   "cell_type": "code",
   "execution_count": 20,
   "id": "92e2b3e5",
   "metadata": {},
   "outputs": [],
   "source": [
    "from langchain_openai import ChatOpenAI\n",
    "\n",
    "model = ChatOpenAI(\n",
    "    temperature=0.1,\n",
    "    model=\"gpt-4.1-mini\",\n",
    "    verbose=True\n",
    ")"
   ]
  },
  {
   "cell_type": "code",
   "execution_count": 21,
   "id": "4936d0e0",
   "metadata": {},
   "outputs": [
    {
     "data": {
      "text/plain": [
       "PromptTemplate(input_variables=['country', 'type'], input_types={}, partial_variables={}, template='올해 {country}에서 {type} 트랜드중 가장 핫한 키워드는 무었인가요?')\n",
       "| ChatOpenAI(client=<openai.resources.chat.completions.completions.Completions object at 0x000002A056CD6D50>, async_client=<openai.resources.chat.completions.completions.AsyncCompletions object at 0x000002A056CD2690>, root_client=<openai.OpenAI object at 0x000002A055FBC310>, root_async_client=<openai.AsyncOpenAI object at 0x000002A056CD6A50>, model_name='gpt-4.1-mini', temperature=0.1, model_kwargs={}, openai_api_key=SecretStr('**********'))"
      ]
     },
     "execution_count": 21,
     "metadata": {},
     "output_type": "execute_result"
    }
   ],
   "source": [
    "chain1 = prompt_template1 | model\n",
    "chain1"
   ]
  },
  {
   "cell_type": "code",
   "execution_count": 24,
   "id": "051f7707",
   "metadata": {},
   "outputs": [
    {
     "name": "stdout",
     "output_type": "stream",
     "text": [
      "2024년 한국에서 AI 트렌드 중 가장 핫한 키워드는 다음과 같습니다:\n",
      "\n",
      "1. **생성형 AI (Generative AI)**  \n",
      "   ChatGPT, GPT-4, 그리고 다양한 생성형 AI 모델들이 큰 주목을 받고 있습니다. 텍스트, 이미지, 영상 생성 등 다양한 분야에서 활용도가 급증하고 있죠.\n",
      "\n",
      "2. **AI 윤리 및 규제**  \n",
      "   AI 기술의 발전과 함께 개인정보 보호, 편향성 문제, 책임 소재 등 윤리적 이슈와 관련된 논의가 활발합니다. 정부와 기업 차원에서 AI 윤리 가이드라인 마련이 중요한 키워드입니다.\n",
      "\n",
      "3. **AI 융합 서비스**  \n",
      "   AI가 금융, 의료, 제조, 교육 등 다양한 산업과 융합되어 새로운 서비스와 비즈니스 모델을 창출하는 사례가 늘고 있습니다.\n",
      "\n",
      "4. **엣지 AI (Edge AI)**  \n",
      "   클라우드가 아닌 디바이스 자체에서 AI 연산을 수행하는 엣지 AI 기술이 IoT, 스마트 팩토리 등에서 주목받고 있습니다.\n",
      "\n",
      "5. **AI 기반 맞춤형 콘텐츠 및 마케팅**  \n",
      "   개인 맞춤형 추천, 광고, 콘텐츠 생성에 AI가 적극 활용되면서 마케팅 분야에서 큰 변화가 일어나고 있습니다.\n",
      "\n",
      "이 외에도 **대화형 AI**, **멀티모달 AI**, **AI 자동화 및 로보틱 프로세스 자동화(RPA)** 등이 한국 내 AI 트렌드에서 중요한 키워드로 꼽힙니다.\n"
     ]
    }
   ],
   "source": [
    "input1 = {\"country\": \"한국\", \"type\": \"AI\"}\n",
    "answer1 = chain1.invoke(input1)\n",
    "print(answer1.content)"
   ]
  },
  {
   "cell_type": "code",
   "execution_count": 25,
   "id": "d7bacc3a",
   "metadata": {},
   "outputs": [
    {
     "name": "stdout",
     "output_type": "stream",
     "text": [
      "2024년 한국에서 AI 트렌드 중 가장 핫한 키워드는 다음과 같습니다:\n",
      "\n",
      "1. **생성형 AI (Generative AI)**  \n",
      "   ChatGPT, GPT-4, 그리고 다양한 생성형 AI 모델들이 큰 주목을 받고 있습니다. 텍스트, 이미지, 음성 등 다양한 콘텐츠를 자동으로 생성하는 기술이 산업 전반에 빠르게 확산되고 있습니다.\n",
      "\n",
      "2. **AI 윤리 및 규제**  \n",
      "   AI 기술의 발전과 함께 개인정보 보호, 편향성 문제, 투명성 확보 등 윤리적 이슈가 중요한 화두로 떠오르고 있습니다. 정부와 기업 모두 AI 윤리 기준 마련과 규제 대응에 집중하고 있습니다.\n",
      "\n",
      "3. **AI 융합 서비스**  \n",
      "   AI가 금융, 의료, 제조, 교육 등 다양한 산업과 융합되어 맞춤형 서비스와 스마트 솔루션을 제공하는 사례가 늘어나고 있습니다.\n",
      "\n",
      "4. **엣지 AI (Edge AI)**  \n",
      "   클라우드가 아닌 디바이스 자체에서 AI 연산을 수행하는 엣지 AI 기술이 IoT, 스마트폰, 자율주행 등 분야에서 주목받고 있습니다.\n",
      "\n",
      "5. **대화형 AI 및 챗봇**  \n",
      "   고객 서비스, 상담, 교육 등에서 자연스러운 대화가 가능한 AI 챗봇이 활발히 도입되고 있습니다.\n",
      "\n",
      "이 외에도 AI 반도체, 메타버스와의 결합, AI 기반 데이터 분석 등이 중요한 트렌드로 자리잡고 있습니다.\n"
     ]
    }
   ],
   "source": [
    "from langchain_core.output_parsers import StrOutputParser\n",
    "\n",
    "outputparser = StrOutputParser()\n",
    "\n",
    "chain1 = prompt_template1 | model | outputparser\n",
    "\n",
    "input1 = {\"country\": \"한국\", \"type\": \"AI\"}\n",
    "answer1 = chain1.invoke(input1)\n",
    "print(answer1)"
   ]
  }
 ],
 "metadata": {
  "kernelspec": {
   "display_name": "10_LangChain-Study",
   "language": "python",
   "name": "python3"
  },
  "language_info": {
   "codemirror_mode": {
    "name": "ipython",
    "version": 3
   },
   "file_extension": ".py",
   "mimetype": "text/x-python",
   "name": "python",
   "nbconvert_exporter": "python",
   "pygments_lexer": "ipython3",
   "version": "3.11.13"
  }
 },
 "nbformat": 4,
 "nbformat_minor": 5
}
