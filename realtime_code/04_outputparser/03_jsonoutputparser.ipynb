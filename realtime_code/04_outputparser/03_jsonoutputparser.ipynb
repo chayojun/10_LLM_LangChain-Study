{
 "cells": [
  {
   "cell_type": "code",
   "execution_count": 9,
   "id": "d327f7de",
   "metadata": {},
   "outputs": [],
   "source": [
    "from dotenv import load_dotenv\n",
    "load_dotenv()\n",
    "\n",
    "import os\n",
    "project_name = \"wanted_2nd_langchain_outputparser_basic\"\n",
    "os.environ[\"LANGSMITH_PROJECT\"] = project_name"
   ]
  },
  {
   "cell_type": "code",
   "execution_count": 10,
   "id": "4a372912",
   "metadata": {},
   "outputs": [],
   "source": [
    "from langchain_openai import ChatOpenAI\n",
    "from langchain_core.prompts import ChatPromptTemplate\n",
    "\n",
    "model = ChatOpenAI(\n",
    "    temperature=0.1,\n",
    "    model=\"gpt-4.1-mini\",\n",
    "    verbose=True\n",
    ")"
   ]
  },
  {
   "cell_type": "code",
   "execution_count": null,
   "id": "7335e1cb",
   "metadata": {},
   "outputs": [
    {
     "data": {
      "text/plain": [
       "ChatPromptTemplate(input_variables=['text'], input_types={}, partial_variables={}, messages=[HumanMessagePromptTemplate(prompt=PromptTemplate(input_variables=['text'], input_types={}, partial_variables={}, template='\\n    오직 JSON 문자열만 출력을 해라. 코드블록 금지\\n    키 : {{\"title\" : str, \"bullets\" : list[str], \"tone\" : \"neutral|postive|negative\"}}\\n    {text}\\n'), additional_kwargs={})])\n",
       "| ChatOpenAI(client=<openai.resources.chat.completions.completions.Completions object at 0x00000209E6F47D90>, async_client=<openai.resources.chat.completions.completions.AsyncCompletions object at 0x00000209E6F475D0>, root_client=<openai.OpenAI object at 0x00000209E6F17850>, root_async_client=<openai.AsyncOpenAI object at 0x00000209E6F479D0>, model_name='gpt-4.1-mini', temperature=0.1, model_kwargs={}, openai_api_key=SecretStr('**********'))\n",
       "| JsonOutputParser()"
      ]
     },
     "execution_count": 11,
     "metadata": {},
     "output_type": "execute_result"
    }
   ],
   "source": [
    "from langchain_core.output_parsers import JsonOutputParser\n",
    "# JsonOutputParser 불러오기\n",
    "# -> 모델 출력이 valid JSON일 것을 기대하고, 그 JSON을 파이썬 객체(dict 등)로 변환해줌\n",
    "\n",
    "json_parser = JsonOutputParser()\n",
    "# JsonOutputParser 인스턴스 생성\n",
    "\n",
    "template = \"\"\"\n",
    "    오직 JSON 문자열만 출력을 해라. 코드블록 금지\n",
    "    키 : {{\"title\" : str, \"bullets\" : list[str], \"tone\" : \"neutral|postive|negative\"}}\n",
    "    {text}\n",
    "\"\"\"\n",
    "# 프롬프트 템플릿 문자열 정의\n",
    "# - \"오직 JSON\" : 모델에게 코드블록(```...```)없이 순수한 JSON만 내놓으라고 강하게 지시\n",
    "# - 키 설명 {{\"title\":...}} : 중괄호를 두 번 쓴 이유는 템플릿 엔진에 그대로 '{' '}'를 전달하기 위함(=문자 그대로의 중괄호로 JSON 스키마 보여주기)\n",
    "# - {text} : 실제 분석할 입력 텍스트(나중에 포맷 시 여기에 채워짐)\n",
    "# 참고: \"postive\"는 오타로 보입니다. 올바른 값은 \"positive\" 입니다.\n",
    "\n",
    "prompt_template = ChatPromptTemplate.from_template(\n",
    "    template = template\n",
    ")\n",
    "# ChatPromptTemplate 객체 생성\n",
    "# -> 위의 템플릿 문자열을 대화형 프롬프트로 사용하도록 만듦\n",
    "\n",
    "chain = prompt_template | model | json_parser\n",
    "# LCEL 문법으로 체인 구성\n",
    "# 1) prompt_template -> 2) model(LLM) -> 3) json_parser\n",
    "# 체인 실행 시: 템플릿 생성 → 모델이 응답(문자열 JSON) → json_parser가 JSON으로 파싱\n",
    "\n",
    "chain\n",
    "# 만든 체인 객체 확인(실행 준비 완료)\n"
   ]
  },
  {
   "cell_type": "code",
   "execution_count": 12,
   "id": "647b550e",
   "metadata": {},
   "outputs": [],
   "source": [
    "text = \"\"\"\n",
    "오늘 아침에 프로젝트 마감이 임박했는데도 불구하고 팀원들과의 긴밀한 협력 덕분에 무사히 작업을 완료할 수 있었습니다. 특히 김 대리님의 자료 분석 능력이 빛을 발했고, 모두가 어려운 상황 속에서도 긍정적인 태도를 잃지 않았습니다. 이 성과를 바탕으로 다음 프로젝트도 성공적으로 이끌어낼 수 있을 거라는 확신이 듭니다\n",
    "\"\"\"\n",
    "result = chain.invoke({\"text\" : text})"
   ]
  },
  {
   "cell_type": "code",
   "execution_count": 13,
   "id": "a3ae8131",
   "metadata": {},
   "outputs": [
    {
     "data": {
      "text/plain": [
       "{'title': '프로젝트 마감 성공',\n",
       " 'bullets': ['프로젝트 마감 임박 상황에서도 팀원들과 긴밀히 협력함',\n",
       "  '김 대리님의 뛰어난 자료 분석 능력 발휘',\n",
       "  '어려운 상황 속에서도 긍정적인 태도 유지',\n",
       "  '이번 성과를 바탕으로 다음 프로젝트 성공 기대'],\n",
       " 'tone': 'positive'}"
      ]
     },
     "execution_count": 13,
     "metadata": {},
     "output_type": "execute_result"
    }
   ],
   "source": [
    "result"
   ]
  },
  {
   "cell_type": "code",
   "execution_count": 14,
   "id": "8d3e438b",
   "metadata": {},
   "outputs": [
    {
     "name": "stdout",
     "output_type": "stream",
     "text": [
      "<class 'dict'>\n"
     ]
    }
   ],
   "source": [
    "print(type(result))"
   ]
  }
 ],
 "metadata": {
  "kernelspec": {
   "display_name": "10_LangChain-Study",
   "language": "python",
   "name": "python3"
  },
  "language_info": {
   "codemirror_mode": {
    "name": "ipython",
    "version": 3
   },
   "file_extension": ".py",
   "mimetype": "text/x-python",
   "name": "python",
   "nbconvert_exporter": "python",
   "pygments_lexer": "ipython3",
   "version": "3.11.13"
  }
 },
 "nbformat": 4,
 "nbformat_minor": 5
}
