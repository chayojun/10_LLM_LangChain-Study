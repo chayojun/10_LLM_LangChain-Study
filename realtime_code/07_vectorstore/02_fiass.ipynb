{
 "cells": [
  {
   "cell_type": "code",
   "execution_count": 2,
   "id": "b09621ad",
   "metadata": {},
   "outputs": [
    {
     "data": {
      "text/plain": [
       "True"
      ]
     },
     "execution_count": 2,
     "metadata": {},
     "output_type": "execute_result"
    }
   ],
   "source": [
    "from langchain_community.document_loaders import PyPDFLoader\n",
    "from dotenv import load_dotenv\n",
    "load_dotenv()"
   ]
  },
  {
   "cell_type": "code",
   "execution_count": null,
   "id": "b3461f7d",
   "metadata": {},
   "outputs": [
    {
     "data": {
      "text/plain": [
       "83"
      ]
     },
     "execution_count": 3,
     "metadata": {},
     "output_type": "execute_result"
    }
   ],
   "source": [
    "pdf_docs = PyPDFLoader(\"../00_data/Sustainability_report_2024_kr.pdf\").load()  \n",
    "# PDF 파일을 불러와 각 페이지를 LangChain의 Document 형태로 로드  \n",
    "# 각 페이지는 'page_content'(본문 텍스트)와 'metadata'(페이지 번호 등 정보)를 포함\n",
    "\n",
    "len(pdf_docs)  \n",
    "# 불러온 PDF 문서의 페이지 수를 확인"
   ]
  },
  {
   "cell_type": "code",
   "execution_count": 4,
   "id": "1cb8dd73",
   "metadata": {},
   "outputs": [],
   "source": [
    "from langchain_text_splitters import RecursiveCharacterTextSplitter"
   ]
  },
  {
   "cell_type": "code",
   "execution_count": 5,
   "id": "cefa0f38",
   "metadata": {},
   "outputs": [
    {
     "data": {
      "text/plain": [
       "207"
      ]
     },
     "execution_count": 5,
     "metadata": {},
     "output_type": "execute_result"
    }
   ],
   "source": [
    "rec_splitter = RecursiveCharacterTextSplitter(\n",
    "    chunk_size=1000,\n",
    "    chunk_overlap=100\n",
    ")\n",
    "chunk_docs = rec_splitter.split_documents(pdf_docs)\n",
    "len(chunk_docs)"
   ]
  },
  {
   "cell_type": "code",
   "execution_count": 6,
   "id": "bc798c29",
   "metadata": {},
   "outputs": [
    {
     "data": {
      "text/plain": [
       "Document(metadata={'producer': 'Adobe PDF Library 15.0', 'creator': 'Adobe InDesign 15.1 (Macintosh)', 'creationdate': '2024-11-25T11:10:32+09:00', 'moddate': '2024-11-25T11:10:46+09:00', 'trapped': '/False', 'source': '../00_data/Sustainability_report_2024_kr.pdf', 'total_pages': 83, 'page': 0, 'page_label': '1'}, page_content='A Journey Towards  \\na Sustainable Future\\n삼성전자 지속가능경영보고서 2024')"
      ]
     },
     "execution_count": 6,
     "metadata": {},
     "output_type": "execute_result"
    }
   ],
   "source": [
    "chunk_docs[0]"
   ]
  },
  {
   "cell_type": "code",
   "execution_count": null,
   "id": "c6b3f000",
   "metadata": {},
   "outputs": [],
   "source": [
    "for item in chunk_docs:\n",
    "    item.metadata = {**(item.metadata), \"class\" : \"wanted\"}  # metadata에 class : wanted 키와 벨류를 추가함"
   ]
  },
  {
   "cell_type": "code",
   "execution_count": 8,
   "id": "ce24203e",
   "metadata": {},
   "outputs": [
    {
     "data": {
      "text/plain": [
       "Document(metadata={'producer': 'Adobe PDF Library 15.0', 'creator': 'Adobe InDesign 15.1 (Macintosh)', 'creationdate': '2024-11-25T11:10:32+09:00', 'moddate': '2024-11-25T11:10:46+09:00', 'trapped': '/False', 'source': '../00_data/Sustainability_report_2024_kr.pdf', 'total_pages': 83, 'page': 0, 'page_label': '1', 'class': 'wanted'}, page_content='A Journey Towards  \\na Sustainable Future\\n삼성전자 지속가능경영보고서 2024')"
      ]
     },
     "execution_count": 8,
     "metadata": {},
     "output_type": "execute_result"
    }
   ],
   "source": [
    "chunk_docs[0]"
   ]
  },
  {
   "cell_type": "markdown",
   "id": "7d7711a6",
   "metadata": {},
   "source": [
    "### Fiass 벡터 DB 생성"
   ]
  },
  {
   "cell_type": "code",
   "execution_count": null,
   "id": "8a0a75d9",
   "metadata": {},
   "outputs": [],
   "source": [
    "from langchain_openai.embeddings import OpenAIEmbeddings  \n",
    "# OpenAI의 임베딩(벡터화) 기능을 LangChain에서 사용하기 위한 클래스 불러오기\n",
    "\n",
    "embeddings = OpenAIEmbeddings(model=\"text-embedding-3-large\")  \n",
    "# OpenAI의 'text-embedding-3-large' 모델을 사용해 텍스트를 벡터로 변환하는 객체 생성"
   ]
  },
  {
   "cell_type": "code",
   "execution_count": null,
   "id": "9b6ac193",
   "metadata": {},
   "outputs": [
    {
     "name": "stdout",
     "output_type": "stream",
     "text": [
      "3072\n"
     ]
    }
   ],
   "source": [
    "dim_size = len(embeddings.embed_query(\"안녕하세요\"))  \n",
    "# \"안녕하세요\"라는 문장을 임베딩(벡터화)하여 생성된 벡터의 길이를 계산\n",
    "# 즉, 벡터가 몇 차원(dim)인지 확인\n",
    "\n",
    "print(dim_size)  \n",
    "# 임베딩 벡터의 차원 수를 출력"
   ]
  },
  {
   "cell_type": "code",
   "execution_count": 11,
   "id": "bfae3c13",
   "metadata": {},
   "outputs": [],
   "source": [
    "# uv add faiss-cpu"
   ]
  },
  {
   "cell_type": "code",
   "execution_count": 12,
   "id": "70b1349b",
   "metadata": {},
   "outputs": [
    {
     "data": {
      "text/plain": [
       "Document(metadata={'producer': 'Adobe PDF Library 15.0', 'creator': 'Adobe InDesign 15.1 (Macintosh)', 'creationdate': '2024-11-25T11:10:32+09:00', 'moddate': '2024-11-25T11:10:46+09:00', 'trapped': '/False', 'source': '../00_data/Sustainability_report_2024_kr.pdf', 'total_pages': 83, 'page': 0, 'page_label': '1', 'class': 'wanted'}, page_content='A Journey Towards  \\na Sustainable Future\\n삼성전자 지속가능경영보고서 2024')"
      ]
     },
     "execution_count": 12,
     "metadata": {},
     "output_type": "execute_result"
    }
   ],
   "source": [
    "chunk_docs[0]"
   ]
  },
  {
   "cell_type": "code",
   "execution_count": null,
   "id": "278b8629",
   "metadata": {},
   "outputs": [],
   "source": [
    "import faiss  \n",
    "# Facebook AI에서 개발한 고속 벡터 검색 라이브러리  \n",
    "# 임베딩 벡터를 효율적으로 저장하고, 유사도 검색을 빠르게 수행할 수 있음\n",
    "\n",
    "from langchain_community.vectorstores import FAISS  \n",
    "# LangChain에서 FAISS 기반 벡터 저장소를 쉽게 사용하기 위한 래퍼 클래스  \n",
    "# 임베딩 벡터를 DB처럼 저장하고 검색할 수 있음\n",
    "\n",
    "from langchain_community.docstore.in_memory import InMemoryDocstore  \n",
    "# 벡터와 연결된 문서(metadata)를 메모리에 저장하는 간단한 문서 저장소  \n",
    "# 검색 시 벡터와 원문 문서를 함께 조회할 때 사용"
   ]
  },
  {
   "cell_type": "code",
   "execution_count": null,
   "id": "c650341c",
   "metadata": {},
   "outputs": [],
   "source": [
    "db = FAISS.from_documents(\n",
    "    documents = [chunk_docs[0]],  # 벡터 DB에 저장할 문서 리스트. 여기서는 첫 번째 청크(chunk)만 사용\n",
    "    embedding = embeddings,       # 문서를 벡터로 변환할 때 사용할 OpenAI 임베딩 객체\n",
    "    # ids = [\"문서1\"]  문서 이름도 임의로 설정 가능\n",
    ")\n",
    "# FAISS 벡터 저장소를 생성하고, 주어진 문서를 임베딩하여 저장\n",
    "# 이후 검색(query) 시 벡터를 기반으로 유사 문서를 빠르게 조회 가능"
   ]
  },
  {
   "cell_type": "code",
   "execution_count": null,
   "id": "fafc69d6",
   "metadata": {},
   "outputs": [
    {
     "data": {
      "text/plain": [
       "{0: '753a9bef-3c76-4e77-9b4c-d0243369e0b0'}"
      ]
     },
     "execution_count": 15,
     "metadata": {},
     "output_type": "execute_result"
    }
   ],
   "source": [
    "db.index_to_docstore_id  \n",
    "# FAISS 벡터 저장소에서 벡터(index)와 실제 문서(Document) ID 간의 매핑 정보를 확인\n",
    "# key: FAISS 내부 벡터 인덱스 번호\n",
    "# value: 해당 벡터가 연결된 Document 객체의 ID\n",
    "# 검색 결과에서 벡터를 찾아 원문 문서를 가져올 때 사용됨"
   ]
  },
  {
   "cell_type": "code",
   "execution_count": 16,
   "id": "5d7a4220",
   "metadata": {},
   "outputs": [
    {
     "data": {
      "text/plain": [
       "{0: '2a42c148-49dc-4c23-8d39-141aa76e8a43'}"
      ]
     },
     "execution_count": 16,
     "metadata": {},
     "output_type": "execute_result"
    }
   ],
   "source": [
    "db = FAISS.from_documents(\n",
    "    documents = [chunk_docs[0]],\n",
    "    embedding = embeddings,\n",
    ")\n",
    "db.index_to_docstore_id"
   ]
  },
  {
   "cell_type": "code",
   "execution_count": null,
   "id": "5e42e42e",
   "metadata": {},
   "outputs": [
    {
     "data": {
      "text/plain": [
       "{'2a42c148-49dc-4c23-8d39-141aa76e8a43': Document(id='2a42c148-49dc-4c23-8d39-141aa76e8a43', metadata={'producer': 'Adobe PDF Library 15.0', 'creator': 'Adobe InDesign 15.1 (Macintosh)', 'creationdate': '2024-11-25T11:10:32+09:00', 'moddate': '2024-11-25T11:10:46+09:00', 'trapped': '/False', 'source': '../00_data/Sustainability_report_2024_kr.pdf', 'total_pages': 83, 'page': 0, 'page_label': '1', 'class': 'wanted'}, page_content='A Journey Towards  \\na Sustainable Future\\n삼성전자 지속가능경영보고서 2024')}"
      ]
     },
     "execution_count": 18,
     "metadata": {},
     "output_type": "execute_result"
    }
   ],
   "source": [
    "db.docstore.__dict__[\"_dict\"]  \n",
    "# FAISS 벡터 저장소와 연결된 InMemoryDocstore 안의 실제 문서 저장소 확인\n",
    "# _dict: 내부적으로 Document ID를 key로, Document 객체를 value로 저장한 딕셔너리\n",
    "# 즉, 벡터와 매칭된 원본 문서 내용을 직접 들여다볼 수 있는 구조"
   ]
  },
  {
   "cell_type": "code",
   "execution_count": null,
   "id": "c9337a04",
   "metadata": {},
   "outputs": [
    {
     "data": {
      "text/plain": [
       "[Document(id='2a42c148-49dc-4c23-8d39-141aa76e8a43', metadata={'producer': 'Adobe PDF Library 15.0', 'creator': 'Adobe InDesign 15.1 (Macintosh)', 'creationdate': '2024-11-25T11:10:32+09:00', 'moddate': '2024-11-25T11:10:46+09:00', 'trapped': '/False', 'source': '../00_data/Sustainability_report_2024_kr.pdf', 'total_pages': 83, 'page': 0, 'page_label': '1', 'class': 'wanted'}, page_content='A Journey Towards  \\na Sustainable Future\\n삼성전자 지속가능경영보고서 2024')]"
      ]
     },
     "execution_count": 19,
     "metadata": {},
     "output_type": "execute_result"
    }
   ],
   "source": [
    "db.similarity_search(\"삼성\", k=5)  \n",
    "# 벡터 저장소(db)에서 \"삼성\"이라는 질문(query)과 가장 유사한 문서 청크 상위 5개(k=5)를 검색\n",
    "# 반환값: 검색된 Document 객체 리스트"
   ]
  },
  {
   "cell_type": "code",
   "execution_count": null,
   "id": "f34f9dde",
   "metadata": {},
   "outputs": [],
   "source": [
    "vectorstore_db_path = \"../07_vectorstore/samsung_faiss.db\"  # 벡터 DB를 저장할 로컬 경로 지정\n",
    "index_name = \"samsung2025\"                                  # 저장할 인덱스(데이터베이스) 이름 설정\n",
    "\n",
    "db.save_local(\n",
    "    folder_path = vectorstore_db_path,  # 지정한 폴더 경로에\n",
    "    index_name = index_name             # 해당 이름으로 벡터 DB 저장\n",
    ")"
   ]
  },
  {
   "cell_type": "code",
   "execution_count": null,
   "id": "9713618c",
   "metadata": {},
   "outputs": [],
   "source": [
    "# 저장된 db 불러오기\n",
    "load_db = FAISS.load_local(\n",
    "    folder_path = vectorstore_db_path,         # 이전에 저장해둔 FAISS 벡터 DB 폴더 경로\n",
    "    index_name = index_name,                   # 불러올 인덱스(저장된 벡터 파일) 이름\n",
    "    embeddings = embeddings,                   # 동일한 임베딩 모델로 벡터를 복원하기 위해 지정\n",
    "    allow_dangerous_deserialization = True     # 로컬에 저장된 pickle 데이터를 복원 허용 (주의 필요)\n",
    ")\n"
   ]
  },
  {
   "cell_type": "code",
   "execution_count": 23,
   "id": "5142553c",
   "metadata": {},
   "outputs": [
    {
     "data": {
      "text/plain": [
       "{'2a42c148-49dc-4c23-8d39-141aa76e8a43': Document(id='2a42c148-49dc-4c23-8d39-141aa76e8a43', metadata={'producer': 'Adobe PDF Library 15.0', 'creator': 'Adobe InDesign 15.1 (Macintosh)', 'creationdate': '2024-11-25T11:10:32+09:00', 'moddate': '2024-11-25T11:10:46+09:00', 'trapped': '/False', 'source': '../00_data/Sustainability_report_2024_kr.pdf', 'total_pages': 83, 'page': 0, 'page_label': '1', 'class': 'wanted'}, page_content='A Journey Towards  \\na Sustainable Future\\n삼성전자 지속가능경영보고서 2024')}"
      ]
     },
     "execution_count": 23,
     "metadata": {},
     "output_type": "execute_result"
    }
   ],
   "source": [
    "load_db.docstore.__dict__[\"_dict\"]"
   ]
  },
  {
   "cell_type": "markdown",
   "id": "fbba2cc5",
   "metadata": {},
   "source": [
    "### 문서 추가하기"
   ]
  },
  {
   "cell_type": "code",
   "execution_count": 24,
   "id": "24a0322e",
   "metadata": {},
   "outputs": [
    {
     "data": {
      "text/plain": [
       "[Document(metadata={'producer': 'Adobe PDF Library 15.0', 'creator': 'Adobe InDesign 15.1 (Macintosh)', 'creationdate': '2024-11-25T11:10:32+09:00', 'moddate': '2024-11-25T11:10:46+09:00', 'trapped': '/False', 'source': '../00_data/Sustainability_report_2024_kr.pdf', 'total_pages': 83, 'page': 1, 'page_label': '2', 'class': 'wanted'}, page_content='A Journey Towards  \\na Sustainable Future\\n삼성전자 지속가능경영보고서 2024\\nCEO 메시지\\n회사 소개\\n이해관계자 소통\\nOur Company\\n04\\n05\\n06\\n준법과 윤리경영\\nPrinciple\\n53\\n중대성 평가\\nMateriality Assessment\\n08\\n임직원\\n공급망\\n사회공헌\\n개인정보보호/보안\\n고객의 안전/품질\\nPeople\\n31\\n39\\n45\\n48\\n50\\n경제성과\\n사회성과\\n환경성과\\n지역별 수자원 현황   \\n사업부문별 환경성과\\nFacts & Figures\\n56\\n57\\n62\\n65\\n66\\n독립된 인증인의 인증보고서\\nScope 1, 2 온실가스 배출량 검증 의견서\\nScope 3 온실가스 배출량 검증 의견서\\nGRI Index\\nTCFD 대조표\\nSASB 대조표\\n전사차원의 기후변화 대응 협력 활동\\nAbout This Report\\nAppendix\\n70\\n71\\n72\\n74\\n77\\n79\\n81\\n82\\n[DX부문] \\n추진체계 및 주요성과\\n기후변화\\n자원순환\\n수자원 및 오염물질\\n[DS부문]  \\n추진체계 및 주요성과 \\n기후변화\\n수자원\\n폐기물\\n오염물질\\nPlanet\\n12\\n13\\n15\\n17\\n19\\n20\\n23\\n26\\n28\\n삼성전자 지속가능경영보고서 2024 02Our Company AppendixMateriality Assessment Facts & Figures PrinciplePlanet People'),\n",
       " Document(metadata={'producer': 'Adobe PDF Library 15.0', 'creator': 'Adobe InDesign 15.1 (Macintosh)', 'creationdate': '2024-11-25T11:10:32+09:00', 'moddate': '2024-11-25T11:10:46+09:00', 'trapped': '/False', 'source': '../00_data/Sustainability_report_2024_kr.pdf', 'total_pages': 83, 'page': 2, 'page_label': '3', 'class': 'wanted'}, page_content='Our Company\\n04    CEO 메시지\\n05    회사 소개\\xa0\\n06    이해관계자 소통\\n삼성전자 지속가능경영보고서 2024 03Our Company AppendixMateriality Assessment Facts & Figures PrinciplePlanet People'),\n",
       " Document(metadata={'producer': 'Adobe PDF Library 15.0', 'creator': 'Adobe InDesign 15.1 (Macintosh)', 'creationdate': '2024-11-25T11:10:32+09:00', 'moddate': '2024-11-25T11:10:46+09:00', 'trapped': '/False', 'source': '../00_data/Sustainability_report_2024_kr.pdf', 'total_pages': 83, 'page': 3, 'page_label': '4', 'class': 'wanted'}, page_content='삼성전자 지속가능경영보고서 2024\\n04\\nOur Company AppendixMateriality Assessment Facts & Figures PrinciplePlanet People\\nCEO 메시지\\nMessage from \\nOur CEO\\n주주, 고객, 협력회사, 그리고 임직원 여러분,\\n2023년은 고금리와 인플레이션, 지정학적 이슈 등 매우 불확실한 \\n거시경제 환경과 함께, 메모리 산업 부진과 다양한 제품군에서의 경쟁 \\n심화로 삼성전자에게 매우 어려운 한 해였습니다. 이토록 대내외적으로 \\n어려운 환경에서도 지속 성장의 기반 마련을 위해 역대 최고 수준의 28.3\\n조원을 연구개발에 투자하고, 53.1조원 수준의 전략적 시설투자로 기술 \\n리더십을 강화하며 중장기 수요에 미리 대응할 수 있었던 것은 삼성전자를 \\n아껴주시는 이해관계자 여러분의 관심과 격려 덕분입니다. 다시 한 번 \\n깊이 감사 드립니다.\\n급격한 변화를 겪고 있는 경제 상황에 맞춰, 기업의 지속가능경영 \\n분야에서도 많은 변화가 일어나고 있습니다. 특히 기업의 지속가능경영 \\n활동 정보 공개는 글로벌 비재무정보 공시 제도의 확산에 맞춰, 새로운 \\n국면을 맞고 있습니다. 국제회계기준재단(IFRS Foundation)이 2023년 \\n6월 지속가능성 지표를 확정한 것을 시작으로, EU의 지속가능성 보고지침\\n(CSRD)과 미국 증권거래위원회(SEC) 기후공시 기준 역시 세부 내용을 \\n순차적으로 확정하며 ESG 정보의 의무 공시 시대가 열리고 있습니다.\\n이와 함께, EU 탄소국경조정제도(CBAM)와 EU 배터리규제 등을 통한 \\n환경규제 역시 지속 강화되는 추세이고, 독일에서는 공급망의 인권과 \\n근로환경 관리를 의무화하는 공급망실사법이 2023년 발효되었으며, \\n2024년 5월 EU 공급망 실사지침(CSDDD)이 확정되는 등 인권 분야에 \\n대한 관심 또한 지속 고조되고 있습니다. \\n삼성전자는 이러한 추세에 맞춰 지속가능한 미래를 위한 노력을 계속해'),\n",
       " Document(metadata={'producer': 'Adobe PDF Library 15.0', 'creator': 'Adobe InDesign 15.1 (Macintosh)', 'creationdate': '2024-11-25T11:10:32+09:00', 'moddate': '2024-11-25T11:10:46+09:00', 'trapped': '/False', 'source': '../00_data/Sustainability_report_2024_kr.pdf', 'total_pages': 83, 'page': 3, 'page_label': '4', 'class': 'wanted'}, page_content=\"대한 관심 또한 지속 고조되고 있습니다. \\n삼성전자는 이러한 추세에 맞춰 지속가능한 미래를 위한 노력을 계속해 \\n왔습니다. 2050년 탄소중립을 통해 글로벌 기후위기 극복 노력에 \\n동참하고, 자원의 순환성을 극대화하여 순환경제 구축 에 기여하며, \\n기술혁신을 통해 환경난제 해결에 도전하는 내용의 '新환경경영전략'을 \\n2022년 9월에 발표하였습니다. \\n2030년 탄소중립을 목표로 하는 DX부문에서는 미국, 유럽, 중국에 이어 \\n한국, 베트남, 인도, 브라 질을 포함한 글로벌 주요 제조사업장의 사용 \\n전력을 재생에너지로 100% 전환하였으며, 2023년말 기준, 총 93.4%\\n의 재생에너지 전환 실적을 기록하였습니다. 또한 자원순환형 소재 확대 \\n로드맵에 맞춰, 당사가 구매한 제품 내 플라스틱 부품 25%에 재생레진을 \\n적용하였습니다. \\nDS부문에서는 2050년 탄소중립 달성을 위해 2023년 공정가스 처리시설\\n(RCS) 16대를 4개 라인에 신규 설치하고, LNG 폐열 회수 시스템을 확대 \\n적용하여 온실가스 배출 저감을 위해 노력했습니다. 또한 2030년까지 \\n용수 취수량을 2021년 수준으로 절 감하는 것을 목 표로 하고 있으며, \\n국제수자원관리동맹(AWS)으로부터 기흥/화성, 평택, 중국 시안 사업장에 \\n대해 최고 등급인 ' 플래티넘' 인증을 획득하여 수자원 관리 체계의 \\n우수성을 입증 받았습니다. 아울러, 폐기물 발생량 저감을 위해 2024년 \\n3월, 웨이퍼박스 등 9건에 대해 환경부 순환자원 인정을 추가 취득하여 \\n현재까지 총 49건을 순환자원으로 인정받았고 매년 품목을 확대해나가고 \\n있습니다.\\n사회 분야에서는 지난 2023년 2월 발표한 글로벌 인권원칙에 연계하여, \\n글로벌 고충처리 정책 을 2024년 4월 제정, 고충  접수 채널 운영과 \\n접수된 고충의 처리 원칙에 대한 기준을 수립하였고, 공급망 관리에 \\n있어서는 비제조 분야 및 리스크 분석에 따라 제조 분야 2차 협력회사로\"),\n",
       " Document(metadata={'producer': 'Adobe PDF Library 15.0', 'creator': 'Adobe InDesign 15.1 (Macintosh)', 'creationdate': '2024-11-25T11:10:32+09:00', 'moddate': '2024-11-25T11:10:46+09:00', 'trapped': '/False', 'source': '../00_data/Sustainability_report_2024_kr.pdf', 'total_pages': 83, 'page': 3, 'page_label': '4', 'class': 'wanted'}, page_content=\"접수된 고충의 처리 원칙에 대한 기준을 수립하였고, 공급망 관리에 \\n있어서는 비제조 분야 및 리스크 분석에 따라 제조 분야 2차 협력회사로 \\n근로환경 관리 범위를 확대하고 있습니다. 또한 2023년 3월 자회사 형 \\n장애인표준사업장 주식 회사 '희망별숲'을 개소하여, 발달 장애인들이 \\n삼성전자 임직원에게 제공되는 쿠키 , 머핀 등 제과 제품을 만들 고 \\n있습니다. 제과 분야를 시작으로 발달장애인들에게 안정적인 일자리를 \\n제공할 예정입니다.\\n무엇보다 올해 지속가능경영보고서는 글로벌 공시규제 프레임워크에 \\n맞춰, 당사의 주요 지속가능경영 이슈를 발 굴하고, 주요 이슈의 관리 \\n체계와 전략, 이행 활동과 현황을 충 실히 전달 하고자 구성하였으며, \\n삼성전자의 지속가능경영 웹사이트와도 긴밀히 연계되도록 하였습니다. \\n삼성전자는 환경, 사회, 경제적 리스크 와 지정학적 불확실성이 일상이 \\n되어버린 시대를 경험 하면서, 지속가능성을 삼성전자가 나아가야할 \\n방향의 흔들리지 않는 지표이자, 사업경쟁력과 기술혁신의 원동력으로 \\n삼고 있습니다. 어려움은 위대함을 키운다(Difficulty is the Nurse of \\nGreatness)는 격언처럼, 삼성전자는 지속가능성을 통해 새로운 도약을 \\n모색하고, 더욱 발전하는 모습으로 이해관계자 여러분의 기대에 부응하기 \\n위해 최선을 다하겠습니다. \\n감사합니다.\\n삼성전자주식회사\\n 대표이사 부회장\\n한종희\\n삼성전자주식회사 \\nDS부문장 부회장\\n전영현\\n Our Company\"),\n",
       " Document(metadata={'producer': 'Adobe PDF Library 15.0', 'creator': 'Adobe InDesign 15.1 (Macintosh)', 'creationdate': '2024-11-25T11:10:32+09:00', 'moddate': '2024-11-25T11:10:46+09:00', 'trapped': '/False', 'source': '../00_data/Sustainability_report_2024_kr.pdf', 'total_pages': 83, 'page': 4, 'page_label': '5', 'class': 'wanted'}, page_content='삼성전자 지속가능경영보고서 2024\\n05\\nOur Company AppendixMateriality Assessment Facts & Figures PrinciplePlanet People\\n회사소개\\nAbout Us\\n삼성전자주식회사(이하 삼성전자)는 인재와 기술을 바탕으로 최고의 제품과 서비스를 창출하여 인류사회에 공헌하는 글로벌 초일류기업을 지향합니다. \\n이를 위해 삼성전자의 경영철학을 반영한 5가지 핵심가치 를 수립하였고, 핵심가치를 세부원칙과 행동지침 으로 구체화하여 삼성전자 임직원이 \\n지켜야 할 글로벌 행동규범(Global Code of Conduct) 을 제정하였습니다. 삼성전자는 조직문화에 5가지 핵심가치를 내재화하고 글로벌 행동규범을 \\n모든 경영활동의 기준으로 삼아 지속적으로 성장해갈 것입니다. \\n사업부문 및 글로벌 네트워크 소개\\n삼성전자는 제품 특성에 따라 DX(Device eXperience)와 DS(Device Solutions) 2개 부문으로 나뉘어 독립적으로 운영되고 있습니다. DX부문은 \\n스마트폰, 네트워크 시스템, 컴퓨터, TV, 냉장고, 세탁기, 에어컨, 의료기기 등 완제품을 생산/판매하고 있으며, DS부문은 메모리 반도체 사업, Foundry \\n사업, System LSI 사업으로 구성되어 DRAM, NAND Flash, 모바일AP 등의 반도체 부품을 생산/판매하고 있습니다. 삼성전자는 2023년 말 기준 전 \\n세계에 232개의 생산거점, 판매거점, R&D 센터, 디자인 센터를 보유하고 있습니다.\\n Our Company\\n매출\\n169조 9,923억 원\\n영업이익\\n14조 3,847억 원 네트워크\\nMobile eXperience 영상디스플레이 생활가전\\n의료기기\\n매출\\n66조 5,945억 원\\n영업이익\\n△14조 8,795억 원\\nFoundry System LSI\\n주요 사업부\\nDevice eXperienceDX\\nDS Device Solutions\\n메모리\\n※ 상기 매출과 영업이익은 2023년 실적을 기준으로, SDC, Harman을 제외하고 작성했습니다.'),\n",
       " Document(metadata={'producer': 'Adobe PDF Library 15.0', 'creator': 'Adobe InDesign 15.1 (Macintosh)', 'creationdate': '2024-11-25T11:10:32+09:00', 'moddate': '2024-11-25T11:10:46+09:00', 'trapped': '/False', 'source': '../00_data/Sustainability_report_2024_kr.pdf', 'total_pages': 83, 'page': 4, 'page_label': '5', 'class': 'wanted'}, page_content='DS Device Solutions\\n메모리\\n※ 상기 매출과 영업이익은 2023년 실적을 기준으로, SDC, Harman을 제외하고 작성했습니다.\\n지역총괄\\n1)\\n판매거점\\n2)\\n생산거점 구매 센터\\n15 109 32 6\\n1) 내부관리 기준에 따른 지역구분  2) 판매법인, 지점 등  3) 물류법인, IP 오피스 등  4) 당사 제품 생산용 부품을 공급하는 기업 \\n임직원 267 ,860명 연구개발비 28.3조 원운영국가 76개국협력회사\\n4)\\n 2,515개\\nR&D 센터 디자인 센터 기타\\n 3)\\n합계\\n40 7 23 232'),\n",
       " Document(metadata={'producer': 'Adobe PDF Library 15.0', 'creator': 'Adobe InDesign 15.1 (Macintosh)', 'creationdate': '2024-11-25T11:10:32+09:00', 'moddate': '2024-11-25T11:10:46+09:00', 'trapped': '/False', 'source': '../00_data/Sustainability_report_2024_kr.pdf', 'total_pages': 83, 'page': 5, 'page_label': '6', 'class': 'wanted'}, page_content='삼성전자 지속가능경영보고서 2024\\n06\\nOur Company AppendixMateriality Assessment Facts & Figures PrinciplePlanet People\\n이해관계자 소통\\nStakeholder \\nEngagement\\n글로벌 기업시민으로서의 책임을 다하기 위해서는 다양한 이해관계자와의 커뮤니케이션이 필수입니다. 삼성전자는 지속가능경영 웹사이트 를 통해 \\n관련 정보를 투명하고 신속하게 공개하고 있습니다. 아울러, 이해관계자 포럼, 설문조사, 현장방문을 통한 의견 청취 등 다양한 활동을 통해 이해관계자에게 \\n지속가능경영 성과를 공유하고, 의견을 청취하며, 협력관계를 구축하기 위해 노력하고 있습니다.\\n이해관계자 중요 관심사 소통 채널 주요 활동\\n고객\\n(일반 소비자, 거래선)\\n·  제품과 서비스 품질\\n·  안전한 제품 사용\\n·  제품 전 생애주기에서의 환경적 영향\\n·  정확한 제품 정보 제공\\n·  투명한 커뮤니케이션\\n·  고객만족도 조사\\n·  컨택센터, 서비스센터\\n·  삼성전자 뉴스룸\\n· 삼성닷컴\\n·  삼성전자 반도체 웹사이트\\n·  지속가능경영 웹사이트\\n·  영업 채널\\n·  제품환경리포트\\n·  품질과 안전성 관리체계 강화\\n·  국가별 홈페이지 구축하여 제품 정보 제공\\n·  고객 VOC 청취 및 해결\\n·  사업부 및 주요 사업장에 지속가능성  \\n담당 인력 배치\\n주주 & 투자자 ·  경제 성과\\n·  리스크 관리\\n·  정보 공시\\n·  ESG 어젠다  \\n(환경, 사회, 거버넌스 등)\\n·  주주총회\\n·  Non-Deal Roadshows, 투자자 미팅\\n·  실적발표\\n·  Investors Forum\\n·  투자자 ESG 로드쇼\\n·  IR 웹사이트\\n·  경영 실적·전망 발표\\n·  주주환원 정책 수립\\n·  공시\\n· 지배구조 정보 공개\\n· 환경·사회 성과 공유\\n· 주주·투자자 의견 수렴\\n임직원 ·  안전하고 건강한 근로환경\\n·  다양성, 형평성, 포용성\\n·  교육과 경력개발\\n·  고용과 복리후생\\n·  노사관계\\n·  일하기 좋은 일터'),\n",
       " Document(metadata={'producer': 'Adobe PDF Library 15.0', 'creator': 'Adobe InDesign 15.1 (Macintosh)', 'creationdate': '2024-11-25T11:10:32+09:00', 'moddate': '2024-11-25T11:10:46+09:00', 'trapped': '/False', 'source': '../00_data/Sustainability_report_2024_kr.pdf', 'total_pages': 83, 'page': 5, 'page_label': '6', 'class': 'wanted'}, page_content='· 주주·투자자 의견 수렴\\n임직원 ·  안전하고 건강한 근로환경\\n·  다양성, 형평성, 포용성\\n·  교육과 경력개발\\n·  고용과 복리후생\\n·  노사관계\\n·  일하기 좋은 일터\\n·  노동조합, 노사협의회\\n·  상담센터\\n·  만족도 조사(조직건강도,  \\n업무몰입도, 직원경험)\\n·  지속가능경영 웹사이트\\n·  경영진과의 대화\\n·  삼성전자 NOW\\n·  사내 소통 채널\\n·  제보시스템(컴플라이언스, 윤리)\\n·  산업안전보건위원회\\n·  경력설계 주기 맞춤형 프로그램 운영\\n·  사업부 타운홀 행사 개최  \\n(경영현황 설명 등)\\n· 단체교섭 활동\\n· 노사관계 자문그룹 운영\\n·  신세대 직원의 경영진 멘토링\\n·  사업장 근로환경 관리\\n·  신뢰와 소통의 조직문화 개선\\n·  Employer Branding 활동\\n·  건강증진 프로그램 운영 \\n(건강강좌, 다이어트 프로그램 등)\\n협력회사 ·  상생협력\\n· 작업환경/안전보건 개선\\n·  공정거래\\n·  근로자 인권보호\\n·  온실가스 감축\\n·  글로벌 구매 통합관리 시스템(G-SRM)\\n·  핫라인, 사이버 신문고\\n·  상생협력데이/간담회\\n·  상생협력 아카데미\\n·  지속가능경영 웹사이트\\n·  자금·기술지원\\n·  인력육성/혁신 지원\\n·  온실가스 감축관리\\n· 근로환경 책임관리\\n· 고충 접수 및 해결\\n지역사회 ·  현지 채용, 지역경제 활성화 등\\n·  간접 경제효과 \\n(투자, 고용 등 파생효과)\\n·  지역사회 환경보호\\n·  기부, 봉사 등 사회공헌 활동\\n·  지역봉사센터\\n·  지속가능경영 웹사이트\\n·  사회공헌 웹사이트 ·  스마트공장 구축 등 중소기업 지원\\n·  사업장 인근 하천생태계 보전활동 실시\\n·  교육과 취업 사회공헌 프로그램 \\n(삼성 희망디딤돌, 삼성 청년 SW 아카데미 등)\\n국제기구,  \\nNGO, 협회,  \\n전문기관\\n· 인권, 환경에 대한 사회적 책임\\n· 업종 간 협력\\n·  기후 대응을 포함한  \\nUN SDGs에 대한 기여\\n·  투명하고 신속한 정보 공개\\n·  기업 간담회\\n·  NGO 미팅\\n·  이해관계자 포럼')]"
      ]
     },
     "execution_count": 24,
     "metadata": {},
     "output_type": "execute_result"
    }
   ],
   "source": [
    "chunk_docs[1:10]"
   ]
  },
  {
   "cell_type": "code",
   "execution_count": null,
   "id": "eed34ef5",
   "metadata": {},
   "outputs": [
    {
     "data": {
      "text/plain": [
       "['f2fdcd3e-d4b4-42a6-8cfd-f9bd1563556a',\n",
       " '9d99530b-af18-4e32-b5f0-2482d53c7938',\n",
       " 'ff0fcd06-3b1d-4759-abc2-d9ad991b3a4c',\n",
       " '7195fd7c-41de-4c05-8d6d-1ebf0b94912a',\n",
       " '0130340e-90e7-4824-9128-17412845d4b6',\n",
       " 'a2ba209d-693c-4fde-9c57-c89aef4ad03f',\n",
       " 'a0b18591-229b-454f-9f55-83b9b364c6ee',\n",
       " 'aa782d75-5291-4553-9e40-a620cd86e7fb',\n",
       " '3b3f1b11-3541-443c-8978-dd908b6562d1']"
      ]
     },
     "execution_count": 25,
     "metadata": {},
     "output_type": "execute_result"
    }
   ],
   "source": [
    "load_db.add_documents(  # 문서 추가\n",
    "    chunk_docs[1:10]\n",
    ")"
   ]
  },
  {
   "cell_type": "code",
   "execution_count": 26,
   "id": "307f7420",
   "metadata": {},
   "outputs": [
    {
     "data": {
      "text/plain": [
       "{0: '2a42c148-49dc-4c23-8d39-141aa76e8a43',\n",
       " 1: 'f2fdcd3e-d4b4-42a6-8cfd-f9bd1563556a',\n",
       " 2: '9d99530b-af18-4e32-b5f0-2482d53c7938',\n",
       " 3: 'ff0fcd06-3b1d-4759-abc2-d9ad991b3a4c',\n",
       " 4: '7195fd7c-41de-4c05-8d6d-1ebf0b94912a',\n",
       " 5: '0130340e-90e7-4824-9128-17412845d4b6',\n",
       " 6: 'a2ba209d-693c-4fde-9c57-c89aef4ad03f',\n",
       " 7: 'a0b18591-229b-454f-9f55-83b9b364c6ee',\n",
       " 8: 'aa782d75-5291-4553-9e40-a620cd86e7fb',\n",
       " 9: '3b3f1b11-3541-443c-8978-dd908b6562d1'}"
      ]
     },
     "execution_count": 26,
     "metadata": {},
     "output_type": "execute_result"
    }
   ],
   "source": [
    "load_db.index_to_docstore_id"
   ]
  },
  {
   "cell_type": "code",
   "execution_count": 27,
   "id": "38b10d6d",
   "metadata": {},
   "outputs": [],
   "source": [
    "vectorstore_db_path = \"../07_vectorstore/samsung_faiss.db\"\n",
    "index_name = \"samsung2025\"\n",
    "load_db.save_local(\n",
    "    folder_path = vectorstore_db_path,\n",
    "    index_name = index_name\n",
    ")"
   ]
  },
  {
   "cell_type": "code",
   "execution_count": 28,
   "id": "5ac7551f",
   "metadata": {},
   "outputs": [
    {
     "data": {
      "text/plain": [
       "{0: '2a42c148-49dc-4c23-8d39-141aa76e8a43',\n",
       " 1: 'f2fdcd3e-d4b4-42a6-8cfd-f9bd1563556a',\n",
       " 2: '9d99530b-af18-4e32-b5f0-2482d53c7938',\n",
       " 3: 'ff0fcd06-3b1d-4759-abc2-d9ad991b3a4c',\n",
       " 4: '7195fd7c-41de-4c05-8d6d-1ebf0b94912a',\n",
       " 5: '0130340e-90e7-4824-9128-17412845d4b6',\n",
       " 6: 'a2ba209d-693c-4fde-9c57-c89aef4ad03f',\n",
       " 7: 'a0b18591-229b-454f-9f55-83b9b364c6ee',\n",
       " 8: 'aa782d75-5291-4553-9e40-a620cd86e7fb',\n",
       " 9: '3b3f1b11-3541-443c-8978-dd908b6562d1'}"
      ]
     },
     "execution_count": 28,
     "metadata": {},
     "output_type": "execute_result"
    }
   ],
   "source": [
    "# 저장된 db 불러오기\n",
    "updated_db = FAISS.load_local(\n",
    "    folder_path = vectorstore_db_path,\n",
    "    index_name = index_name,\n",
    "    embeddings = embeddings,\n",
    "    allow_dangerous_deserialization = True\n",
    ")\n",
    "updated_db.index_to_docstore_id"
   ]
  },
  {
   "cell_type": "code",
   "execution_count": 29,
   "id": "9ce46c16",
   "metadata": {},
   "outputs": [
    {
     "data": {
      "text/plain": [
       "Document(metadata={'producer': 'Adobe PDF Library 15.0', 'creator': 'Adobe InDesign 15.1 (Macintosh)', 'creationdate': '2024-11-25T11:10:32+09:00', 'moddate': '2024-11-25T11:10:46+09:00', 'trapped': '/False', 'source': '../00_data/Sustainability_report_2024_kr.pdf', 'total_pages': 83, 'page': 2, 'page_label': '3', 'class': 'wanted'}, page_content='Our Company\\n04    CEO 메시지\\n05    회사 소개\\xa0\\n06    이해관계자 소통\\n삼성전자 지속가능경영보고서 2024 03Our Company AppendixMateriality Assessment Facts & Figures PrinciplePlanet People')"
      ]
     },
     "execution_count": 29,
     "metadata": {},
     "output_type": "execute_result"
    }
   ],
   "source": [
    "chunk_docs[2]"
   ]
  },
  {
   "cell_type": "code",
   "execution_count": null,
   "id": "06db7366",
   "metadata": {},
   "outputs": [
    {
     "data": {
      "text/plain": [
       "['3c12c578-0596-45d5-97f2-fc49884eb64c',\n",
       " '948c42aa-b55e-4477-b072-6b583fcac8c7']"
      ]
     },
     "execution_count": 30,
     "metadata": {},
     "output_type": "execute_result"
    }
   ],
   "source": [
    "from langchain_core.documents import Document   # LangChain에서 문서(Document) 객체를 사용하기 위해 임포트\n",
    "\n",
    "# 기존 벡터 DB(updated_db)에 새 문서 추가\n",
    "updated_db.add_documents(\n",
    "    [\n",
    "        Document(                                # 첫 번째 문서 객체 생성\n",
    "            page_content = \"새로운 문서는 이렇게 추가하기\",  # 실제 문서 내용 (텍스트)\n",
    "            metadata = {\"source\" : \"수동\"}                # 메타데이터 (출처 정보)\n",
    "        ),\n",
    "        Document(                                # 두 번째 문서 객체 생성\n",
    "            page_content = \"2024년 삼성 전자 주식 사지마세요\",  # 실제 문서 내용\n",
    "            metadata = {\"source\" : \"윤택한\"}                # 메타데이터 (작성자 또는 출처)\n",
    "        )\n",
    "    ]\n",
    ")"
   ]
  },
  {
   "cell_type": "code",
   "execution_count": 31,
   "id": "97712c12",
   "metadata": {},
   "outputs": [
    {
     "data": {
      "text/plain": [
       "{0: '2a42c148-49dc-4c23-8d39-141aa76e8a43',\n",
       " 1: 'f2fdcd3e-d4b4-42a6-8cfd-f9bd1563556a',\n",
       " 2: '9d99530b-af18-4e32-b5f0-2482d53c7938',\n",
       " 3: 'ff0fcd06-3b1d-4759-abc2-d9ad991b3a4c',\n",
       " 4: '7195fd7c-41de-4c05-8d6d-1ebf0b94912a',\n",
       " 5: '0130340e-90e7-4824-9128-17412845d4b6',\n",
       " 6: 'a2ba209d-693c-4fde-9c57-c89aef4ad03f',\n",
       " 7: 'a0b18591-229b-454f-9f55-83b9b364c6ee',\n",
       " 8: 'aa782d75-5291-4553-9e40-a620cd86e7fb',\n",
       " 9: '3b3f1b11-3541-443c-8978-dd908b6562d1',\n",
       " 10: '3c12c578-0596-45d5-97f2-fc49884eb64c',\n",
       " 11: '948c42aa-b55e-4477-b072-6b583fcac8c7'}"
      ]
     },
     "execution_count": 31,
     "metadata": {},
     "output_type": "execute_result"
    }
   ],
   "source": [
    "updated_db.index_to_docstore_id"
   ]
  },
  {
   "cell_type": "code",
   "execution_count": null,
   "id": "47cb0dee",
   "metadata": {},
   "outputs": [
    {
     "data": {
      "text/plain": [
       "{0: '2a42c148-49dc-4c23-8d39-141aa76e8a43',\n",
       " 1: 'f2fdcd3e-d4b4-42a6-8cfd-f9bd1563556a',\n",
       " 2: '9d99530b-af18-4e32-b5f0-2482d53c7938',\n",
       " 3: 'ff0fcd06-3b1d-4759-abc2-d9ad991b3a4c',\n",
       " 4: '7195fd7c-41de-4c05-8d6d-1ebf0b94912a',\n",
       " 5: '0130340e-90e7-4824-9128-17412845d4b6',\n",
       " 6: 'a2ba209d-693c-4fde-9c57-c89aef4ad03f',\n",
       " 7: 'a0b18591-229b-454f-9f55-83b9b364c6ee',\n",
       " 8: 'aa782d75-5291-4553-9e40-a620cd86e7fb',\n",
       " 9: '3b3f1b11-3541-443c-8978-dd908b6562d1',\n",
       " 10: '948c42aa-b55e-4477-b072-6b583fcac8c7'}"
      ]
     },
     "execution_count": 32,
     "metadata": {},
     "output_type": "execute_result"
    }
   ],
   "source": [
    "updated_db.delete(['3c12c578-0596-45d5-97f2-fc49884eb64c']) # 삭제하는 코드\n",
    "updated_db.index_to_docstore_id"
   ]
  },
  {
   "cell_type": "code",
   "execution_count": null,
   "id": "6e348ea1",
   "metadata": {},
   "outputs": [
    {
     "data": {
      "text/plain": [
       "[Document(id='948c42aa-b55e-4477-b072-6b583fcac8c7', metadata={'source': '윤택한'}, page_content='2024년 삼성 전자 주식 사지마세요'),\n",
       " Document(id='9d99530b-af18-4e32-b5f0-2482d53c7938', metadata={'producer': 'Adobe PDF Library 15.0', 'creator': 'Adobe InDesign 15.1 (Macintosh)', 'creationdate': '2024-11-25T11:10:32+09:00', 'moddate': '2024-11-25T11:10:46+09:00', 'trapped': '/False', 'source': '../00_data/Sustainability_report_2024_kr.pdf', 'total_pages': 83, 'page': 2, 'page_label': '3', 'class': 'wanted'}, page_content='Our Company\\n04    CEO 메시지\\n05    회사 소개\\xa0\\n06    이해관계자 소통\\n삼성전자 지속가능경영보고서 2024 03Our Company AppendixMateriality Assessment Facts & Figures PrinciplePlanet People'),\n",
       " Document(id='2a42c148-49dc-4c23-8d39-141aa76e8a43', metadata={'producer': 'Adobe PDF Library 15.0', 'creator': 'Adobe InDesign 15.1 (Macintosh)', 'creationdate': '2024-11-25T11:10:32+09:00', 'moddate': '2024-11-25T11:10:46+09:00', 'trapped': '/False', 'source': '../00_data/Sustainability_report_2024_kr.pdf', 'total_pages': 83, 'page': 0, 'page_label': '1', 'class': 'wanted'}, page_content='A Journey Towards  \\na Sustainable Future\\n삼성전자 지속가능경영보고서 2024'),\n",
       " Document(id='a2ba209d-693c-4fde-9c57-c89aef4ad03f', metadata={'producer': 'Adobe PDF Library 15.0', 'creator': 'Adobe InDesign 15.1 (Macintosh)', 'creationdate': '2024-11-25T11:10:32+09:00', 'moddate': '2024-11-25T11:10:46+09:00', 'trapped': '/False', 'source': '../00_data/Sustainability_report_2024_kr.pdf', 'total_pages': 83, 'page': 4, 'page_label': '5', 'class': 'wanted'}, page_content='삼성전자 지속가능경영보고서 2024\\n05\\nOur Company AppendixMateriality Assessment Facts & Figures PrinciplePlanet People\\n회사소개\\nAbout Us\\n삼성전자주식회사(이하 삼성전자)는 인재와 기술을 바탕으로 최고의 제품과 서비스를 창출하여 인류사회에 공헌하는 글로벌 초일류기업을 지향합니다. \\n이를 위해 삼성전자의 경영철학을 반영한 5가지 핵심가치 를 수립하였고, 핵심가치를 세부원칙과 행동지침 으로 구체화하여 삼성전자 임직원이 \\n지켜야 할 글로벌 행동규범(Global Code of Conduct) 을 제정하였습니다. 삼성전자는 조직문화에 5가지 핵심가치를 내재화하고 글로벌 행동규범을 \\n모든 경영활동의 기준으로 삼아 지속적으로 성장해갈 것입니다. \\n사업부문 및 글로벌 네트워크 소개\\n삼성전자는 제품 특성에 따라 DX(Device eXperience)와 DS(Device Solutions) 2개 부문으로 나뉘어 독립적으로 운영되고 있습니다. DX부문은 \\n스마트폰, 네트워크 시스템, 컴퓨터, TV, 냉장고, 세탁기, 에어컨, 의료기기 등 완제품을 생산/판매하고 있으며, DS부문은 메모리 반도체 사업, Foundry \\n사업, System LSI 사업으로 구성되어 DRAM, NAND Flash, 모바일AP 등의 반도체 부품을 생산/판매하고 있습니다. 삼성전자는 2023년 말 기준 전 \\n세계에 232개의 생산거점, 판매거점, R&D 센터, 디자인 센터를 보유하고 있습니다.\\n Our Company\\n매출\\n169조 9,923억 원\\n영업이익\\n14조 3,847억 원 네트워크\\nMobile eXperience 영상디스플레이 생활가전\\n의료기기\\n매출\\n66조 5,945억 원\\n영업이익\\n△14조 8,795억 원\\nFoundry System LSI\\n주요 사업부\\nDevice eXperienceDX\\nDS Device Solutions\\n메모리\\n※ 상기 매출과 영업이익은 2023년 실적을 기준으로, SDC, Harman을 제외하고 작성했습니다.'),\n",
       " Document(id='a0b18591-229b-454f-9f55-83b9b364c6ee', metadata={'producer': 'Adobe PDF Library 15.0', 'creator': 'Adobe InDesign 15.1 (Macintosh)', 'creationdate': '2024-11-25T11:10:32+09:00', 'moddate': '2024-11-25T11:10:46+09:00', 'trapped': '/False', 'source': '../00_data/Sustainability_report_2024_kr.pdf', 'total_pages': 83, 'page': 4, 'page_label': '5', 'class': 'wanted'}, page_content='DS Device Solutions\\n메모리\\n※ 상기 매출과 영업이익은 2023년 실적을 기준으로, SDC, Harman을 제외하고 작성했습니다.\\n지역총괄\\n1)\\n판매거점\\n2)\\n생산거점 구매 센터\\n15 109 32 6\\n1) 내부관리 기준에 따른 지역구분  2) 판매법인, 지점 등  3) 물류법인, IP 오피스 등  4) 당사 제품 생산용 부품을 공급하는 기업 \\n임직원 267 ,860명 연구개발비 28.3조 원운영국가 76개국협력회사\\n4)\\n 2,515개\\nR&D 센터 디자인 센터 기타\\n 3)\\n합계\\n40 7 23 232')]"
      ]
     },
     "execution_count": 33,
     "metadata": {},
     "output_type": "execute_result"
    }
   ],
   "source": [
    "updated_db.similarity_search(\"삼성\", k=5)\n",
    "# \"삼성\"이라는 검색어를 벡터로 변환해 updated_db(업데이트된 벡터 DB)에 질의\n",
    "# 의미적으로 가장 유사한 문서 5개(k=5)를 검색하여 반환\n",
    "# 반환값은 Document 객체 리스트이며, 각 객체에는 텍스트(page_content)와 메타데이터(metadata)가 포함됨"
   ]
  },
  {
   "cell_type": "markdown",
   "id": "7dd18272",
   "metadata": {},
   "source": [
    "### 벡터 스토어 합치기\n",
    "\n",
    "- 물리적 합치기\n",
    "- 검색기만 하이브리드로 사용"
   ]
  },
  {
   "cell_type": "code",
   "execution_count": 34,
   "id": "051177d8",
   "metadata": {},
   "outputs": [],
   "source": [
    "# 2024년 데이터를 앞에서 10개 -> db1\n",
    "# 2024년 데이터를 11~20 -> db2\n",
    "# 이 두 벡터 스토어를 합쳐서 -> db3"
   ]
  },
  {
   "cell_type": "code",
   "execution_count": null,
   "id": "c02189d9",
   "metadata": {},
   "outputs": [],
   "source": [
    "db1 = FAISS.from_documents(    # 첫 번째 FAISS 벡터 데이터베이스 생성\n",
    "    chunk_docs[:10],           # chunk_docs 리스트의 앞부분(0~9번째 문서 10개)만 사용\n",
    "    embedding = embeddings     # 문서를 벡터로 변환할 임베딩 모델 지정\n",
    ")\n",
    "\n",
    "db2 = FAISS.from_documents(    # 두 번째 FAISS 벡터 데이터베이스 생성\n",
    "    chunk_docs[10:20],         # chunk_docs 리스트의 다음 부분(10~19번째 문서 10개) 사용\n",
    "    embedding = embeddings     # 동일한 임베딩 모델 사용\n",
    ")\n"
   ]
  },
  {
   "cell_type": "code",
   "execution_count": 36,
   "id": "9c46dec2",
   "metadata": {},
   "outputs": [],
   "source": [
    "# 1. 새로운 공간에 합친 데이터베이스를 만들기 -> db3\n",
    "# db1 에 db2 를 합쳐버리기"
   ]
  },
  {
   "cell_type": "code",
   "execution_count": null,
   "id": "3959b853",
   "metadata": {},
   "outputs": [
    {
     "data": {
      "text/plain": [
       "{0: 'cb5cc75b-a3ee-4594-86ed-83409f591bbe',\n",
       " 1: '2a6ff3f1-102b-411b-ad22-be5bc4f1728c',\n",
       " 2: '2c4ba470-0944-47d3-97d8-52299ee03e8e',\n",
       " 3: '71489837-7c5d-49e4-97f2-8858e8b1caa9',\n",
       " 4: '97c2561b-8d9b-4a75-8735-a74783d22714',\n",
       " 5: 'a580577e-9ec6-48bf-9a0b-f0694a293537',\n",
       " 6: '0d4a051d-f022-4b5a-893c-dfa97229f519',\n",
       " 7: '3def8bbd-1b3d-4265-b095-3001bf2f36cd',\n",
       " 8: '7e4a6035-309f-41b4-b232-df630174a3eb',\n",
       " 9: '64244995-3a4f-438e-a35b-26b3cbc04be3',\n",
       " 10: '48177335-76b9-4a51-b2ac-cb980324ae2a',\n",
       " 11: 'dfb86749-0d4e-4360-be8c-822a1c8bc18e',\n",
       " 12: '8ee833f6-1c3e-4347-b914-8fd4ed1cad36',\n",
       " 13: 'a2652702-d08f-4331-9ae1-6c615de3b136',\n",
       " 14: '1bb0e3c5-edaf-418b-958e-0194bee66409',\n",
       " 15: '49ec62a9-1f07-4410-8d24-c72c5f5b9e95',\n",
       " 16: 'af3ef049-a5a9-437b-bc71-527df550887e',\n",
       " 17: 'd2f6a238-f695-41d5-82c4-f6872cdc2622',\n",
       " 18: '3f1bbce7-e9c7-4485-be88-aa8719cf02fb',\n",
       " 19: '0a19ee06-09bb-4374-8fe7-2a6ff4778c66'}"
      ]
     },
     "execution_count": 37,
     "metadata": {},
     "output_type": "execute_result"
    }
   ],
   "source": [
    "db1.merge_from(     # 두 개의 벡터 데이터베이스를 합치는 메서드\n",
    "    target = db2    # db2의 내용을 db1에 병합 (db1 ← db2)\n",
    ")\n",
    "\n",
    "db1.index_to_docstore_id   # 병합된 db1의 내부 인덱스와 문서 ID 매핑 관계 확인"
   ]
  },
  {
   "cell_type": "code",
   "execution_count": 38,
   "id": "0f16393d",
   "metadata": {},
   "outputs": [
    {
     "data": {
      "text/plain": [
       "{0: '48177335-76b9-4a51-b2ac-cb980324ae2a',\n",
       " 1: 'dfb86749-0d4e-4360-be8c-822a1c8bc18e',\n",
       " 2: '8ee833f6-1c3e-4347-b914-8fd4ed1cad36',\n",
       " 3: 'a2652702-d08f-4331-9ae1-6c615de3b136',\n",
       " 4: '1bb0e3c5-edaf-418b-958e-0194bee66409',\n",
       " 5: '49ec62a9-1f07-4410-8d24-c72c5f5b9e95',\n",
       " 6: 'af3ef049-a5a9-437b-bc71-527df550887e',\n",
       " 7: 'd2f6a238-f695-41d5-82c4-f6872cdc2622',\n",
       " 8: '3f1bbce7-e9c7-4485-be88-aa8719cf02fb',\n",
       " 9: '0a19ee06-09bb-4374-8fe7-2a6ff4778c66'}"
      ]
     },
     "execution_count": 38,
     "metadata": {},
     "output_type": "execute_result"
    }
   ],
   "source": [
    "db2.index_to_docstore_id"
   ]
  },
  {
   "cell_type": "code",
   "execution_count": null,
   "id": "db3b2cfd",
   "metadata": {},
   "outputs": [],
   "source": [
    "# 만약에 나는 전혀 다른 db3 에다가 만들고 싶어\n",
    "db3 = FAISS(                                # 새로운 FAISS 벡터 데이터베이스 객체 생성\n",
    "    docstore = InMemoryDocstore(),          # 메모리 기반 문서 저장소 (문서 내용 저장용)\n",
    "    index_to_docstore_id = {},              # 인덱스 번호와 문서 ID를 매핑할 빈 딕셔너리\n",
    "    embedding_function = embeddings,        # 텍스트를 벡터로 변환할 임베딩 모델 지정\n",
    "    index = faiss.IndexFlatL2(dim_size)     # L2 거리(유클리드 거리) 기반의 벡터 검색 인덱스 생성\n",
    ")"
   ]
  },
  {
   "cell_type": "code",
   "execution_count": 40,
   "id": "da853c68",
   "metadata": {},
   "outputs": [
    {
     "data": {
      "text/plain": [
       "{0: '48177335-76b9-4a51-b2ac-cb980324ae2a',\n",
       " 1: 'dfb86749-0d4e-4360-be8c-822a1c8bc18e',\n",
       " 2: '8ee833f6-1c3e-4347-b914-8fd4ed1cad36',\n",
       " 3: 'a2652702-d08f-4331-9ae1-6c615de3b136',\n",
       " 4: '1bb0e3c5-edaf-418b-958e-0194bee66409',\n",
       " 5: '49ec62a9-1f07-4410-8d24-c72c5f5b9e95',\n",
       " 6: 'af3ef049-a5a9-437b-bc71-527df550887e',\n",
       " 7: 'd2f6a238-f695-41d5-82c4-f6872cdc2622',\n",
       " 8: '3f1bbce7-e9c7-4485-be88-aa8719cf02fb',\n",
       " 9: '0a19ee06-09bb-4374-8fe7-2a6ff4778c66'}"
      ]
     },
     "execution_count": 40,
     "metadata": {},
     "output_type": "execute_result"
    }
   ],
   "source": [
    "db3.merge_from(\n",
    "    target=db2\n",
    ")\n",
    "db2.index_to_docstore_id"
   ]
  },
  {
   "cell_type": "code",
   "execution_count": null,
   "id": "aa10f8af",
   "metadata": {},
   "outputs": [],
   "source": [
    "\"samsung2025::5aa19b24-ee08-419f-a766-8666d44a3d9c\""
   ]
  }
 ],
 "metadata": {
  "kernelspec": {
   "display_name": "10_LangChain-Study",
   "language": "python",
   "name": "python3"
  },
  "language_info": {
   "codemirror_mode": {
    "name": "ipython",
    "version": 3
   },
   "file_extension": ".py",
   "mimetype": "text/x-python",
   "name": "python",
   "nbconvert_exporter": "python",
   "pygments_lexer": "ipython3",
   "version": "3.11.13"
  }
 },
 "nbformat": 4,
 "nbformat_minor": 5
}
